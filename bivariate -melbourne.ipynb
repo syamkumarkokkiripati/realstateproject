{
 "cells": [
  {
   "cell_type": "code",
   "execution_count": 1,
   "metadata": {},
   "outputs": [
    {
     "data": {
      "text/plain": [
       "\n",
       "      Banyule       Bayside    Boroondara      Brimbank       Darebin \n",
       "          441           311           795           261           695 \n",
       "    Glen Eira   Hobsons Bay          Hume      Kingston    Manningham \n",
       "          581           308            20            64           212 \n",
       "  Maribyrnong     Melbourne        Monash Moonee Valley      Moreland \n",
       "          490           117           192           674           890 \n",
       " Port Phillip   Stonnington    Whitehorse         Yarra \n",
       "          270           423           167           362 "
      ]
     },
     "metadata": {},
     "output_type": "display_data"
    },
    {
     "name": "stdout",
     "output_type": "stream",
     "text": [
      "'data.frame':\t10089 obs. of  4 variables:\n",
      " $ Type       : Factor w/ 3 levels \"h\",\"t\",\"u\": 1 1 1 1 1 1 1 1 1 1 ...\n",
      " $ Price      : num  1076961 1480000 1035000 1465000 1600000 ...\n",
      " $ Method     : Factor w/ 9 levels \"PI\",\"PN\",\"S\",..: 7 3 3 6 8 5 3 3 3 3 ...\n",
      " $ CouncilArea: Factor w/ 19 levels \"Banyule\",\"Bayside\",..: 19 19 19 19 19 19 19 19 19 19 ...\n"
     ]
    }
   ],
   "source": [
    "bivar <- read.csv(\"D:RE723.csv\")\n",
    "\n",
    "table(bivar$CouncilArea)\n",
    "bivar$CouncilArea[is.na(bivar$CouncilArea)] <- 'Moreland'\n",
    "\n",
    "bivar<- bivar[c(5,6,7,18)]\n",
    "str(bivar)\n",
    "\n",
    "\n"
   ]
  },
  {
   "cell_type": "code",
   "execution_count": 2,
   "metadata": {},
   "outputs": [
    {
     "name": "stderr",
     "output_type": "stream",
     "text": [
      "Warning message in chisq.test(bivar$Type, bivar$Method):\n",
      "\"Chi-squared approximation may be incorrect\""
     ]
    },
    {
     "data": {
      "text/plain": [
       "\n",
       "\tPearson's Chi-squared test\n",
       "\n",
       "data:  bivar$Type and bivar$Method\n",
       "X-squared = 166.5, df = 16, p-value < 2.2e-16\n"
      ]
     },
     "metadata": {},
     "output_type": "display_data"
    },
    {
     "name": "stderr",
     "output_type": "stream",
     "text": [
      "Warning message in chisq.test(bivar$Method, bivar$CouncilArea):\n",
      "\"Chi-squared approximation may be incorrect\""
     ]
    },
    {
     "data": {
      "text/plain": [
       "\n",
       "\tPearson's Chi-squared test\n",
       "\n",
       "data:  bivar$Method and bivar$CouncilArea\n",
       "X-squared = 496.09, df = 144, p-value < 2.2e-16\n"
      ]
     },
     "metadata": {},
     "output_type": "display_data"
    },
    {
     "name": "stderr",
     "output_type": "stream",
     "text": [
      "Warning message in chisq.test(bivar$Type, bivar$CouncilArea):\n",
      "\"Chi-squared approximation may be incorrect\""
     ]
    },
    {
     "data": {
      "text/plain": [
       "\n",
       "\tPearson's Chi-squared test\n",
       "\n",
       "data:  bivar$Type and bivar$CouncilArea\n",
       "X-squared = 810.68, df = 36, p-value < 2.2e-16\n"
      ]
     },
     "metadata": {},
     "output_type": "display_data"
    }
   ],
   "source": [
    "#we will do chisquare between 3 categories.\n",
    "\n",
    "ch.test1<- chisq.test(bivar$Type,bivar$Method)\n",
    "ch.test1\n",
    "\n",
    "ch.test2<- chisq.test(bivar$Method,bivar$CouncilArea)\n",
    "ch.test2\n",
    "\n",
    "ch.test3<- chisq.test(bivar$Type,bivar$CouncilArea)\n",
    "ch.test3\n",
    "\n"
   ]
  },
  {
   "cell_type": "code",
   "execution_count": 3,
   "metadata": {},
   "outputs": [
    {
     "data": {
      "text/plain": [
       "Call:\n",
       "   aov(formula = Price ~ Type, data = bivar)\n",
       "\n",
       "Terms:\n",
       "                        Type    Residuals\n",
       "Sum of Squares  1.848723e+14 1.220672e+15\n",
       "Deg. of Freedom            2        10062\n",
       "\n",
       "Residual standard error: 348303.1\n",
       "Estimated effects may be unbalanced\n",
       "24 observations deleted due to missingness"
      ]
     },
     "metadata": {},
     "output_type": "display_data"
    },
    {
     "data": {
      "text/plain": [
       "Call:\n",
       "   aov(formula = Price ~ Method, data = bivar)\n",
       "\n",
       "Terms:\n",
       "                      Method    Residuals\n",
       "Sum of Squares  1.092573e+13 1.394653e+15\n",
       "Deg. of Freedom            8        10080\n",
       "\n",
       "Residual standard error: 371965.6\n",
       "Estimated effects may be unbalanced"
      ]
     },
     "metadata": {},
     "output_type": "display_data"
    },
    {
     "data": {
      "text/plain": [
       "Call:\n",
       "   aov(formula = Price ~ CouncilArea, data = bivar)\n",
       "\n",
       "Terms:\n",
       "                 CouncilArea    Residuals\n",
       "Sum of Squares  2.512133e+14 1.154365e+15\n",
       "Deg. of Freedom           18        10070\n",
       "\n",
       "Residual standard error: 338576.6\n",
       "Estimated effects may be unbalanced"
      ]
     },
     "metadata": {},
     "output_type": "display_data"
    }
   ],
   "source": [
    "#anova\n",
    "test.a1<- aov(Price~Type,data=bivar)\n",
    "test.a1\n",
    "\n",
    "test.a2<- aov(Price~Method,data=bivar)\n",
    "test.a2\n",
    "\n",
    "test.a3<- aov(Price~CouncilArea,data=bivar)\n",
    "test.a3"
   ]
  },
  {
   "cell_type": "code",
   "execution_count": null,
   "metadata": {},
   "outputs": [],
   "source": []
  }
 ],
 "metadata": {
  "kernelspec": {
   "display_name": "R",
   "language": "R",
   "name": "ir"
  },
  "language_info": {
   "codemirror_mode": "r",
   "file_extension": ".r",
   "mimetype": "text/x-r-source",
   "name": "R",
   "pygments_lexer": "r",
   "version": "3.5.1"
  }
 },
 "nbformat": 4,
 "nbformat_minor": 2
}
