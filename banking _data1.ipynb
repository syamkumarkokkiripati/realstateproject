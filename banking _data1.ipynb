{
 "cells": [
  {
   "cell_type": "code",
   "execution_count": 1,
   "metadata": {},
   "outputs": [],
   "source": [
    "import numpy as np\n",
    "import pandas as pd\n",
    "import matplotlib.pyplot as plt\n",
    "\n"
   ]
  },
  {
   "cell_type": "code",
   "execution_count": 2,
   "metadata": {},
   "outputs": [
    {
     "name": "stdout",
     "output_type": "stream",
     "text": [
      "<class 'pandas.core.frame.DataFrame'>\n",
      "RangeIndex: 41188 entries, 0 to 41187\n",
      "Data columns (total 21 columns):\n",
      "age               41188 non-null int64\n",
      "job               41188 non-null object\n",
      "marital           41188 non-null object\n",
      "education         41188 non-null object\n",
      "default           41188 non-null object\n",
      "housing           41188 non-null object\n",
      "loan              41188 non-null object\n",
      "contact           41188 non-null object\n",
      "month             41188 non-null object\n",
      "day_of_week       41188 non-null object\n",
      "duration          41188 non-null int64\n",
      "campaign          41188 non-null int64\n",
      "pdays             41188 non-null int64\n",
      "previous          41188 non-null int64\n",
      "poutcome          41188 non-null object\n",
      "emp_var_rate      41188 non-null float64\n",
      "cons_price_idx    41188 non-null float64\n",
      "cons_conf_idx     41188 non-null float64\n",
      "euribor3m         41188 non-null float64\n",
      "nr_employed       41188 non-null float64\n",
      "y                 41188 non-null int64\n",
      "dtypes: float64(5), int64(6), object(10)\n",
      "memory usage: 6.6+ MB\n"
     ]
    }
   ],
   "source": [
    "bankingdata=pd.read_csv(\"E:\\\\credit\\\\banking1.csv\")\n",
    "bankingdata.info()\n"
   ]
  },
  {
   "cell_type": "code",
   "execution_count": 3,
   "metadata": {},
   "outputs": [
    {
     "data": {
      "text/plain": [
       "0    36548\n",
       "1     4640\n",
       "Name: y, dtype: int64"
      ]
     },
     "execution_count": 3,
     "metadata": {},
     "output_type": "execute_result"
    }
   ],
   "source": [
    "target_count=bankingdata['y'].value_counts()\n",
    "target_count"
   ]
  },
  {
   "cell_type": "code",
   "execution_count": 4,
   "metadata": {},
   "outputs": [],
   "source": [
    "# Separate majority and minority classes\n",
    "bankingdata_majority = bankingdata[bankingdata.y==0]\n",
    "bankingdata_minority = bankingdata[bankingdata.y==1]"
   ]
  },
  {
   "cell_type": "code",
   "execution_count": 5,
   "metadata": {},
   "outputs": [],
   "source": [
    "from sklearn.utils import resample\n",
    "# Downsample majority class\n",
    "bankingdata_majority_downsampled = resample(bankingdata_majority, \n",
    "                                 replace=False,    # sample without replacement\n",
    "                                 n_samples=4640,     # to match minority class\n",
    "                                 random_state=123) # reproducible results\n"
   ]
  },
  {
   "cell_type": "code",
   "execution_count": 6,
   "metadata": {},
   "outputs": [],
   "source": [
    "# Combine minority class with downsampled majority class\n",
    "df_downsampled = pd.concat([bankingdata_majority_downsampled, bankingdata_minority])"
   ]
  },
  {
   "cell_type": "code",
   "execution_count": 7,
   "metadata": {},
   "outputs": [
    {
     "data": {
      "text/plain": [
       "1    4640\n",
       "0    4640\n",
       "Name: y, dtype: int64"
      ]
     },
     "execution_count": 7,
     "metadata": {},
     "output_type": "execute_result"
    }
   ],
   "source": [
    "# Display new class counts\n",
    "df_downsampled.y.value_counts()"
   ]
  },
  {
   "cell_type": "code",
   "execution_count": 8,
   "metadata": {},
   "outputs": [
    {
     "data": {
      "text/plain": [
       "<bound method DataFrame.info of        age            job   marital            education  default  housing  \\\n",
       "37828   39     unemployed   married          high.school       no      yes   \n",
       "15711   57     management  divorced    university.degree  unknown       no   \n",
       "21459   47         admin.   married          high.school  unknown       no   \n",
       "3234    45         admin.    single    university.degree       no       no   \n",
       "21915   48    blue-collar   married             basic.6y       no       no   \n",
       "18013   34     unemployed   married             basic.9y  unknown      yes   \n",
       "1905    29     management    single    university.degree       no       no   \n",
       "14794   49         admin.   married          high.school       no       no   \n",
       "12700   37         admin.   married    university.degree       no      yes   \n",
       "21199   51         admin.   married             basic.9y  unknown      yes   \n",
       "8890    29       services   married          high.school       no      yes   \n",
       "40511   59    blue-collar   married             basic.4y  unknown       no   \n",
       "29859   28     technician    single    university.degree       no       no   \n",
       "26126   33     technician    single  professional.course       no       no   \n",
       "40223   52         admin.  divorced    university.degree  unknown      yes   \n",
       "30742   35    blue-collar   married             basic.6y       no       no   \n",
       "12943   38    blue-collar    single          high.school       no       no   \n",
       "37934   30    blue-collar   married             basic.4y       no      yes   \n",
       "39138   50         admin.  divorced    university.degree       no       no   \n",
       "6835    52         admin.   married          high.school       no       no   \n",
       "9122    35         admin.   married          high.school       no      yes   \n",
       "6752    59        retired   married  professional.course       no       no   \n",
       "10113   36      housemaid    single          high.school       no      yes   \n",
       "18656   57     technician   married          high.school       no       no   \n",
       "18345   40         admin.   married          high.school       no       no   \n",
       "24032   46     technician   married          high.school       no       no   \n",
       "3932    35         admin.   married    university.degree       no  unknown   \n",
       "9951    40         admin.    single          high.school  unknown       no   \n",
       "12578   29     management    single    university.degree       no      yes   \n",
       "6420    44       services   married             basic.9y  unknown       no   \n",
       "...    ...            ...       ...                  ...      ...      ...   \n",
       "40857   34         admin.   married    university.degree       no      yes   \n",
       "40895   32       services    single    university.degree       no       no   \n",
       "40898   45    blue-collar   married             basic.4y       no       no   \n",
       "40901   88        retired  divorced             basic.4y       no      yes   \n",
       "40906   75        retired  divorced             basic.4y       no       no   \n",
       "40907   66        retired   married             basic.4y       no      yes   \n",
       "40923   34         admin.    single    university.degree       no      yes   \n",
       "40928   58        retired   married          high.school       no       no   \n",
       "40930   21        student    single          high.school       no       no   \n",
       "40935   29  self-employed   married    university.degree       no      yes   \n",
       "40963   52         admin.   married  professional.course       no       no   \n",
       "40965   36       services  divorced          high.school       no       no   \n",
       "40972   58        retired   married             basic.4y       no       no   \n",
       "40985   31         admin.   married          high.school       no       no   \n",
       "40987   56         admin.   married             basic.9y       no      yes   \n",
       "40993   57        retired   married             basic.9y       no      yes   \n",
       "41001   82      housemaid   married             basic.4y       no       no   \n",
       "41049   39         admin.    single          high.school       no      yes   \n",
       "41050   42        retired  divorced           illiterate       no       no   \n",
       "41051   59         admin.   married              unknown       no       no   \n",
       "41061   19        student    single             basic.9y       no      yes   \n",
       "41078   20        student    single             basic.4y       no      yes   \n",
       "41086   40  self-employed   married    university.degree  unknown      yes   \n",
       "41100   26    blue-collar    single             basic.9y       no       no   \n",
       "41111   30     technician   married    university.degree       no      yes   \n",
       "41125   40         admin.   married    university.degree       no       no   \n",
       "41129   55    blue-collar   married             basic.4y  unknown      yes   \n",
       "41130   28  self-employed   married             basic.9y       no      yes   \n",
       "41172   27    blue-collar    single             basic.9y  unknown      yes   \n",
       "41178   35     technician   married          high.school       no       no   \n",
       "\n",
       "          loan    contact month day_of_week ...  campaign  pdays  previous  \\\n",
       "37828       no  telephone   may         fri ...         1    999         0   \n",
       "15711      yes   cellular   jul         mon ...         1    999         0   \n",
       "21459       no   cellular   aug         fri ...         3    999         0   \n",
       "3234        no   cellular   nov         fri ...         3    999         0   \n",
       "21915       no  telephone   may         fri ...         1    999         0   \n",
       "18013       no   cellular   apr         fri ...         1    999         1   \n",
       "1905        no   cellular   nov         tue ...         1    999         0   \n",
       "14794       no   cellular   aug         tue ...        13    999         0   \n",
       "12700       no  telephone   jun         mon ...         1    999         0   \n",
       "21199       no  telephone   jun         fri ...         7    999         0   \n",
       "8890        no   cellular   aug         wed ...         2      4         1   \n",
       "40511       no   cellular   aug         wed ...         2    999         0   \n",
       "29859       no   cellular   may         thu ...         2    999         0   \n",
       "26126       no   cellular   aug         thu ...         1    999         0   \n",
       "40223       no   cellular   jul         tue ...         2    999         0   \n",
       "30742       no   cellular   apr         fri ...         3    999         1   \n",
       "12943       no   cellular   aug         tue ...         2    999         0   \n",
       "37934       no   cellular   nov         wed ...         5    999         0   \n",
       "39138       no   cellular   aug         tue ...         4    999         0   \n",
       "6835        no   cellular   aug         wed ...         6    999         0   \n",
       "9122        no  telephone   may         mon ...         4    999         0   \n",
       "6752        no   cellular   aug         thu ...         1    999         0   \n",
       "10113       no   cellular   jul         tue ...         5    999         0   \n",
       "18656       no   cellular   apr         wed ...         1    999         0   \n",
       "18345       no  telephone   may         fri ...         1    999         0   \n",
       "24032       no   cellular   may         mon ...         5      3         1   \n",
       "3932   unknown  telephone   may         tue ...         3    999         0   \n",
       "9951        no  telephone   jun         mon ...         2    999         0   \n",
       "12578       no   cellular   may         tue ...         1    999         0   \n",
       "6420        no  telephone   jun         wed ...         8    999         0   \n",
       "...        ...        ...   ...         ... ...       ...    ...       ...   \n",
       "40857       no   cellular   jul         thu ...         1    999         2   \n",
       "40895      yes   cellular   may         fri ...         3    999         0   \n",
       "40898       no   cellular   aug         fri ...         2    999         0   \n",
       "40901       no   cellular   mar         wed ...         1    999         0   \n",
       "40906       no   cellular   apr         mon ...         4    999         0   \n",
       "40907       no   cellular   nov         mon ...         1      7         1   \n",
       "40923       no   cellular   jul         tue ...         3    999         0   \n",
       "40928       no   cellular   aug         tue ...         2    999         0   \n",
       "40930       no   cellular   oct         tue ...         1    999         0   \n",
       "40935       no   cellular   mar         wed ...         4    999         0   \n",
       "40963       no   cellular   sep         wed ...         2    999         0   \n",
       "40965       no   cellular   jul         wed ...         2    999         0   \n",
       "40972       no   cellular   apr         wed ...         1    999         0   \n",
       "40985       no   cellular   jul         thu ...         1    999         0   \n",
       "40987       no   cellular   apr         thu ...         2    999         0   \n",
       "40993      yes   cellular   aug         tue ...         4    999         0   \n",
       "41001       no  telephone   sep         tue ...         3      3         2   \n",
       "41049       no   cellular   mar         tue ...         3    999         0   \n",
       "41050       no  telephone   aug         wed ...         3    999         0   \n",
       "41051      yes   cellular   sep         mon ...         4    999         1   \n",
       "41061       no   cellular   may         fri ...         1    999         0   \n",
       "41078      yes   cellular   apr         tue ...         4      6         1   \n",
       "41086      yes   cellular   nov         thu ...         3    999         0   \n",
       "41100       no  telephone   may         fri ...         1    999         0   \n",
       "41111       no   cellular   dec         thu ...         2      6         1   \n",
       "41125       no   cellular   may         mon ...         4    999         0   \n",
       "41129       no  telephone   jun         fri ...         2    999         0   \n",
       "41130       no   cellular   may         fri ...         5    999         0   \n",
       "41172       no   cellular   jul         wed ...         4    999         0   \n",
       "41178       no  telephone   aug         fri ...         1    999         0   \n",
       "\n",
       "          poutcome emp_var_rate  cons_price_idx  cons_conf_idx  euribor3m  \\\n",
       "37828  nonexistent          1.1          93.994          -36.4      4.855   \n",
       "15711  nonexistent          1.4          93.918          -42.7      4.960   \n",
       "21459  nonexistent          1.4          93.444          -36.1      4.966   \n",
       "3234   nonexistent         -0.1          93.200          -42.0      4.021   \n",
       "21915  nonexistent          1.1          93.994          -36.4      4.864   \n",
       "18013      failure         -1.8          93.075          -47.1      1.405   \n",
       "1905   nonexistent         -0.1          93.200          -42.0      4.153   \n",
       "14794  nonexistent          1.4          93.444          -36.1      4.963   \n",
       "12700  nonexistent         -1.7          94.055          -39.8      0.720   \n",
       "21199  nonexistent          1.4          94.465          -41.8      4.967   \n",
       "8890       success         -2.9          92.201          -31.4      0.879   \n",
       "40511  nonexistent          1.4          93.444          -36.1      4.965   \n",
       "29859  nonexistent         -1.8          92.893          -46.2      1.270   \n",
       "26126  nonexistent          1.4          93.444          -36.1      4.964   \n",
       "40223  nonexistent          1.4          93.918          -42.7      4.962   \n",
       "30742      failure         -1.8          93.075          -47.1      1.405   \n",
       "12943  nonexistent          1.4          93.444          -36.1      4.968   \n",
       "37934  nonexistent         -0.1          93.200          -42.0      4.120   \n",
       "39138  nonexistent          1.4          93.444          -36.1      4.963   \n",
       "6835   nonexistent          1.4          93.444          -36.1      4.964   \n",
       "9122   nonexistent          1.1          93.994          -36.4      4.857   \n",
       "6752   nonexistent          1.4          93.444          -36.1      4.968   \n",
       "10113  nonexistent          1.4          93.918          -42.7      4.961   \n",
       "18656  nonexistent         -1.8          93.075          -47.1      1.415   \n",
       "18345  nonexistent          1.1          93.994          -36.4      4.864   \n",
       "24032      success         -1.8          92.893          -46.2      1.354   \n",
       "3932   nonexistent          1.1          93.994          -36.4      4.857   \n",
       "9951   nonexistent          1.4          94.465          -41.8      4.960   \n",
       "12578  nonexistent         -1.8          92.893          -46.2      1.266   \n",
       "6420   nonexistent          1.4          94.465          -41.8      4.959   \n",
       "...            ...          ...             ...            ...        ...   \n",
       "40857      failure         -1.7          94.215          -40.3      0.810   \n",
       "40895  nonexistent         -1.8          93.876          -40.0      0.699   \n",
       "40898  nonexistent          1.4          93.444          -36.1      4.966   \n",
       "40901  nonexistent         -1.8          92.843          -50.0      1.663   \n",
       "40906  nonexistent         -1.8          93.075          -47.1      1.405   \n",
       "40907      success         -3.4          92.649          -30.1      0.714   \n",
       "40923  nonexistent          1.4          93.918          -42.7      4.962   \n",
       "40928  nonexistent         -2.9          92.201          -31.4      0.838   \n",
       "40930  nonexistent         -1.1          94.601          -49.5      0.982   \n",
       "40935  nonexistent         -1.8          92.843          -50.0      1.663   \n",
       "40963  nonexistent         -1.1          94.199          -37.5      0.876   \n",
       "40965  nonexistent          1.4          93.918          -42.7      4.963   \n",
       "40972  nonexistent         -1.8          93.749          -34.6      0.639   \n",
       "40985  nonexistent          1.4          93.918          -42.7      4.963   \n",
       "40987  nonexistent         -1.8          93.075          -47.1      1.410   \n",
       "40993  nonexistent          1.4          93.444          -36.1      4.965   \n",
       "41001      success         -1.1          94.199          -37.5      0.877   \n",
       "41049  nonexistent         -1.8          92.843          -50.0      1.687   \n",
       "41050  nonexistent         -2.9          92.201          -31.4      0.834   \n",
       "41051      failure         -3.4          92.379          -29.8      0.797   \n",
       "41061  nonexistent         -1.8          92.893          -46.2      1.259   \n",
       "41078      success         -1.8          93.749          -34.6      0.644   \n",
       "41086  nonexistent         -0.1          93.200          -42.0      4.076   \n",
       "41100  nonexistent          1.1          93.994          -36.4      4.859   \n",
       "41111      success         -3.0          92.713          -33.0      0.720   \n",
       "41125  nonexistent         -1.8          92.893          -46.2      1.354   \n",
       "41129  nonexistent          1.4          94.465          -41.8      4.959   \n",
       "41130  nonexistent         -1.8          92.893          -46.2      1.250   \n",
       "41172  nonexistent          1.4          93.918          -42.7      4.963   \n",
       "41178  nonexistent          1.4          93.444          -36.1      4.966   \n",
       "\n",
       "       nr_employed  y  \n",
       "37828       5191.0  0  \n",
       "15711       5228.1  0  \n",
       "21459       5228.1  0  \n",
       "3234        5195.8  0  \n",
       "21915       5191.0  0  \n",
       "18013       5099.1  0  \n",
       "1905        5195.8  0  \n",
       "14794       5228.1  0  \n",
       "12700       4991.6  0  \n",
       "21199       5228.1  0  \n",
       "8890        5076.2  0  \n",
       "40511       5228.1  0  \n",
       "29859       5099.1  0  \n",
       "26126       5228.1  0  \n",
       "40223       5228.1  0  \n",
       "30742       5099.1  0  \n",
       "12943       5228.1  0  \n",
       "37934       5195.8  0  \n",
       "39138       5228.1  0  \n",
       "6835        5228.1  0  \n",
       "9122        5191.0  0  \n",
       "6752        5228.1  0  \n",
       "10113       5228.1  0  \n",
       "18656       5099.1  0  \n",
       "18345       5191.0  0  \n",
       "24032       5099.1  0  \n",
       "3932        5191.0  0  \n",
       "9951        5228.1  0  \n",
       "12578       5099.1  0  \n",
       "6420        5228.1  0  \n",
       "...            ... ..  \n",
       "40857       4991.6  1  \n",
       "40895       5008.7  1  \n",
       "40898       5228.1  1  \n",
       "40901       5099.1  1  \n",
       "40906       5099.1  1  \n",
       "40907       5017.5  1  \n",
       "40923       5228.1  1  \n",
       "40928       5076.2  1  \n",
       "40930       4963.6  1  \n",
       "40935       5099.1  1  \n",
       "40963       4963.6  1  \n",
       "40965       5228.1  1  \n",
       "40972       5008.7  1  \n",
       "40985       5228.1  1  \n",
       "40987       5099.1  1  \n",
       "40993       5228.1  1  \n",
       "41001       4963.6  1  \n",
       "41049       5099.1  1  \n",
       "41050       5076.2  1  \n",
       "41051       5017.5  1  \n",
       "41061       5099.1  1  \n",
       "41078       5008.7  1  \n",
       "41086       5195.8  1  \n",
       "41100       5191.0  1  \n",
       "41111       5023.5  1  \n",
       "41125       5099.1  1  \n",
       "41129       5228.1  1  \n",
       "41130       5099.1  1  \n",
       "41172       5228.1  1  \n",
       "41178       5228.1  1  \n",
       "\n",
       "[9280 rows x 21 columns]>"
      ]
     },
     "execution_count": 8,
     "metadata": {},
     "output_type": "execute_result"
    }
   ],
   "source": [
    "df_downsampled.info"
   ]
  },
  {
   "cell_type": "code",
   "execution_count": 9,
   "metadata": {},
   "outputs": [
    {
     "data": {
      "text/plain": [
       "2"
      ]
     },
     "execution_count": 9,
     "metadata": {},
     "output_type": "execute_result"
    }
   ],
   "source": [
    "df_downsampled.ndim"
   ]
  },
  {
   "cell_type": "code",
   "execution_count": 10,
   "metadata": {},
   "outputs": [
    {
     "data": {
      "text/plain": [
       "(9280, 21)"
      ]
     },
     "execution_count": 10,
     "metadata": {},
     "output_type": "execute_result"
    }
   ],
   "source": [
    "df_downsampled.shape"
   ]
  },
  {
   "cell_type": "code",
   "execution_count": 11,
   "metadata": {},
   "outputs": [],
   "source": [
    "df_downsampled.to_csv(\"E:\\\\credit\\\\modified_banking.csv\")"
   ]
  },
  {
   "cell_type": "code",
   "execution_count": null,
   "metadata": {},
   "outputs": [],
   "source": []
  }
 ],
 "metadata": {
  "kernelspec": {
   "display_name": "Python 2",
   "language": "python",
   "name": "python2"
  },
  "language_info": {
   "codemirror_mode": {
    "name": "ipython",
    "version": 2
   },
   "file_extension": ".py",
   "mimetype": "text/x-python",
   "name": "python",
   "nbconvert_exporter": "python",
   "pygments_lexer": "ipython2",
   "version": "2.7.15"
  }
 },
 "nbformat": 4,
 "nbformat_minor": 2
}
