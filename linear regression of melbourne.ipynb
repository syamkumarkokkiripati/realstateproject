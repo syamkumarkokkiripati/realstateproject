{
 "cells": [
  {
   "cell_type": "code",
   "execution_count": 21,
   "metadata": {},
   "outputs": [
    {
     "name": "stdout",
     "output_type": "stream",
     "text": [
      "'data.frame':\t10089 obs. of  20 variables:\n",
      " $ X           : int  1 2 3 5 7 8 9 10 11 12 ...\n",
      " $ Suburb      : Factor w/ 143 levels \"Abbotsford\",\"Aberfeldie\",..: 1 1 1 1 1 1 1 1 1 1 ...\n",
      " $ Address     : Factor w/ 9932 levels \";\",\"1 Abercrombie St\",..: 8656 9504 4509 7476 7999 2444 7904 9917 1671 1633 ...\n",
      " $ Rooms       : int  2 2 2 3 4 4 2 2 2 3 ...\n",
      " $ Type        : Factor w/ 3 levels \"h\",\"t\",\"u\": 1 1 1 1 1 1 1 1 1 1 ...\n",
      " $ Price       : num  1076961 1480000 1035000 1465000 1600000 ...\n",
      " $ Method      : Factor w/ 9 levels \"PI\",\"PN\",\"S\",..: 7 3 3 6 8 5 3 3 3 3 ...\n",
      " $ SellerG     : Factor w/ 208 levels \"@Realty\",\"Abercromby's\",..: 99 20 20 20 135 135 20 45 99 135 ...\n",
      " $ Date        : Factor w/ 42 levels \"10/09/2016\",\"10/12/2016\",..: 31 32 34 35 36 38 38 38 39 39 ...\n",
      " $ Distance    : num  2.5 2.5 2.5 2.5 2.5 2.5 2.5 2.5 2.5 2.5 ...\n",
      " $ Postcode    : int  3067 3067 3067 3067 3067 3067 3067 3067 3067 3067 ...\n",
      " $ Bedroom2    : int  2 2 2 3 3 3 4 3 2 4 ...\n",
      " $ Bathroom    : int  1 1 1 2 1 2 1 2 1 2 ...\n",
      " $ Car         : int  1 1 0 0 2 2 2 1 0 0 ...\n",
      " $ Landsize    : num  126 202 156 134 120 400 201 202 181 245 ...\n",
      " $ BuildingArea: num  147 147 79 150 142 ...\n",
      " $ YearBuilt   : int  1970 1970 1900 1900 2014 2006 1900 1900 1970 1910 ...\n",
      " $ CouncilArea : Factor w/ 19 levels \"Banyule\",\"Bayside\",..: 19 19 19 19 19 19 19 19 19 19 ...\n",
      " $ Lattitude   : num  -37.8 -37.8 -37.8 -37.8 -37.8 ...\n",
      " $ Longtitude  : num  145 145 145 145 145 ...\n"
     ]
    }
   ],
   "source": [
    "modified.md7 <- read.csv(\"D:RE7.csv\")\n",
    "str(modified.md7)"
   ]
  },
  {
   "cell_type": "code",
   "execution_count": 22,
   "metadata": {},
   "outputs": [
    {
     "data": {
      "text/html": [
       "<table>\n",
       "<thead><tr><th scope=col>Address</th><th scope=col>Rooms</th><th scope=col>Type</th><th scope=col>Price</th><th scope=col>Method</th><th scope=col>Date</th><th scope=col>Distance</th><th scope=col>Postcode</th><th scope=col>Bedroom2</th><th scope=col>Bathroom</th><th scope=col>Car</th><th scope=col>Landsize</th><th scope=col>BuildingArea</th><th scope=col>YearBuilt</th><th scope=col>CouncilArea</th><th scope=col>Lattitude</th><th scope=col>Longtitude</th></tr></thead>\n",
       "<tbody>\n",
       "\t<tr><td>68 Studley St      </td><td>2                  </td><td>h                  </td><td>1076961            </td><td>SS                 </td><td>3/09/2016          </td><td>2.5                </td><td>3067               </td><td>2                  </td><td>1                  </td><td>1                  </td><td>126.0000           </td><td>146.8615           </td><td>1970               </td><td>Yarra              </td><td>-37.8014           </td><td>144.9958           </td></tr>\n",
       "\t<tr><td>85 Turner St       </td><td>2                  </td><td>h                  </td><td>1480000            </td><td>S                  </td><td>3/12/2016          </td><td>2.5                </td><td>3067               </td><td>2                  </td><td>1                  </td><td>1                  </td><td>202.0000           </td><td>146.8615           </td><td>1970               </td><td>Yarra              </td><td>-37.7996           </td><td>144.9984           </td></tr>\n",
       "\t<tr><td>25 Bloomburg St    </td><td>2                  </td><td>h                  </td><td>1035000            </td><td>S                  </td><td>4/02/2016          </td><td>2.5                </td><td>3067               </td><td>2                  </td><td>1                  </td><td>0                  </td><td>156.0000           </td><td> 79.0000           </td><td>1900               </td><td>Yarra              </td><td>-37.8079           </td><td>144.9934           </td></tr>\n",
       "\t<tr><td>5 Charles St       </td><td>3                  </td><td>h                  </td><td>1465000            </td><td>SP                 </td><td>4/03/2017          </td><td>2.5                </td><td>3067               </td><td>3                  </td><td>2                  </td><td>0                  </td><td>134.0000           </td><td>150.0000           </td><td>1900               </td><td>Yarra              </td><td>-37.8093           </td><td>144.9944           </td></tr>\n",
       "\t<tr><td>55a Park St        </td><td>4                  </td><td>h                  </td><td>1600000            </td><td>VB                 </td><td>4/06/2016          </td><td>2.5                </td><td>3067               </td><td>3                  </td><td>1                  </td><td>2                  </td><td>120.0000           </td><td>142.0000           </td><td>2014               </td><td>Yarra              </td><td>-37.8072           </td><td>144.9941           </td></tr>\n",
       "\t<tr><td>16 Maugie St       </td><td>4                  </td><td>h                  </td><td>1076961            </td><td>SN                 </td><td>6/08/2016          </td><td>2.5                </td><td>3067               </td><td>3                  </td><td>2                  </td><td>2                  </td><td>400.0000           </td><td>220.0000           </td><td>2006               </td><td>Yarra              </td><td>-37.7965           </td><td>144.9965           </td></tr>\n",
       "\t<tr><td>53 Turner St       </td><td>2                  </td><td>h                  </td><td>1076961            </td><td>S                  </td><td>6/08/2016          </td><td>2.5                </td><td>3067               </td><td>4                  </td><td>1                  </td><td>2                  </td><td>201.0000           </td><td>146.8615           </td><td>1900               </td><td>Yarra              </td><td>-37.7995           </td><td>144.9974           </td></tr>\n",
       "\t<tr><td>99 Turner St       </td><td>2                  </td><td>h                  </td><td>1076961            </td><td>S                  </td><td>6/08/2016          </td><td>2.5                </td><td>3067               </td><td>3                  </td><td>2                  </td><td>1                  </td><td>202.0000           </td><td>146.8615           </td><td>1900               </td><td>Yarra              </td><td>-37.7996           </td><td>144.9989           </td></tr>\n",
       "\t<tr><td>129 Charles St     </td><td>2                  </td><td>h                  </td><td> 941000            </td><td>S                  </td><td>7/05/2016          </td><td>2.5                </td><td>3067               </td><td>2                  </td><td>1                  </td><td>0                  </td><td>181.0000           </td><td>146.8615           </td><td>1970               </td><td>Yarra              </td><td>-37.8041           </td><td>144.9953           </td></tr>\n",
       "\t<tr><td>124 Yarra St       </td><td>3                  </td><td>h                  </td><td>1876000            </td><td>S                  </td><td>7/05/2016          </td><td>2.5                </td><td>3067               </td><td>4                  </td><td>2                  </td><td>0                  </td><td>245.0000           </td><td>210.0000           </td><td>1910               </td><td>Yarra              </td><td>-37.8024           </td><td>144.9993           </td></tr>\n",
       "\t<tr><td>98 Charles St      </td><td>2                  </td><td>h                  </td><td>1636000            </td><td>S                  </td><td>8/10/2016          </td><td>2.5                </td><td>3067               </td><td>2                  </td><td>1                  </td><td>2                  </td><td>256.0000           </td><td>107.0000           </td><td>1890               </td><td>Yarra              </td><td>-37.8060           </td><td>144.9954           </td></tr>\n",
       "\t<tr><td>217 Langridge St   </td><td>3                  </td><td>h                  </td><td>1000000            </td><td>S                  </td><td>8/10/2016          </td><td>2.5                </td><td>3067               </td><td>3                  </td><td>1                  </td><td>1                  </td><td>469.1814           </td><td>146.8615           </td><td>1970               </td><td>NA                 </td><td>      NA           </td><td>      NA           </td></tr>\n",
       "\t<tr><td>18a Mollison St    </td><td>2                  </td><td>t                  </td><td> 745000            </td><td>S                  </td><td>8/10/2016          </td><td>2.5                </td><td>3067               </td><td>3                  </td><td>1                  </td><td>1                  </td><td>469.1814           </td><td>146.8615           </td><td>1970               </td><td>NA                 </td><td>      NA           </td><td>      NA           </td></tr>\n",
       "\t<tr><td>10 Valiant St      </td><td>2                  </td><td>h                  </td><td>1097000            </td><td>S                  </td><td>8/10/2016          </td><td>2.5                </td><td>3067               </td><td>3                  </td><td>1                  </td><td>2                  </td><td>220.0000           </td><td> 75.0000           </td><td>1900               </td><td>Yarra              </td><td>-37.8010           </td><td>144.9989           </td></tr>\n",
       "\t<tr><td>403/609 Victoria St</td><td>2                  </td><td>u                  </td><td> 542000            </td><td>S                  </td><td>8/10/2016          </td><td>2.5                </td><td>3067               </td><td>3                  </td><td>1                  </td><td>1                  </td><td>469.1814           </td><td>146.8615           </td><td>1970               </td><td>NA                 </td><td>      NA           </td><td>      NA           </td></tr>\n",
       "\t<tr><td>2 Rich St          </td><td>2                  </td><td>h                  </td><td>1076961            </td><td>SP                 </td><td>10/12/2016         </td><td>2.5                </td><td>3067               </td><td>2                  </td><td>1                  </td><td>1                  </td><td>176.0000           </td><td> 80.0000           </td><td>1925               </td><td>Yarra              </td><td>-37.7998           </td><td>144.9972           </td></tr>\n",
       "\t<tr><td>25/84 Trenerry Cr  </td><td>2                  </td><td>u                  </td><td> 760000            </td><td>SP                 </td><td>10/12/2016         </td><td>2.5                </td><td>3067               </td><td>3                  </td><td>1                  </td><td>1                  </td><td>469.1814           </td><td>146.8615           </td><td>1970               </td><td>NA                 </td><td>      NA           </td><td>      NA           </td></tr>\n",
       "\t<tr><td>106/119 Turner St  </td><td>1                  </td><td>u                  </td><td> 481000            </td><td>SP                 </td><td>10/12/2016         </td><td>2.5                </td><td>3067               </td><td>3                  </td><td>1                  </td><td>1                  </td><td>469.1814           </td><td>146.8615           </td><td>1970               </td><td>NA                 </td><td>      NA           </td><td>      NA           </td></tr>\n",
       "\t<tr><td>40 Nicholson St    </td><td>3                  </td><td>h                  </td><td>1350000            </td><td>VB                 </td><td>12/11/2016         </td><td>2.5                </td><td>3067               </td><td>3                  </td><td>2                  </td><td>2                  </td><td>214.0000           </td><td>190.0000           </td><td>2005               </td><td>Yarra              </td><td>-37.8085           </td><td>144.9964           </td></tr>\n",
       "\t<tr><td>22 Park St         </td><td>4                  </td><td>h                  </td><td>1985000            </td><td>S                  </td><td>12/11/2016         </td><td>2.5                </td><td>3067               </td><td>3                  </td><td>1                  </td><td>1                  </td><td>469.1814           </td><td>146.8615           </td><td>1970               </td><td>NA                 </td><td>-37.8084           </td><td>144.9942           </td></tr>\n",
       "\t<tr><td>13/84 Trenerry Cr  </td><td>1                  </td><td>u                  </td><td> 500000            </td><td>S                  </td><td>12/11/2016         </td><td>2.5                </td><td>3067               </td><td>3                  </td><td>1                  </td><td>1                  </td><td>469.1814           </td><td>146.8615           </td><td>1970               </td><td>NA                 </td><td>      NA           </td><td>      NA           </td></tr>\n",
       "\t<tr><td>45 William St      </td><td>2                  </td><td>h                  </td><td>1172500            </td><td>S                  </td><td>13/08/2016         </td><td>2.5                </td><td>3067               </td><td>2                  </td><td>1                  </td><td>1                  </td><td>195.0000           </td><td>146.8615           </td><td>1970               </td><td>Yarra              </td><td>-37.8084           </td><td>144.9973           </td></tr>\n",
       "\t<tr><td>16 William St      </td><td>2                  </td><td>h                  </td><td>1310000            </td><td>S                  </td><td>15/10/2016         </td><td>2.5                </td><td>3067               </td><td>2                  </td><td>1                  </td><td>2                  </td><td>238.0000           </td><td> 97.0000           </td><td>1890               </td><td>Yarra              </td><td>-37.8090           </td><td>144.9976           </td></tr>\n",
       "\t<tr><td>250 Langridge St   </td><td>2                  </td><td>t                  </td><td> 847000            </td><td>S                  </td><td>16/07/2016         </td><td>2.5                </td><td>3067               </td><td>3                  </td><td>1                  </td><td>1                  </td><td>469.1814           </td><td>146.8615           </td><td>1970               </td><td>NA                 </td><td>      NA           </td><td>      NA           </td></tr>\n",
       "\t<tr><td>16b Mollison St    </td><td>2                  </td><td>h                  </td><td>1076961            </td><td>PI                 </td><td>16/07/2016         </td><td>2.5                </td><td>3067               </td><td>3                  </td><td>1                  </td><td>1                  </td><td>469.1814           </td><td>146.8615           </td><td>1970               </td><td>NA                 </td><td>      NA           </td><td>      NA           </td></tr>\n",
       "\t<tr><td>78 Yarra St        </td><td>3                  </td><td>h                  </td><td>1176500            </td><td>S                  </td><td>16/07/2016         </td><td>2.5                </td><td>3067               </td><td>2                  </td><td>1                  </td><td>1                  </td><td>138.0000           </td><td>105.0000           </td><td>1890               </td><td>Yarra              </td><td>-37.8021           </td><td>144.9965           </td></tr>\n",
       "\t<tr><td>196 Nicholson St   </td><td>3                  </td><td>h                  </td><td> 955000            </td><td>S                  </td><td>17/09/2016         </td><td>2.5                </td><td>3067               </td><td>3                  </td><td>1                  </td><td>0                  </td><td>183.0000           </td><td>146.8615           </td><td>1970               </td><td>Yarra              </td><td>-37.8022           </td><td>144.9975           </td></tr>\n",
       "\t<tr><td>42 Valiant St      </td><td>2                  </td><td>h                  </td><td> 890000            </td><td>S                  </td><td>17/09/2016         </td><td>2.5                </td><td>3067               </td><td>2                  </td><td>1                  </td><td>1                  </td><td>150.0000           </td><td> 73.0000           </td><td>1985               </td><td>Yarra              </td><td>-37.8011           </td><td>145.0004           </td></tr>\n",
       "\t<tr><td>3/72 Charles St    </td><td>4                  </td><td>h                  </td><td>1330000            </td><td>PI                 </td><td>18/03/2017         </td><td>2.5                </td><td>3067               </td><td>4                  </td><td>2                  </td><td>2                  </td><td>780.0000           </td><td>135.0000           </td><td>1900               </td><td>Yarra              </td><td>-37.8073           </td><td>144.9952           </td></tr>\n",
       "\t<tr><td>1/1 Mayfield St    </td><td>3                  </td><td>h                  </td><td>1076961            </td><td>SP                 </td><td>18/03/2017         </td><td>2.5                </td><td>3067               </td><td>3                  </td><td>2                  </td><td>1                  </td><td>119.0000           </td><td>167.0000           </td><td>2005               </td><td>Yarra              </td><td>-37.8082           </td><td>144.9999           </td></tr>\n",
       "\t<tr><td>...</td><td>...</td><td>...</td><td>...</td><td>...</td><td>...</td><td>...</td><td>...</td><td>...</td><td>...</td><td>...</td><td>...</td><td>...</td><td>...</td><td>...</td><td>...</td><td>...</td></tr>\n",
       "\t<tr><td>241 Kooyong Rd        </td><td>4                     </td><td>h                     </td><td>1076961               </td><td>S                     </td><td>13/05/2017            </td><td> 4.600000             </td><td>3142                  </td><td>4                     </td><td>3                     </td><td>1                     </td><td>658.0000              </td><td>146.8615              </td><td>1970                  </td><td>Stonnington           </td><td>-37.83893             </td><td>145.0081              </td></tr>\n",
       "\t<tr><td>12/30 Lansell Rd      </td><td>3                     </td><td>u                     </td><td>1076961               </td><td>S                     </td><td>13/05/2017            </td><td> 4.600000             </td><td>3142                  </td><td>3                     </td><td>1                     </td><td>1                     </td><td>469.1814              </td><td>146.8615              </td><td>1970                  </td><td>NA                    </td><td>-37.83836             </td><td>145.0141              </td></tr>\n",
       "\t<tr><td>19 Mathoura Rd        </td><td>2                     </td><td>h                     </td><td>1076961               </td><td>SP                    </td><td>13/05/2017            </td><td> 4.600000             </td><td>3142                  </td><td>2                     </td><td>1                     </td><td>0                     </td><td>192.0000              </td><td>146.8615              </td><td>1970                  </td><td>Stonnington           </td><td>-37.84266             </td><td>145.0178              </td></tr>\n",
       "\t<tr><td>27 Montalto Av        </td><td>4                     </td><td>h                     </td><td>1076961               </td><td>S                     </td><td>13/05/2017            </td><td> 4.600000             </td><td>3142                  </td><td>3                     </td><td>1                     </td><td>1                     </td><td>469.1814              </td><td>146.8615              </td><td>1970                  </td><td>NA                    </td><td>-37.83669             </td><td>145.0220              </td></tr>\n",
       "\t<tr><td>8/161 Alexandra Av    </td><td>1                     </td><td>u                     </td><td> 650000               </td><td>VB                    </td><td>20/05/2017            </td><td> 4.600000             </td><td>3142                  </td><td>3                     </td><td>1                     </td><td>1                     </td><td>469.1814              </td><td>146.8615              </td><td>1970                  </td><td>NA                    </td><td>       NA             </td><td>145.0238              </td></tr>\n",
       "\t<tr><td>2/60 Kororoit Creek Rd</td><td>3                     </td><td>t                     </td><td> 670000               </td><td>VB                    </td><td>8/04/2017             </td><td> 8.900000             </td><td>3016                  </td><td>3                     </td><td>2                     </td><td>2                     </td><td>146.0000              </td><td>141.0000              </td><td>2001                  </td><td>Hobsons Bay           </td><td>-37.84740             </td><td>      NA              </td></tr>\n",
       "\t<tr><td>27 Champion Rd        </td><td>3                     </td><td>h                     </td><td>1575000               </td><td>S                     </td><td>13/05/2017            </td><td> 8.900000             </td><td>3016                  </td><td>3                     </td><td>1                     </td><td>1                     </td><td>860.0000              </td><td>160.0000              </td><td>1950                  </td><td>Hobsons Bay           </td><td>-37.83592             </td><td>145.0237              </td></tr>\n",
       "\t<tr><td>40 Florence St        </td><td>4                     </td><td>h                     </td><td>1520000               </td><td>SP                    </td><td>13/05/2017            </td><td> 8.900000             </td><td>3016                  </td><td>4                     </td><td>2                     </td><td>3                     </td><td>560.0000              </td><td>146.8615              </td><td>1970                  </td><td>Hobsons Bay           </td><td>-37.85725             </td><td>145.0126              </td></tr>\n",
       "\t<tr><td>2/60 Kororoit Creek Rd</td><td>3                     </td><td>t                     </td><td> 720000               </td><td>SP                    </td><td>13/05/2017            </td><td> 8.900000             </td><td>3016                  </td><td>3                     </td><td>2                     </td><td>2                     </td><td>146.0000              </td><td>141.0000              </td><td>2001                  </td><td>Hobsons Bay           </td><td>-37.85702             </td><td>144.8854              </td></tr>\n",
       "\t<tr><td>53 Park Cr            </td><td>4                     </td><td>h                     </td><td>1175000               </td><td>S                     </td><td>29/04/2017            </td><td> 8.900000             </td><td>3016                  </td><td>3                     </td><td>1                     </td><td>1                     </td><td>469.1814              </td><td>146.8615              </td><td>1970                  </td><td>NA                    </td><td>-37.85379             </td><td>144.8846              </td></tr>\n",
       "\t<tr><td>4 Walter St           </td><td>3                     </td><td>h                     </td><td>1045000               </td><td>S                     </td><td>29/04/2017            </td><td> 8.900000             </td><td>3016                  </td><td>3                     </td><td>2                     </td><td>3                     </td><td>526.0000              </td><td>159.0000              </td><td>1990                  </td><td>Hobsons Bay           </td><td>-37.85654             </td><td>144.8722              </td></tr>\n",
       "\t<tr><td>3/217 Dandenong Rd    </td><td>2                     </td><td>u                     </td><td> 854000               </td><td>SP                    </td><td>22/04/2017            </td><td> 5.100000             </td><td>3181                  </td><td>2                     </td><td>1                     </td><td>1                     </td><td>774.0000              </td><td> 90.0000              </td><td>1945                  </td><td>Stonnington           </td><td>       NA             </td><td>144.8846              </td></tr>\n",
       "\t<tr><td>108 Peel St           </td><td>1                     </td><td>h                     </td><td> 900000               </td><td>VB                    </td><td>29/04/2017            </td><td> 5.100000             </td><td>3181                  </td><td>1                     </td><td>1                     </td><td>1                     </td><td>160.0000              </td><td>146.8615              </td><td>1930                  </td><td>Stonnington           </td><td>-37.85500             </td><td>      NA              </td></tr>\n",
       "\t<tr><td>24 Bimbadeen Cr       </td><td>4                     </td><td>h                     </td><td>1076961               </td><td>PI                    </td><td>8/04/2017             </td><td>15.000000             </td><td>3085                  </td><td>3                     </td><td>1                     </td><td>1                     </td><td>469.1814              </td><td>146.8615              </td><td>1970                  </td><td>NA                    </td><td>-37.85727             </td><td>144.9990              </td></tr>\n",
       "\t<tr><td>19 Goulburn Gr        </td><td>4                     </td><td>h                     </td><td> 955000               </td><td>PI                    </td><td>13/05/2017            </td><td>15.000000             </td><td>3085                  </td><td>3                     </td><td>1                     </td><td>1                     </td><td>469.1814              </td><td>146.8615              </td><td>1970                  </td><td>NA                    </td><td>-37.85821             </td><td>144.9978              </td></tr>\n",
       "\t<tr><td>57 Tarcoola Dr        </td><td>3                     </td><td>h                     </td><td> 721500               </td><td>S                     </td><td>20/05/2017            </td><td>15.000000             </td><td>3085                  </td><td>3                     </td><td>1                     </td><td>1                     </td><td>594.0000              </td><td>146.8615              </td><td>1970                  </td><td>Banyule               </td><td>-37.85556             </td><td>144.9979              </td></tr>\n",
       "\t<tr><td>8 Lowan Av            </td><td>4                     </td><td>h                     </td><td> 780250               </td><td>SP                    </td><td>29/04/2017            </td><td>15.000000             </td><td>3085                  </td><td>3                     </td><td>1                     </td><td>1                     </td><td>469.1814              </td><td>146.8615              </td><td>1970                  </td><td>NA                    </td><td>       NA             </td><td>144.9840              </td></tr>\n",
       "\t<tr><td>7 Marigolds Rd        </td><td>3                     </td><td>h                     </td><td> 984000               </td><td>S                     </td><td>29/04/2017            </td><td>15.000000             </td><td>3085                  </td><td>3                     </td><td>2                     </td><td>2                     </td><td>552.0000              </td><td>146.8615              </td><td>1970                  </td><td>Banyule               </td><td>       NA             </td><td>      NA              </td></tr>\n",
       "\t<tr><td>5/171 Hotham St       </td><td>2                     </td><td>u                     </td><td> 490000               </td><td>VB                    </td><td>29/04/2017            </td><td> 6.600000             </td><td>3183                  </td><td>2                     </td><td>1                     </td><td>0                     </td><td>601.0000              </td><td>146.8615              </td><td>1970                  </td><td>Port Phillip          </td><td>-37.73271             </td><td>145.1063              </td></tr>\n",
       "\t<tr><td>7 Garnet St           </td><td>3                     </td><td>h                     </td><td>1305000               </td><td>S                     </td><td>20/05/2017            </td><td> 9.800000             </td><td>3040                  </td><td>3                     </td><td>1                     </td><td>2                     </td><td>147.0000              </td><td>146.8615              </td><td>1970                  </td><td>Moonee Valley         </td><td>-37.86560             </td><td>145.0851              </td></tr>\n",
       "\t<tr><td>1/37 Clunes St        </td><td>3                     </td><td>u                     </td><td> 488000               </td><td>S                     </td><td>13/05/2017            </td><td>12.400000             </td><td>3083                  </td><td>3                     </td><td>1                     </td><td>1                     </td><td>260.0000              </td><td>150.0000              </td><td>1961                  </td><td>Darebin               </td><td>-37.87565             </td><td>144.9919              </td></tr>\n",
       "\t<tr><td>7/234 Roden St        </td><td>3                     </td><td>t                     </td><td>1171000               </td><td>S                     </td><td>20/05/2017            </td><td> 1.900000             </td><td>3003                  </td><td>3                     </td><td>2                     </td><td>1                     </td><td>650.0000              </td><td>146.8615              </td><td>1970                  </td><td>Melbourne             </td><td>-37.84306             </td><td>145.0385              </td></tr>\n",
       "\t<tr><td>33 Rainsford Tce      </td><td>3                     </td><td>h                     </td><td> 445000               </td><td>S                     </td><td>20/05/2017            </td><td>14.500000             </td><td>3061                  </td><td>3                     </td><td>1                     </td><td>2                     </td><td>534.0000              </td><td>146.8615              </td><td>1970                  </td><td>Hume                  </td><td>-37.80742             </td><td>144.9448              </td></tr>\n",
       "\t<tr><td>4 Susan Ct            </td><td>3                     </td><td>h                     </td><td>1076961               </td><td>SP                    </td><td>20/05/2017            </td><td>14.500000             </td><td>3061                  </td><td>3                     </td><td>1                     </td><td>4                     </td><td>534.0000              </td><td>146.8615              </td><td>1970                  </td><td>Hume                  </td><td>-37.80473             </td><td>144.9487              </td></tr>\n",
       "\t<tr><td>3/14 Queens Av        </td><td>2                     </td><td>t                     </td><td> 910000               </td><td>SP                    </td><td>20/05/2017            </td><td> 9.300000             </td><td>3145                  </td><td>3                     </td><td>1                     </td><td>1                     </td><td>469.1814              </td><td>146.8615              </td><td>1970                  </td><td>NA                    </td><td>-37.80593             </td><td>144.9435              </td></tr>\n",
       "\t<tr><td>3/1 James Av          </td><td>2                     </td><td>u                     </td><td>1076961               </td><td>PI                    </td><td>22/04/2017            </td><td>12.700000             </td><td>3018                  </td><td>3                     </td><td>1                     </td><td>1                     </td><td>469.1814              </td><td>146.8615              </td><td>1970                  </td><td>NA                    </td><td>-37.67413             </td><td>144.9473              </td></tr>\n",
       "\t<tr><td>NA                    </td><td>3                     </td><td>NA                    </td><td>1076961               </td><td>S                     </td><td>NA                    </td><td> 8.621635             </td><td>  NA                  </td><td>3                     </td><td>1                     </td><td>1                     </td><td>469.1814              </td><td>146.8615              </td><td>1970                  </td><td>NA                    </td><td>-37.67513             </td><td>144.9698              </td></tr>\n",
       "\t<tr><td>NA                    </td><td>3                     </td><td>NA                    </td><td>1076961               </td><td>S                     </td><td>NA                    </td><td> 8.621635             </td><td>  NA                  </td><td>3                     </td><td>1                     </td><td>1                     </td><td>469.1814              </td><td>146.8615              </td><td>1970                  </td><td>NA                    </td><td>       NA             </td><td>144.9694              </td></tr>\n",
       "\t<tr><td>NA                    </td><td>3                     </td><td>NA                    </td><td>1076961               </td><td>S                     </td><td>NA                    </td><td> 8.621635             </td><td>  NA                  </td><td>3                     </td><td>1                     </td><td>1                     </td><td>469.1814              </td><td>146.8615              </td><td>1970                  </td><td>NA                    </td><td>-37.78466             </td><td>      NA              </td></tr>\n",
       "\t<tr><td>NA                    </td><td>3                     </td><td>NA                    </td><td>1076961               </td><td>S                     </td><td>NA                    </td><td> 8.621635             </td><td>  NA                  </td><td>3                     </td><td>1                     </td><td>1                     </td><td>469.1814              </td><td>146.8615              </td><td>1970                  </td><td>NA                    </td><td>       NA             </td><td>144.9383              </td></tr>\n",
       "</tbody>\n",
       "</table>\n"
      ],
      "text/latex": [
       "\\begin{tabular}{r|lllllllllllllllll}\n",
       " Address & Rooms & Type & Price & Method & Date & Distance & Postcode & Bedroom2 & Bathroom & Car & Landsize & BuildingArea & YearBuilt & CouncilArea & Lattitude & Longtitude\\\\\n",
       "\\hline\n",
       "\t 68 Studley St       & 2                   & h                   & 1076961             & SS                  & 3/09/2016           & 2.5                 & 3067                & 2                   & 1                   & 1                   & 126.0000            & 146.8615            & 1970                & Yarra               & -37.8014            & 144.9958           \\\\\n",
       "\t 85 Turner St        & 2                   & h                   & 1480000             & S                   & 3/12/2016           & 2.5                 & 3067                & 2                   & 1                   & 1                   & 202.0000            & 146.8615            & 1970                & Yarra               & -37.7996            & 144.9984           \\\\\n",
       "\t 25 Bloomburg St     & 2                   & h                   & 1035000             & S                   & 4/02/2016           & 2.5                 & 3067                & 2                   & 1                   & 0                   & 156.0000            &  79.0000            & 1900                & Yarra               & -37.8079            & 144.9934           \\\\\n",
       "\t 5 Charles St        & 3                   & h                   & 1465000             & SP                  & 4/03/2017           & 2.5                 & 3067                & 3                   & 2                   & 0                   & 134.0000            & 150.0000            & 1900                & Yarra               & -37.8093            & 144.9944           \\\\\n",
       "\t 55a Park St         & 4                   & h                   & 1600000             & VB                  & 4/06/2016           & 2.5                 & 3067                & 3                   & 1                   & 2                   & 120.0000            & 142.0000            & 2014                & Yarra               & -37.8072            & 144.9941           \\\\\n",
       "\t 16 Maugie St        & 4                   & h                   & 1076961             & SN                  & 6/08/2016           & 2.5                 & 3067                & 3                   & 2                   & 2                   & 400.0000            & 220.0000            & 2006                & Yarra               & -37.7965            & 144.9965           \\\\\n",
       "\t 53 Turner St        & 2                   & h                   & 1076961             & S                   & 6/08/2016           & 2.5                 & 3067                & 4                   & 1                   & 2                   & 201.0000            & 146.8615            & 1900                & Yarra               & -37.7995            & 144.9974           \\\\\n",
       "\t 99 Turner St        & 2                   & h                   & 1076961             & S                   & 6/08/2016           & 2.5                 & 3067                & 3                   & 2                   & 1                   & 202.0000            & 146.8615            & 1900                & Yarra               & -37.7996            & 144.9989           \\\\\n",
       "\t 129 Charles St      & 2                   & h                   &  941000             & S                   & 7/05/2016           & 2.5                 & 3067                & 2                   & 1                   & 0                   & 181.0000            & 146.8615            & 1970                & Yarra               & -37.8041            & 144.9953           \\\\\n",
       "\t 124 Yarra St        & 3                   & h                   & 1876000             & S                   & 7/05/2016           & 2.5                 & 3067                & 4                   & 2                   & 0                   & 245.0000            & 210.0000            & 1910                & Yarra               & -37.8024            & 144.9993           \\\\\n",
       "\t 98 Charles St       & 2                   & h                   & 1636000             & S                   & 8/10/2016           & 2.5                 & 3067                & 2                   & 1                   & 2                   & 256.0000            & 107.0000            & 1890                & Yarra               & -37.8060            & 144.9954           \\\\\n",
       "\t 217 Langridge St    & 3                   & h                   & 1000000             & S                   & 8/10/2016           & 2.5                 & 3067                & 3                   & 1                   & 1                   & 469.1814            & 146.8615            & 1970                & NA                  &       NA            &       NA           \\\\\n",
       "\t 18a Mollison St     & 2                   & t                   &  745000             & S                   & 8/10/2016           & 2.5                 & 3067                & 3                   & 1                   & 1                   & 469.1814            & 146.8615            & 1970                & NA                  &       NA            &       NA           \\\\\n",
       "\t 10 Valiant St       & 2                   & h                   & 1097000             & S                   & 8/10/2016           & 2.5                 & 3067                & 3                   & 1                   & 2                   & 220.0000            &  75.0000            & 1900                & Yarra               & -37.8010            & 144.9989           \\\\\n",
       "\t 403/609 Victoria St & 2                   & u                   &  542000             & S                   & 8/10/2016           & 2.5                 & 3067                & 3                   & 1                   & 1                   & 469.1814            & 146.8615            & 1970                & NA                  &       NA            &       NA           \\\\\n",
       "\t 2 Rich St           & 2                   & h                   & 1076961             & SP                  & 10/12/2016          & 2.5                 & 3067                & 2                   & 1                   & 1                   & 176.0000            &  80.0000            & 1925                & Yarra               & -37.7998            & 144.9972           \\\\\n",
       "\t 25/84 Trenerry Cr   & 2                   & u                   &  760000             & SP                  & 10/12/2016          & 2.5                 & 3067                & 3                   & 1                   & 1                   & 469.1814            & 146.8615            & 1970                & NA                  &       NA            &       NA           \\\\\n",
       "\t 106/119 Turner St   & 1                   & u                   &  481000             & SP                  & 10/12/2016          & 2.5                 & 3067                & 3                   & 1                   & 1                   & 469.1814            & 146.8615            & 1970                & NA                  &       NA            &       NA           \\\\\n",
       "\t 40 Nicholson St     & 3                   & h                   & 1350000             & VB                  & 12/11/2016          & 2.5                 & 3067                & 3                   & 2                   & 2                   & 214.0000            & 190.0000            & 2005                & Yarra               & -37.8085            & 144.9964           \\\\\n",
       "\t 22 Park St          & 4                   & h                   & 1985000             & S                   & 12/11/2016          & 2.5                 & 3067                & 3                   & 1                   & 1                   & 469.1814            & 146.8615            & 1970                & NA                  & -37.8084            & 144.9942           \\\\\n",
       "\t 13/84 Trenerry Cr   & 1                   & u                   &  500000             & S                   & 12/11/2016          & 2.5                 & 3067                & 3                   & 1                   & 1                   & 469.1814            & 146.8615            & 1970                & NA                  &       NA            &       NA           \\\\\n",
       "\t 45 William St       & 2                   & h                   & 1172500             & S                   & 13/08/2016          & 2.5                 & 3067                & 2                   & 1                   & 1                   & 195.0000            & 146.8615            & 1970                & Yarra               & -37.8084            & 144.9973           \\\\\n",
       "\t 16 William St       & 2                   & h                   & 1310000             & S                   & 15/10/2016          & 2.5                 & 3067                & 2                   & 1                   & 2                   & 238.0000            &  97.0000            & 1890                & Yarra               & -37.8090            & 144.9976           \\\\\n",
       "\t 250 Langridge St    & 2                   & t                   &  847000             & S                   & 16/07/2016          & 2.5                 & 3067                & 3                   & 1                   & 1                   & 469.1814            & 146.8615            & 1970                & NA                  &       NA            &       NA           \\\\\n",
       "\t 16b Mollison St     & 2                   & h                   & 1076961             & PI                  & 16/07/2016          & 2.5                 & 3067                & 3                   & 1                   & 1                   & 469.1814            & 146.8615            & 1970                & NA                  &       NA            &       NA           \\\\\n",
       "\t 78 Yarra St         & 3                   & h                   & 1176500             & S                   & 16/07/2016          & 2.5                 & 3067                & 2                   & 1                   & 1                   & 138.0000            & 105.0000            & 1890                & Yarra               & -37.8021            & 144.9965           \\\\\n",
       "\t 196 Nicholson St    & 3                   & h                   &  955000             & S                   & 17/09/2016          & 2.5                 & 3067                & 3                   & 1                   & 0                   & 183.0000            & 146.8615            & 1970                & Yarra               & -37.8022            & 144.9975           \\\\\n",
       "\t 42 Valiant St       & 2                   & h                   &  890000             & S                   & 17/09/2016          & 2.5                 & 3067                & 2                   & 1                   & 1                   & 150.0000            &  73.0000            & 1985                & Yarra               & -37.8011            & 145.0004           \\\\\n",
       "\t 3/72 Charles St     & 4                   & h                   & 1330000             & PI                  & 18/03/2017          & 2.5                 & 3067                & 4                   & 2                   & 2                   & 780.0000            & 135.0000            & 1900                & Yarra               & -37.8073            & 144.9952           \\\\\n",
       "\t 1/1 Mayfield St     & 3                   & h                   & 1076961             & SP                  & 18/03/2017          & 2.5                 & 3067                & 3                   & 2                   & 1                   & 119.0000            & 167.0000            & 2005                & Yarra               & -37.8082            & 144.9999           \\\\\n",
       "\t ... & ... & ... & ... & ... & ... & ... & ... & ... & ... & ... & ... & ... & ... & ... & ... & ...\\\\\n",
       "\t 241 Kooyong Rd         & 4                      & h                      & 1076961                & S                      & 13/05/2017             &  4.600000              & 3142                   & 4                      & 3                      & 1                      & 658.0000               & 146.8615               & 1970                   & Stonnington            & -37.83893              & 145.0081              \\\\\n",
       "\t 12/30 Lansell Rd       & 3                      & u                      & 1076961                & S                      & 13/05/2017             &  4.600000              & 3142                   & 3                      & 1                      & 1                      & 469.1814               & 146.8615               & 1970                   & NA                     & -37.83836              & 145.0141              \\\\\n",
       "\t 19 Mathoura Rd         & 2                      & h                      & 1076961                & SP                     & 13/05/2017             &  4.600000              & 3142                   & 2                      & 1                      & 0                      & 192.0000               & 146.8615               & 1970                   & Stonnington            & -37.84266              & 145.0178              \\\\\n",
       "\t 27 Montalto Av         & 4                      & h                      & 1076961                & S                      & 13/05/2017             &  4.600000              & 3142                   & 3                      & 1                      & 1                      & 469.1814               & 146.8615               & 1970                   & NA                     & -37.83669              & 145.0220              \\\\\n",
       "\t 8/161 Alexandra Av     & 1                      & u                      &  650000                & VB                     & 20/05/2017             &  4.600000              & 3142                   & 3                      & 1                      & 1                      & 469.1814               & 146.8615               & 1970                   & NA                     &        NA              & 145.0238              \\\\\n",
       "\t 2/60 Kororoit Creek Rd & 3                      & t                      &  670000                & VB                     & 8/04/2017              &  8.900000              & 3016                   & 3                      & 2                      & 2                      & 146.0000               & 141.0000               & 2001                   & Hobsons Bay            & -37.84740              &       NA              \\\\\n",
       "\t 27 Champion Rd         & 3                      & h                      & 1575000                & S                      & 13/05/2017             &  8.900000              & 3016                   & 3                      & 1                      & 1                      & 860.0000               & 160.0000               & 1950                   & Hobsons Bay            & -37.83592              & 145.0237              \\\\\n",
       "\t 40 Florence St         & 4                      & h                      & 1520000                & SP                     & 13/05/2017             &  8.900000              & 3016                   & 4                      & 2                      & 3                      & 560.0000               & 146.8615               & 1970                   & Hobsons Bay            & -37.85725              & 145.0126              \\\\\n",
       "\t 2/60 Kororoit Creek Rd & 3                      & t                      &  720000                & SP                     & 13/05/2017             &  8.900000              & 3016                   & 3                      & 2                      & 2                      & 146.0000               & 141.0000               & 2001                   & Hobsons Bay            & -37.85702              & 144.8854              \\\\\n",
       "\t 53 Park Cr             & 4                      & h                      & 1175000                & S                      & 29/04/2017             &  8.900000              & 3016                   & 3                      & 1                      & 1                      & 469.1814               & 146.8615               & 1970                   & NA                     & -37.85379              & 144.8846              \\\\\n",
       "\t 4 Walter St            & 3                      & h                      & 1045000                & S                      & 29/04/2017             &  8.900000              & 3016                   & 3                      & 2                      & 3                      & 526.0000               & 159.0000               & 1990                   & Hobsons Bay            & -37.85654              & 144.8722              \\\\\n",
       "\t 3/217 Dandenong Rd     & 2                      & u                      &  854000                & SP                     & 22/04/2017             &  5.100000              & 3181                   & 2                      & 1                      & 1                      & 774.0000               &  90.0000               & 1945                   & Stonnington            &        NA              & 144.8846              \\\\\n",
       "\t 108 Peel St            & 1                      & h                      &  900000                & VB                     & 29/04/2017             &  5.100000              & 3181                   & 1                      & 1                      & 1                      & 160.0000               & 146.8615               & 1930                   & Stonnington            & -37.85500              &       NA              \\\\\n",
       "\t 24 Bimbadeen Cr        & 4                      & h                      & 1076961                & PI                     & 8/04/2017              & 15.000000              & 3085                   & 3                      & 1                      & 1                      & 469.1814               & 146.8615               & 1970                   & NA                     & -37.85727              & 144.9990              \\\\\n",
       "\t 19 Goulburn Gr         & 4                      & h                      &  955000                & PI                     & 13/05/2017             & 15.000000              & 3085                   & 3                      & 1                      & 1                      & 469.1814               & 146.8615               & 1970                   & NA                     & -37.85821              & 144.9978              \\\\\n",
       "\t 57 Tarcoola Dr         & 3                      & h                      &  721500                & S                      & 20/05/2017             & 15.000000              & 3085                   & 3                      & 1                      & 1                      & 594.0000               & 146.8615               & 1970                   & Banyule                & -37.85556              & 144.9979              \\\\\n",
       "\t 8 Lowan Av             & 4                      & h                      &  780250                & SP                     & 29/04/2017             & 15.000000              & 3085                   & 3                      & 1                      & 1                      & 469.1814               & 146.8615               & 1970                   & NA                     &        NA              & 144.9840              \\\\\n",
       "\t 7 Marigolds Rd         & 3                      & h                      &  984000                & S                      & 29/04/2017             & 15.000000              & 3085                   & 3                      & 2                      & 2                      & 552.0000               & 146.8615               & 1970                   & Banyule                &        NA              &       NA              \\\\\n",
       "\t 5/171 Hotham St        & 2                      & u                      &  490000                & VB                     & 29/04/2017             &  6.600000              & 3183                   & 2                      & 1                      & 0                      & 601.0000               & 146.8615               & 1970                   & Port Phillip           & -37.73271              & 145.1063              \\\\\n",
       "\t 7 Garnet St            & 3                      & h                      & 1305000                & S                      & 20/05/2017             &  9.800000              & 3040                   & 3                      & 1                      & 2                      & 147.0000               & 146.8615               & 1970                   & Moonee Valley          & -37.86560              & 145.0851              \\\\\n",
       "\t 1/37 Clunes St         & 3                      & u                      &  488000                & S                      & 13/05/2017             & 12.400000              & 3083                   & 3                      & 1                      & 1                      & 260.0000               & 150.0000               & 1961                   & Darebin                & -37.87565              & 144.9919              \\\\\n",
       "\t 7/234 Roden St         & 3                      & t                      & 1171000                & S                      & 20/05/2017             &  1.900000              & 3003                   & 3                      & 2                      & 1                      & 650.0000               & 146.8615               & 1970                   & Melbourne              & -37.84306              & 145.0385              \\\\\n",
       "\t 33 Rainsford Tce       & 3                      & h                      &  445000                & S                      & 20/05/2017             & 14.500000              & 3061                   & 3                      & 1                      & 2                      & 534.0000               & 146.8615               & 1970                   & Hume                   & -37.80742              & 144.9448              \\\\\n",
       "\t 4 Susan Ct             & 3                      & h                      & 1076961                & SP                     & 20/05/2017             & 14.500000              & 3061                   & 3                      & 1                      & 4                      & 534.0000               & 146.8615               & 1970                   & Hume                   & -37.80473              & 144.9487              \\\\\n",
       "\t 3/14 Queens Av         & 2                      & t                      &  910000                & SP                     & 20/05/2017             &  9.300000              & 3145                   & 3                      & 1                      & 1                      & 469.1814               & 146.8615               & 1970                   & NA                     & -37.80593              & 144.9435              \\\\\n",
       "\t 3/1 James Av           & 2                      & u                      & 1076961                & PI                     & 22/04/2017             & 12.700000              & 3018                   & 3                      & 1                      & 1                      & 469.1814               & 146.8615               & 1970                   & NA                     & -37.67413              & 144.9473              \\\\\n",
       "\t NA                     & 3                      & NA                     & 1076961                & S                      & NA                     &  8.621635              &   NA                   & 3                      & 1                      & 1                      & 469.1814               & 146.8615               & 1970                   & NA                     & -37.67513              & 144.9698              \\\\\n",
       "\t NA                     & 3                      & NA                     & 1076961                & S                      & NA                     &  8.621635              &   NA                   & 3                      & 1                      & 1                      & 469.1814               & 146.8615               & 1970                   & NA                     &        NA              & 144.9694              \\\\\n",
       "\t NA                     & 3                      & NA                     & 1076961                & S                      & NA                     &  8.621635              &   NA                   & 3                      & 1                      & 1                      & 469.1814               & 146.8615               & 1970                   & NA                     & -37.78466              &       NA              \\\\\n",
       "\t NA                     & 3                      & NA                     & 1076961                & S                      & NA                     &  8.621635              &   NA                   & 3                      & 1                      & 1                      & 469.1814               & 146.8615               & 1970                   & NA                     &        NA              & 144.9383              \\\\\n",
       "\\end{tabular}\n"
      ],
      "text/markdown": [
       "\n",
       "Address | Rooms | Type | Price | Method | Date | Distance | Postcode | Bedroom2 | Bathroom | Car | Landsize | BuildingArea | YearBuilt | CouncilArea | Lattitude | Longtitude | \n",
       "|---|---|---|---|---|---|---|---|---|---|---|---|---|---|---|---|---|---|---|---|---|---|---|---|---|---|---|---|---|---|---|---|---|---|---|---|---|---|---|---|---|---|---|---|---|---|---|---|---|---|---|---|---|---|---|---|---|---|---|---|---|\n",
       "| 68 Studley St       | 2                   | h                   | 1076961             | SS                  | 3/09/2016           | 2.5                 | 3067                | 2                   | 1                   | 1                   | 126.0000            | 146.8615            | 1970                | Yarra               | -37.8014            | 144.9958            | \n",
       "| 85 Turner St        | 2                   | h                   | 1480000             | S                   | 3/12/2016           | 2.5                 | 3067                | 2                   | 1                   | 1                   | 202.0000            | 146.8615            | 1970                | Yarra               | -37.7996            | 144.9984            | \n",
       "| 25 Bloomburg St     | 2                   | h                   | 1035000             | S                   | 4/02/2016           | 2.5                 | 3067                | 2                   | 1                   | 0                   | 156.0000            |  79.0000            | 1900                | Yarra               | -37.8079            | 144.9934            | \n",
       "| 5 Charles St        | 3                   | h                   | 1465000             | SP                  | 4/03/2017           | 2.5                 | 3067                | 3                   | 2                   | 0                   | 134.0000            | 150.0000            | 1900                | Yarra               | -37.8093            | 144.9944            | \n",
       "| 55a Park St         | 4                   | h                   | 1600000             | VB                  | 4/06/2016           | 2.5                 | 3067                | 3                   | 1                   | 2                   | 120.0000            | 142.0000            | 2014                | Yarra               | -37.8072            | 144.9941            | \n",
       "| 16 Maugie St        | 4                   | h                   | 1076961             | SN                  | 6/08/2016           | 2.5                 | 3067                | 3                   | 2                   | 2                   | 400.0000            | 220.0000            | 2006                | Yarra               | -37.7965            | 144.9965            | \n",
       "| 53 Turner St        | 2                   | h                   | 1076961             | S                   | 6/08/2016           | 2.5                 | 3067                | 4                   | 1                   | 2                   | 201.0000            | 146.8615            | 1900                | Yarra               | -37.7995            | 144.9974            | \n",
       "| 99 Turner St        | 2                   | h                   | 1076961             | S                   | 6/08/2016           | 2.5                 | 3067                | 3                   | 2                   | 1                   | 202.0000            | 146.8615            | 1900                | Yarra               | -37.7996            | 144.9989            | \n",
       "| 129 Charles St      | 2                   | h                   |  941000             | S                   | 7/05/2016           | 2.5                 | 3067                | 2                   | 1                   | 0                   | 181.0000            | 146.8615            | 1970                | Yarra               | -37.8041            | 144.9953            | \n",
       "| 124 Yarra St        | 3                   | h                   | 1876000             | S                   | 7/05/2016           | 2.5                 | 3067                | 4                   | 2                   | 0                   | 245.0000            | 210.0000            | 1910                | Yarra               | -37.8024            | 144.9993            | \n",
       "| 98 Charles St       | 2                   | h                   | 1636000             | S                   | 8/10/2016           | 2.5                 | 3067                | 2                   | 1                   | 2                   | 256.0000            | 107.0000            | 1890                | Yarra               | -37.8060            | 144.9954            | \n",
       "| 217 Langridge St    | 3                   | h                   | 1000000             | S                   | 8/10/2016           | 2.5                 | 3067                | 3                   | 1                   | 1                   | 469.1814            | 146.8615            | 1970                | NA                  |       NA            |       NA            | \n",
       "| 18a Mollison St     | 2                   | t                   |  745000             | S                   | 8/10/2016           | 2.5                 | 3067                | 3                   | 1                   | 1                   | 469.1814            | 146.8615            | 1970                | NA                  |       NA            |       NA            | \n",
       "| 10 Valiant St       | 2                   | h                   | 1097000             | S                   | 8/10/2016           | 2.5                 | 3067                | 3                   | 1                   | 2                   | 220.0000            |  75.0000            | 1900                | Yarra               | -37.8010            | 144.9989            | \n",
       "| 403/609 Victoria St | 2                   | u                   |  542000             | S                   | 8/10/2016           | 2.5                 | 3067                | 3                   | 1                   | 1                   | 469.1814            | 146.8615            | 1970                | NA                  |       NA            |       NA            | \n",
       "| 2 Rich St           | 2                   | h                   | 1076961             | SP                  | 10/12/2016          | 2.5                 | 3067                | 2                   | 1                   | 1                   | 176.0000            |  80.0000            | 1925                | Yarra               | -37.7998            | 144.9972            | \n",
       "| 25/84 Trenerry Cr   | 2                   | u                   |  760000             | SP                  | 10/12/2016          | 2.5                 | 3067                | 3                   | 1                   | 1                   | 469.1814            | 146.8615            | 1970                | NA                  |       NA            |       NA            | \n",
       "| 106/119 Turner St   | 1                   | u                   |  481000             | SP                  | 10/12/2016          | 2.5                 | 3067                | 3                   | 1                   | 1                   | 469.1814            | 146.8615            | 1970                | NA                  |       NA            |       NA            | \n",
       "| 40 Nicholson St     | 3                   | h                   | 1350000             | VB                  | 12/11/2016          | 2.5                 | 3067                | 3                   | 2                   | 2                   | 214.0000            | 190.0000            | 2005                | Yarra               | -37.8085            | 144.9964            | \n",
       "| 22 Park St          | 4                   | h                   | 1985000             | S                   | 12/11/2016          | 2.5                 | 3067                | 3                   | 1                   | 1                   | 469.1814            | 146.8615            | 1970                | NA                  | -37.8084            | 144.9942            | \n",
       "| 13/84 Trenerry Cr   | 1                   | u                   |  500000             | S                   | 12/11/2016          | 2.5                 | 3067                | 3                   | 1                   | 1                   | 469.1814            | 146.8615            | 1970                | NA                  |       NA            |       NA            | \n",
       "| 45 William St       | 2                   | h                   | 1172500             | S                   | 13/08/2016          | 2.5                 | 3067                | 2                   | 1                   | 1                   | 195.0000            | 146.8615            | 1970                | Yarra               | -37.8084            | 144.9973            | \n",
       "| 16 William St       | 2                   | h                   | 1310000             | S                   | 15/10/2016          | 2.5                 | 3067                | 2                   | 1                   | 2                   | 238.0000            |  97.0000            | 1890                | Yarra               | -37.8090            | 144.9976            | \n",
       "| 250 Langridge St    | 2                   | t                   |  847000             | S                   | 16/07/2016          | 2.5                 | 3067                | 3                   | 1                   | 1                   | 469.1814            | 146.8615            | 1970                | NA                  |       NA            |       NA            | \n",
       "| 16b Mollison St     | 2                   | h                   | 1076961             | PI                  | 16/07/2016          | 2.5                 | 3067                | 3                   | 1                   | 1                   | 469.1814            | 146.8615            | 1970                | NA                  |       NA            |       NA            | \n",
       "| 78 Yarra St         | 3                   | h                   | 1176500             | S                   | 16/07/2016          | 2.5                 | 3067                | 2                   | 1                   | 1                   | 138.0000            | 105.0000            | 1890                | Yarra               | -37.8021            | 144.9965            | \n",
       "| 196 Nicholson St    | 3                   | h                   |  955000             | S                   | 17/09/2016          | 2.5                 | 3067                | 3                   | 1                   | 0                   | 183.0000            | 146.8615            | 1970                | Yarra               | -37.8022            | 144.9975            | \n",
       "| 42 Valiant St       | 2                   | h                   |  890000             | S                   | 17/09/2016          | 2.5                 | 3067                | 2                   | 1                   | 1                   | 150.0000            |  73.0000            | 1985                | Yarra               | -37.8011            | 145.0004            | \n",
       "| 3/72 Charles St     | 4                   | h                   | 1330000             | PI                  | 18/03/2017          | 2.5                 | 3067                | 4                   | 2                   | 2                   | 780.0000            | 135.0000            | 1900                | Yarra               | -37.8073            | 144.9952            | \n",
       "| 1/1 Mayfield St     | 3                   | h                   | 1076961             | SP                  | 18/03/2017          | 2.5                 | 3067                | 3                   | 2                   | 1                   | 119.0000            | 167.0000            | 2005                | Yarra               | -37.8082            | 144.9999            | \n",
       "| ... | ... | ... | ... | ... | ... | ... | ... | ... | ... | ... | ... | ... | ... | ... | ... | ... | \n",
       "| 241 Kooyong Rd         | 4                      | h                      | 1076961                | S                      | 13/05/2017             |  4.600000              | 3142                   | 4                      | 3                      | 1                      | 658.0000               | 146.8615               | 1970                   | Stonnington            | -37.83893              | 145.0081               | \n",
       "| 12/30 Lansell Rd       | 3                      | u                      | 1076961                | S                      | 13/05/2017             |  4.600000              | 3142                   | 3                      | 1                      | 1                      | 469.1814               | 146.8615               | 1970                   | NA                     | -37.83836              | 145.0141               | \n",
       "| 19 Mathoura Rd         | 2                      | h                      | 1076961                | SP                     | 13/05/2017             |  4.600000              | 3142                   | 2                      | 1                      | 0                      | 192.0000               | 146.8615               | 1970                   | Stonnington            | -37.84266              | 145.0178               | \n",
       "| 27 Montalto Av         | 4                      | h                      | 1076961                | S                      | 13/05/2017             |  4.600000              | 3142                   | 3                      | 1                      | 1                      | 469.1814               | 146.8615               | 1970                   | NA                     | -37.83669              | 145.0220               | \n",
       "| 8/161 Alexandra Av     | 1                      | u                      |  650000                | VB                     | 20/05/2017             |  4.600000              | 3142                   | 3                      | 1                      | 1                      | 469.1814               | 146.8615               | 1970                   | NA                     |        NA              | 145.0238               | \n",
       "| 2/60 Kororoit Creek Rd | 3                      | t                      |  670000                | VB                     | 8/04/2017              |  8.900000              | 3016                   | 3                      | 2                      | 2                      | 146.0000               | 141.0000               | 2001                   | Hobsons Bay            | -37.84740              |       NA               | \n",
       "| 27 Champion Rd         | 3                      | h                      | 1575000                | S                      | 13/05/2017             |  8.900000              | 3016                   | 3                      | 1                      | 1                      | 860.0000               | 160.0000               | 1950                   | Hobsons Bay            | -37.83592              | 145.0237               | \n",
       "| 40 Florence St         | 4                      | h                      | 1520000                | SP                     | 13/05/2017             |  8.900000              | 3016                   | 4                      | 2                      | 3                      | 560.0000               | 146.8615               | 1970                   | Hobsons Bay            | -37.85725              | 145.0126               | \n",
       "| 2/60 Kororoit Creek Rd | 3                      | t                      |  720000                | SP                     | 13/05/2017             |  8.900000              | 3016                   | 3                      | 2                      | 2                      | 146.0000               | 141.0000               | 2001                   | Hobsons Bay            | -37.85702              | 144.8854               | \n",
       "| 53 Park Cr             | 4                      | h                      | 1175000                | S                      | 29/04/2017             |  8.900000              | 3016                   | 3                      | 1                      | 1                      | 469.1814               | 146.8615               | 1970                   | NA                     | -37.85379              | 144.8846               | \n",
       "| 4 Walter St            | 3                      | h                      | 1045000                | S                      | 29/04/2017             |  8.900000              | 3016                   | 3                      | 2                      | 3                      | 526.0000               | 159.0000               | 1990                   | Hobsons Bay            | -37.85654              | 144.8722               | \n",
       "| 3/217 Dandenong Rd     | 2                      | u                      |  854000                | SP                     | 22/04/2017             |  5.100000              | 3181                   | 2                      | 1                      | 1                      | 774.0000               |  90.0000               | 1945                   | Stonnington            |        NA              | 144.8846               | \n",
       "| 108 Peel St            | 1                      | h                      |  900000                | VB                     | 29/04/2017             |  5.100000              | 3181                   | 1                      | 1                      | 1                      | 160.0000               | 146.8615               | 1930                   | Stonnington            | -37.85500              |       NA               | \n",
       "| 24 Bimbadeen Cr        | 4                      | h                      | 1076961                | PI                     | 8/04/2017              | 15.000000              | 3085                   | 3                      | 1                      | 1                      | 469.1814               | 146.8615               | 1970                   | NA                     | -37.85727              | 144.9990               | \n",
       "| 19 Goulburn Gr         | 4                      | h                      |  955000                | PI                     | 13/05/2017             | 15.000000              | 3085                   | 3                      | 1                      | 1                      | 469.1814               | 146.8615               | 1970                   | NA                     | -37.85821              | 144.9978               | \n",
       "| 57 Tarcoola Dr         | 3                      | h                      |  721500                | S                      | 20/05/2017             | 15.000000              | 3085                   | 3                      | 1                      | 1                      | 594.0000               | 146.8615               | 1970                   | Banyule                | -37.85556              | 144.9979               | \n",
       "| 8 Lowan Av             | 4                      | h                      |  780250                | SP                     | 29/04/2017             | 15.000000              | 3085                   | 3                      | 1                      | 1                      | 469.1814               | 146.8615               | 1970                   | NA                     |        NA              | 144.9840               | \n",
       "| 7 Marigolds Rd         | 3                      | h                      |  984000                | S                      | 29/04/2017             | 15.000000              | 3085                   | 3                      | 2                      | 2                      | 552.0000               | 146.8615               | 1970                   | Banyule                |        NA              |       NA               | \n",
       "| 5/171 Hotham St        | 2                      | u                      |  490000                | VB                     | 29/04/2017             |  6.600000              | 3183                   | 2                      | 1                      | 0                      | 601.0000               | 146.8615               | 1970                   | Port Phillip           | -37.73271              | 145.1063               | \n",
       "| 7 Garnet St            | 3                      | h                      | 1305000                | S                      | 20/05/2017             |  9.800000              | 3040                   | 3                      | 1                      | 2                      | 147.0000               | 146.8615               | 1970                   | Moonee Valley          | -37.86560              | 145.0851               | \n",
       "| 1/37 Clunes St         | 3                      | u                      |  488000                | S                      | 13/05/2017             | 12.400000              | 3083                   | 3                      | 1                      | 1                      | 260.0000               | 150.0000               | 1961                   | Darebin                | -37.87565              | 144.9919               | \n",
       "| 7/234 Roden St         | 3                      | t                      | 1171000                | S                      | 20/05/2017             |  1.900000              | 3003                   | 3                      | 2                      | 1                      | 650.0000               | 146.8615               | 1970                   | Melbourne              | -37.84306              | 145.0385               | \n",
       "| 33 Rainsford Tce       | 3                      | h                      |  445000                | S                      | 20/05/2017             | 14.500000              | 3061                   | 3                      | 1                      | 2                      | 534.0000               | 146.8615               | 1970                   | Hume                   | -37.80742              | 144.9448               | \n",
       "| 4 Susan Ct             | 3                      | h                      | 1076961                | SP                     | 20/05/2017             | 14.500000              | 3061                   | 3                      | 1                      | 4                      | 534.0000               | 146.8615               | 1970                   | Hume                   | -37.80473              | 144.9487               | \n",
       "| 3/14 Queens Av         | 2                      | t                      |  910000                | SP                     | 20/05/2017             |  9.300000              | 3145                   | 3                      | 1                      | 1                      | 469.1814               | 146.8615               | 1970                   | NA                     | -37.80593              | 144.9435               | \n",
       "| 3/1 James Av           | 2                      | u                      | 1076961                | PI                     | 22/04/2017             | 12.700000              | 3018                   | 3                      | 1                      | 1                      | 469.1814               | 146.8615               | 1970                   | NA                     | -37.67413              | 144.9473               | \n",
       "| NA                     | 3                      | NA                     | 1076961                | S                      | NA                     |  8.621635              |   NA                   | 3                      | 1                      | 1                      | 469.1814               | 146.8615               | 1970                   | NA                     | -37.67513              | 144.9698               | \n",
       "| NA                     | 3                      | NA                     | 1076961                | S                      | NA                     |  8.621635              |   NA                   | 3                      | 1                      | 1                      | 469.1814               | 146.8615               | 1970                   | NA                     |        NA              | 144.9694               | \n",
       "| NA                     | 3                      | NA                     | 1076961                | S                      | NA                     |  8.621635              |   NA                   | 3                      | 1                      | 1                      | 469.1814               | 146.8615               | 1970                   | NA                     | -37.78466              |       NA               | \n",
       "| NA                     | 3                      | NA                     | 1076961                | S                      | NA                     |  8.621635              |   NA                   | 3                      | 1                      | 1                      | 469.1814               | 146.8615               | 1970                   | NA                     |        NA              | 144.9383               | \n",
       "\n",
       "\n"
      ],
      "text/plain": [
       "      Address                Rooms Type Price   Method Date       Distance \n",
       "1     68 Studley St          2     h    1076961 SS     3/09/2016  2.5      \n",
       "2     85 Turner St           2     h    1480000 S      3/12/2016  2.5      \n",
       "3     25 Bloomburg St        2     h    1035000 S      4/02/2016  2.5      \n",
       "4     5 Charles St           3     h    1465000 SP     4/03/2017  2.5      \n",
       "5     55a Park St            4     h    1600000 VB     4/06/2016  2.5      \n",
       "6     16 Maugie St           4     h    1076961 SN     6/08/2016  2.5      \n",
       "7     53 Turner St           2     h    1076961 S      6/08/2016  2.5      \n",
       "8     99 Turner St           2     h    1076961 S      6/08/2016  2.5      \n",
       "9     129 Charles St         2     h     941000 S      7/05/2016  2.5      \n",
       "10    124 Yarra St           3     h    1876000 S      7/05/2016  2.5      \n",
       "11    98 Charles St          2     h    1636000 S      8/10/2016  2.5      \n",
       "12    217 Langridge St       3     h    1000000 S      8/10/2016  2.5      \n",
       "13    18a Mollison St        2     t     745000 S      8/10/2016  2.5      \n",
       "14    10 Valiant St          2     h    1097000 S      8/10/2016  2.5      \n",
       "15    403/609 Victoria St    2     u     542000 S      8/10/2016  2.5      \n",
       "16    2 Rich St              2     h    1076961 SP     10/12/2016 2.5      \n",
       "17    25/84 Trenerry Cr      2     u     760000 SP     10/12/2016 2.5      \n",
       "18    106/119 Turner St      1     u     481000 SP     10/12/2016 2.5      \n",
       "19    40 Nicholson St        3     h    1350000 VB     12/11/2016 2.5      \n",
       "20    22 Park St             4     h    1985000 S      12/11/2016 2.5      \n",
       "21    13/84 Trenerry Cr      1     u     500000 S      12/11/2016 2.5      \n",
       "22    45 William St          2     h    1172500 S      13/08/2016 2.5      \n",
       "23    16 William St          2     h    1310000 S      15/10/2016 2.5      \n",
       "24    250 Langridge St       2     t     847000 S      16/07/2016 2.5      \n",
       "25    16b Mollison St        2     h    1076961 PI     16/07/2016 2.5      \n",
       "26    78 Yarra St            3     h    1176500 S      16/07/2016 2.5      \n",
       "27    196 Nicholson St       3     h     955000 S      17/09/2016 2.5      \n",
       "28    42 Valiant St          2     h     890000 S      17/09/2016 2.5      \n",
       "29    3/72 Charles St        4     h    1330000 PI     18/03/2017 2.5      \n",
       "30    1/1 Mayfield St        3     h    1076961 SP     18/03/2017 2.5      \n",
       "...   ...                    ...   ...  ...     ...    ...        ...      \n",
       "10060 241 Kooyong Rd         4     h    1076961 S      13/05/2017  4.600000\n",
       "10061 12/30 Lansell Rd       3     u    1076961 S      13/05/2017  4.600000\n",
       "10062 19 Mathoura Rd         2     h    1076961 SP     13/05/2017  4.600000\n",
       "10063 27 Montalto Av         4     h    1076961 S      13/05/2017  4.600000\n",
       "10064 8/161 Alexandra Av     1     u     650000 VB     20/05/2017  4.600000\n",
       "10065 2/60 Kororoit Creek Rd 3     t     670000 VB     8/04/2017   8.900000\n",
       "10066 27 Champion Rd         3     h    1575000 S      13/05/2017  8.900000\n",
       "10067 40 Florence St         4     h    1520000 SP     13/05/2017  8.900000\n",
       "10068 2/60 Kororoit Creek Rd 3     t     720000 SP     13/05/2017  8.900000\n",
       "10069 53 Park Cr             4     h    1175000 S      29/04/2017  8.900000\n",
       "10070 4 Walter St            3     h    1045000 S      29/04/2017  8.900000\n",
       "10071 3/217 Dandenong Rd     2     u     854000 SP     22/04/2017  5.100000\n",
       "10072 108 Peel St            1     h     900000 VB     29/04/2017  5.100000\n",
       "10073 24 Bimbadeen Cr        4     h    1076961 PI     8/04/2017  15.000000\n",
       "10074 19 Goulburn Gr         4     h     955000 PI     13/05/2017 15.000000\n",
       "10075 57 Tarcoola Dr         3     h     721500 S      20/05/2017 15.000000\n",
       "10076 8 Lowan Av             4     h     780250 SP     29/04/2017 15.000000\n",
       "10077 7 Marigolds Rd         3     h     984000 S      29/04/2017 15.000000\n",
       "10078 5/171 Hotham St        2     u     490000 VB     29/04/2017  6.600000\n",
       "10079 7 Garnet St            3     h    1305000 S      20/05/2017  9.800000\n",
       "10080 1/37 Clunes St         3     u     488000 S      13/05/2017 12.400000\n",
       "10081 7/234 Roden St         3     t    1171000 S      20/05/2017  1.900000\n",
       "10082 33 Rainsford Tce       3     h     445000 S      20/05/2017 14.500000\n",
       "10083 4 Susan Ct             3     h    1076961 SP     20/05/2017 14.500000\n",
       "10084 3/14 Queens Av         2     t     910000 SP     20/05/2017  9.300000\n",
       "10085 3/1 James Av           2     u    1076961 PI     22/04/2017 12.700000\n",
       "10086 NA                     3     NA   1076961 S      NA          8.621635\n",
       "10087 NA                     3     NA   1076961 S      NA          8.621635\n",
       "10088 NA                     3     NA   1076961 S      NA          8.621635\n",
       "10089 NA                     3     NA   1076961 S      NA          8.621635\n",
       "      Postcode Bedroom2 Bathroom Car Landsize BuildingArea YearBuilt\n",
       "1     3067     2        1        1   126.0000 146.8615     1970     \n",
       "2     3067     2        1        1   202.0000 146.8615     1970     \n",
       "3     3067     2        1        0   156.0000  79.0000     1900     \n",
       "4     3067     3        2        0   134.0000 150.0000     1900     \n",
       "5     3067     3        1        2   120.0000 142.0000     2014     \n",
       "6     3067     3        2        2   400.0000 220.0000     2006     \n",
       "7     3067     4        1        2   201.0000 146.8615     1900     \n",
       "8     3067     3        2        1   202.0000 146.8615     1900     \n",
       "9     3067     2        1        0   181.0000 146.8615     1970     \n",
       "10    3067     4        2        0   245.0000 210.0000     1910     \n",
       "11    3067     2        1        2   256.0000 107.0000     1890     \n",
       "12    3067     3        1        1   469.1814 146.8615     1970     \n",
       "13    3067     3        1        1   469.1814 146.8615     1970     \n",
       "14    3067     3        1        2   220.0000  75.0000     1900     \n",
       "15    3067     3        1        1   469.1814 146.8615     1970     \n",
       "16    3067     2        1        1   176.0000  80.0000     1925     \n",
       "17    3067     3        1        1   469.1814 146.8615     1970     \n",
       "18    3067     3        1        1   469.1814 146.8615     1970     \n",
       "19    3067     3        2        2   214.0000 190.0000     2005     \n",
       "20    3067     3        1        1   469.1814 146.8615     1970     \n",
       "21    3067     3        1        1   469.1814 146.8615     1970     \n",
       "22    3067     2        1        1   195.0000 146.8615     1970     \n",
       "23    3067     2        1        2   238.0000  97.0000     1890     \n",
       "24    3067     3        1        1   469.1814 146.8615     1970     \n",
       "25    3067     3        1        1   469.1814 146.8615     1970     \n",
       "26    3067     2        1        1   138.0000 105.0000     1890     \n",
       "27    3067     3        1        0   183.0000 146.8615     1970     \n",
       "28    3067     2        1        1   150.0000  73.0000     1985     \n",
       "29    3067     4        2        2   780.0000 135.0000     1900     \n",
       "30    3067     3        2        1   119.0000 167.0000     2005     \n",
       "...   ...      ...      ...      ... ...      ...          ...      \n",
       "10060 3142     4        3        1   658.0000 146.8615     1970     \n",
       "10061 3142     3        1        1   469.1814 146.8615     1970     \n",
       "10062 3142     2        1        0   192.0000 146.8615     1970     \n",
       "10063 3142     3        1        1   469.1814 146.8615     1970     \n",
       "10064 3142     3        1        1   469.1814 146.8615     1970     \n",
       "10065 3016     3        2        2   146.0000 141.0000     2001     \n",
       "10066 3016     3        1        1   860.0000 160.0000     1950     \n",
       "10067 3016     4        2        3   560.0000 146.8615     1970     \n",
       "10068 3016     3        2        2   146.0000 141.0000     2001     \n",
       "10069 3016     3        1        1   469.1814 146.8615     1970     \n",
       "10070 3016     3        2        3   526.0000 159.0000     1990     \n",
       "10071 3181     2        1        1   774.0000  90.0000     1945     \n",
       "10072 3181     1        1        1   160.0000 146.8615     1930     \n",
       "10073 3085     3        1        1   469.1814 146.8615     1970     \n",
       "10074 3085     3        1        1   469.1814 146.8615     1970     \n",
       "10075 3085     3        1        1   594.0000 146.8615     1970     \n",
       "10076 3085     3        1        1   469.1814 146.8615     1970     \n",
       "10077 3085     3        2        2   552.0000 146.8615     1970     \n",
       "10078 3183     2        1        0   601.0000 146.8615     1970     \n",
       "10079 3040     3        1        2   147.0000 146.8615     1970     \n",
       "10080 3083     3        1        1   260.0000 150.0000     1961     \n",
       "10081 3003     3        2        1   650.0000 146.8615     1970     \n",
       "10082 3061     3        1        2   534.0000 146.8615     1970     \n",
       "10083 3061     3        1        4   534.0000 146.8615     1970     \n",
       "10084 3145     3        1        1   469.1814 146.8615     1970     \n",
       "10085 3018     3        1        1   469.1814 146.8615     1970     \n",
       "10086   NA     3        1        1   469.1814 146.8615     1970     \n",
       "10087   NA     3        1        1   469.1814 146.8615     1970     \n",
       "10088   NA     3        1        1   469.1814 146.8615     1970     \n",
       "10089   NA     3        1        1   469.1814 146.8615     1970     \n",
       "      CouncilArea   Lattitude Longtitude\n",
       "1     Yarra         -37.8014  144.9958  \n",
       "2     Yarra         -37.7996  144.9984  \n",
       "3     Yarra         -37.8079  144.9934  \n",
       "4     Yarra         -37.8093  144.9944  \n",
       "5     Yarra         -37.8072  144.9941  \n",
       "6     Yarra         -37.7965  144.9965  \n",
       "7     Yarra         -37.7995  144.9974  \n",
       "8     Yarra         -37.7996  144.9989  \n",
       "9     Yarra         -37.8041  144.9953  \n",
       "10    Yarra         -37.8024  144.9993  \n",
       "11    Yarra         -37.8060  144.9954  \n",
       "12    NA                  NA        NA  \n",
       "13    NA                  NA        NA  \n",
       "14    Yarra         -37.8010  144.9989  \n",
       "15    NA                  NA        NA  \n",
       "16    Yarra         -37.7998  144.9972  \n",
       "17    NA                  NA        NA  \n",
       "18    NA                  NA        NA  \n",
       "19    Yarra         -37.8085  144.9964  \n",
       "20    NA            -37.8084  144.9942  \n",
       "21    NA                  NA        NA  \n",
       "22    Yarra         -37.8084  144.9973  \n",
       "23    Yarra         -37.8090  144.9976  \n",
       "24    NA                  NA        NA  \n",
       "25    NA                  NA        NA  \n",
       "26    Yarra         -37.8021  144.9965  \n",
       "27    Yarra         -37.8022  144.9975  \n",
       "28    Yarra         -37.8011  145.0004  \n",
       "29    Yarra         -37.8073  144.9952  \n",
       "30    Yarra         -37.8082  144.9999  \n",
       "...   ...           ...       ...       \n",
       "10060 Stonnington   -37.83893 145.0081  \n",
       "10061 NA            -37.83836 145.0141  \n",
       "10062 Stonnington   -37.84266 145.0178  \n",
       "10063 NA            -37.83669 145.0220  \n",
       "10064 NA                   NA 145.0238  \n",
       "10065 Hobsons Bay   -37.84740       NA  \n",
       "10066 Hobsons Bay   -37.83592 145.0237  \n",
       "10067 Hobsons Bay   -37.85725 145.0126  \n",
       "10068 Hobsons Bay   -37.85702 144.8854  \n",
       "10069 NA            -37.85379 144.8846  \n",
       "10070 Hobsons Bay   -37.85654 144.8722  \n",
       "10071 Stonnington          NA 144.8846  \n",
       "10072 Stonnington   -37.85500       NA  \n",
       "10073 NA            -37.85727 144.9990  \n",
       "10074 NA            -37.85821 144.9978  \n",
       "10075 Banyule       -37.85556 144.9979  \n",
       "10076 NA                   NA 144.9840  \n",
       "10077 Banyule              NA       NA  \n",
       "10078 Port Phillip  -37.73271 145.1063  \n",
       "10079 Moonee Valley -37.86560 145.0851  \n",
       "10080 Darebin       -37.87565 144.9919  \n",
       "10081 Melbourne     -37.84306 145.0385  \n",
       "10082 Hume          -37.80742 144.9448  \n",
       "10083 Hume          -37.80473 144.9487  \n",
       "10084 NA            -37.80593 144.9435  \n",
       "10085 NA            -37.67413 144.9473  \n",
       "10086 NA            -37.67513 144.9698  \n",
       "10087 NA                   NA 144.9694  \n",
       "10088 NA            -37.78466       NA  \n",
       "10089 NA                   NA 144.9383  "
      ]
     },
     "metadata": {},
     "output_type": "display_data"
    }
   ],
   "source": [
    "modified.md7<- modified.md7[c(-1,-2,-8)]\n",
    "modified.md7"
   ]
  },
  {
   "cell_type": "code",
   "execution_count": 23,
   "metadata": {},
   "outputs": [
    {
     "data": {
      "text/html": [
       "<table>\n",
       "<thead><tr><th scope=col>Rooms</th><th scope=col>Type</th><th scope=col>Price</th><th scope=col>Method</th><th scope=col>Date</th><th scope=col>Distance</th><th scope=col>Postcode</th><th scope=col>Bedroom2</th><th scope=col>Bathroom</th><th scope=col>Car</th><th scope=col>Landsize</th><th scope=col>BuildingArea</th><th scope=col>YearBuilt</th><th scope=col>CouncilArea</th><th scope=col>Lattitude</th><th scope=col>Longtitude</th></tr></thead>\n",
       "<tbody>\n",
       "\t<tr><td>2         </td><td>h         </td><td>1076961   </td><td>SS        </td><td>3/09/2016 </td><td>2.5       </td><td>3067      </td><td>2         </td><td>1         </td><td>1         </td><td>126.0000  </td><td>146.8615  </td><td>1970      </td><td>Yarra     </td><td>-37.8014  </td><td>144.9958  </td></tr>\n",
       "\t<tr><td>2         </td><td>h         </td><td>1480000   </td><td>S         </td><td>3/12/2016 </td><td>2.5       </td><td>3067      </td><td>2         </td><td>1         </td><td>1         </td><td>202.0000  </td><td>146.8615  </td><td>1970      </td><td>Yarra     </td><td>-37.7996  </td><td>144.9984  </td></tr>\n",
       "\t<tr><td>2         </td><td>h         </td><td>1035000   </td><td>S         </td><td>4/02/2016 </td><td>2.5       </td><td>3067      </td><td>2         </td><td>1         </td><td>0         </td><td>156.0000  </td><td> 79.0000  </td><td>1900      </td><td>Yarra     </td><td>-37.8079  </td><td>144.9934  </td></tr>\n",
       "\t<tr><td>3         </td><td>h         </td><td>1465000   </td><td>SP        </td><td>4/03/2017 </td><td>2.5       </td><td>3067      </td><td>3         </td><td>2         </td><td>0         </td><td>134.0000  </td><td>150.0000  </td><td>1900      </td><td>Yarra     </td><td>-37.8093  </td><td>144.9944  </td></tr>\n",
       "\t<tr><td>4         </td><td>h         </td><td>1600000   </td><td>VB        </td><td>4/06/2016 </td><td>2.5       </td><td>3067      </td><td>3         </td><td>1         </td><td>2         </td><td>120.0000  </td><td>142.0000  </td><td>2014      </td><td>Yarra     </td><td>-37.8072  </td><td>144.9941  </td></tr>\n",
       "\t<tr><td>4         </td><td>h         </td><td>1076961   </td><td>SN        </td><td>6/08/2016 </td><td>2.5       </td><td>3067      </td><td>3         </td><td>2         </td><td>2         </td><td>400.0000  </td><td>220.0000  </td><td>2006      </td><td>Yarra     </td><td>-37.7965  </td><td>144.9965  </td></tr>\n",
       "\t<tr><td>2         </td><td>h         </td><td>1076961   </td><td>S         </td><td>6/08/2016 </td><td>2.5       </td><td>3067      </td><td>4         </td><td>1         </td><td>2         </td><td>201.0000  </td><td>146.8615  </td><td>1900      </td><td>Yarra     </td><td>-37.7995  </td><td>144.9974  </td></tr>\n",
       "\t<tr><td>2         </td><td>h         </td><td>1076961   </td><td>S         </td><td>6/08/2016 </td><td>2.5       </td><td>3067      </td><td>3         </td><td>2         </td><td>1         </td><td>202.0000  </td><td>146.8615  </td><td>1900      </td><td>Yarra     </td><td>-37.7996  </td><td>144.9989  </td></tr>\n",
       "\t<tr><td>2         </td><td>h         </td><td> 941000   </td><td>S         </td><td>7/05/2016 </td><td>2.5       </td><td>3067      </td><td>2         </td><td>1         </td><td>0         </td><td>181.0000  </td><td>146.8615  </td><td>1970      </td><td>Yarra     </td><td>-37.8041  </td><td>144.9953  </td></tr>\n",
       "\t<tr><td>3         </td><td>h         </td><td>1876000   </td><td>S         </td><td>7/05/2016 </td><td>2.5       </td><td>3067      </td><td>4         </td><td>2         </td><td>0         </td><td>245.0000  </td><td>210.0000  </td><td>1910      </td><td>Yarra     </td><td>-37.8024  </td><td>144.9993  </td></tr>\n",
       "\t<tr><td>2         </td><td>h         </td><td>1636000   </td><td>S         </td><td>8/10/2016 </td><td>2.5       </td><td>3067      </td><td>2         </td><td>1         </td><td>2         </td><td>256.0000  </td><td>107.0000  </td><td>1890      </td><td>Yarra     </td><td>-37.8060  </td><td>144.9954  </td></tr>\n",
       "\t<tr><td>3         </td><td>h         </td><td>1000000   </td><td>S         </td><td>8/10/2016 </td><td>2.5       </td><td>3067      </td><td>3         </td><td>1         </td><td>1         </td><td>469.1814  </td><td>146.8615  </td><td>1970      </td><td>NA        </td><td>      NA  </td><td>      NA  </td></tr>\n",
       "\t<tr><td>2         </td><td>t         </td><td> 745000   </td><td>S         </td><td>8/10/2016 </td><td>2.5       </td><td>3067      </td><td>3         </td><td>1         </td><td>1         </td><td>469.1814  </td><td>146.8615  </td><td>1970      </td><td>NA        </td><td>      NA  </td><td>      NA  </td></tr>\n",
       "\t<tr><td>2         </td><td>h         </td><td>1097000   </td><td>S         </td><td>8/10/2016 </td><td>2.5       </td><td>3067      </td><td>3         </td><td>1         </td><td>2         </td><td>220.0000  </td><td> 75.0000  </td><td>1900      </td><td>Yarra     </td><td>-37.8010  </td><td>144.9989  </td></tr>\n",
       "\t<tr><td>2         </td><td>u         </td><td> 542000   </td><td>S         </td><td>8/10/2016 </td><td>2.5       </td><td>3067      </td><td>3         </td><td>1         </td><td>1         </td><td>469.1814  </td><td>146.8615  </td><td>1970      </td><td>NA        </td><td>      NA  </td><td>      NA  </td></tr>\n",
       "\t<tr><td>2         </td><td>h         </td><td>1076961   </td><td>SP        </td><td>10/12/2016</td><td>2.5       </td><td>3067      </td><td>2         </td><td>1         </td><td>1         </td><td>176.0000  </td><td> 80.0000  </td><td>1925      </td><td>Yarra     </td><td>-37.7998  </td><td>144.9972  </td></tr>\n",
       "\t<tr><td>2         </td><td>u         </td><td> 760000   </td><td>SP        </td><td>10/12/2016</td><td>2.5       </td><td>3067      </td><td>3         </td><td>1         </td><td>1         </td><td>469.1814  </td><td>146.8615  </td><td>1970      </td><td>NA        </td><td>      NA  </td><td>      NA  </td></tr>\n",
       "\t<tr><td>1         </td><td>u         </td><td> 481000   </td><td>SP        </td><td>10/12/2016</td><td>2.5       </td><td>3067      </td><td>3         </td><td>1         </td><td>1         </td><td>469.1814  </td><td>146.8615  </td><td>1970      </td><td>NA        </td><td>      NA  </td><td>      NA  </td></tr>\n",
       "\t<tr><td>3         </td><td>h         </td><td>1350000   </td><td>VB        </td><td>12/11/2016</td><td>2.5       </td><td>3067      </td><td>3         </td><td>2         </td><td>2         </td><td>214.0000  </td><td>190.0000  </td><td>2005      </td><td>Yarra     </td><td>-37.8085  </td><td>144.9964  </td></tr>\n",
       "\t<tr><td>4         </td><td>h         </td><td>1985000   </td><td>S         </td><td>12/11/2016</td><td>2.5       </td><td>3067      </td><td>3         </td><td>1         </td><td>1         </td><td>469.1814  </td><td>146.8615  </td><td>1970      </td><td>NA        </td><td>-37.8084  </td><td>144.9942  </td></tr>\n",
       "\t<tr><td>1         </td><td>u         </td><td> 500000   </td><td>S         </td><td>12/11/2016</td><td>2.5       </td><td>3067      </td><td>3         </td><td>1         </td><td>1         </td><td>469.1814  </td><td>146.8615  </td><td>1970      </td><td>NA        </td><td>      NA  </td><td>      NA  </td></tr>\n",
       "\t<tr><td>2         </td><td>h         </td><td>1172500   </td><td>S         </td><td>13/08/2016</td><td>2.5       </td><td>3067      </td><td>2         </td><td>1         </td><td>1         </td><td>195.0000  </td><td>146.8615  </td><td>1970      </td><td>Yarra     </td><td>-37.8084  </td><td>144.9973  </td></tr>\n",
       "\t<tr><td>2         </td><td>h         </td><td>1310000   </td><td>S         </td><td>15/10/2016</td><td>2.5       </td><td>3067      </td><td>2         </td><td>1         </td><td>2         </td><td>238.0000  </td><td> 97.0000  </td><td>1890      </td><td>Yarra     </td><td>-37.8090  </td><td>144.9976  </td></tr>\n",
       "\t<tr><td>2         </td><td>t         </td><td> 847000   </td><td>S         </td><td>16/07/2016</td><td>2.5       </td><td>3067      </td><td>3         </td><td>1         </td><td>1         </td><td>469.1814  </td><td>146.8615  </td><td>1970      </td><td>NA        </td><td>      NA  </td><td>      NA  </td></tr>\n",
       "\t<tr><td>2         </td><td>h         </td><td>1076961   </td><td>PI        </td><td>16/07/2016</td><td>2.5       </td><td>3067      </td><td>3         </td><td>1         </td><td>1         </td><td>469.1814  </td><td>146.8615  </td><td>1970      </td><td>NA        </td><td>      NA  </td><td>      NA  </td></tr>\n",
       "\t<tr><td>3         </td><td>h         </td><td>1176500   </td><td>S         </td><td>16/07/2016</td><td>2.5       </td><td>3067      </td><td>2         </td><td>1         </td><td>1         </td><td>138.0000  </td><td>105.0000  </td><td>1890      </td><td>Yarra     </td><td>-37.8021  </td><td>144.9965  </td></tr>\n",
       "\t<tr><td>3         </td><td>h         </td><td> 955000   </td><td>S         </td><td>17/09/2016</td><td>2.5       </td><td>3067      </td><td>3         </td><td>1         </td><td>0         </td><td>183.0000  </td><td>146.8615  </td><td>1970      </td><td>Yarra     </td><td>-37.8022  </td><td>144.9975  </td></tr>\n",
       "\t<tr><td>2         </td><td>h         </td><td> 890000   </td><td>S         </td><td>17/09/2016</td><td>2.5       </td><td>3067      </td><td>2         </td><td>1         </td><td>1         </td><td>150.0000  </td><td> 73.0000  </td><td>1985      </td><td>Yarra     </td><td>-37.8011  </td><td>145.0004  </td></tr>\n",
       "\t<tr><td>4         </td><td>h         </td><td>1330000   </td><td>PI        </td><td>18/03/2017</td><td>2.5       </td><td>3067      </td><td>4         </td><td>2         </td><td>2         </td><td>780.0000  </td><td>135.0000  </td><td>1900      </td><td>Yarra     </td><td>-37.8073  </td><td>144.9952  </td></tr>\n",
       "\t<tr><td>3         </td><td>h         </td><td>1076961   </td><td>SP        </td><td>18/03/2017</td><td>2.5       </td><td>3067      </td><td>3         </td><td>2         </td><td>1         </td><td>119.0000  </td><td>167.0000  </td><td>2005      </td><td>Yarra     </td><td>-37.8082  </td><td>144.9999  </td></tr>\n",
       "\t<tr><td>...</td><td>...</td><td>...</td><td>...</td><td>...</td><td>...</td><td>...</td><td>...</td><td>...</td><td>...</td><td>...</td><td>...</td><td>...</td><td>...</td><td>...</td><td>...</td></tr>\n",
       "\t<tr><td>4            </td><td>h            </td><td>1076961      </td><td>S            </td><td>13/05/2017   </td><td> 4.600000    </td><td>3142         </td><td>4            </td><td>3            </td><td>1            </td><td>658.0000     </td><td>146.8615     </td><td>1970         </td><td>Stonnington  </td><td>-37.83893    </td><td>145.0081     </td></tr>\n",
       "\t<tr><td>3            </td><td>u            </td><td>1076961      </td><td>S            </td><td>13/05/2017   </td><td> 4.600000    </td><td>3142         </td><td>3            </td><td>1            </td><td>1            </td><td>469.1814     </td><td>146.8615     </td><td>1970         </td><td>NA           </td><td>-37.83836    </td><td>145.0141     </td></tr>\n",
       "\t<tr><td>2            </td><td>h            </td><td>1076961      </td><td>SP           </td><td>13/05/2017   </td><td> 4.600000    </td><td>3142         </td><td>2            </td><td>1            </td><td>0            </td><td>192.0000     </td><td>146.8615     </td><td>1970         </td><td>Stonnington  </td><td>-37.84266    </td><td>145.0178     </td></tr>\n",
       "\t<tr><td>4            </td><td>h            </td><td>1076961      </td><td>S            </td><td>13/05/2017   </td><td> 4.600000    </td><td>3142         </td><td>3            </td><td>1            </td><td>1            </td><td>469.1814     </td><td>146.8615     </td><td>1970         </td><td>NA           </td><td>-37.83669    </td><td>145.0220     </td></tr>\n",
       "\t<tr><td>1            </td><td>u            </td><td> 650000      </td><td>VB           </td><td>20/05/2017   </td><td> 4.600000    </td><td>3142         </td><td>3            </td><td>1            </td><td>1            </td><td>469.1814     </td><td>146.8615     </td><td>1970         </td><td>NA           </td><td>       NA    </td><td>145.0238     </td></tr>\n",
       "\t<tr><td>3            </td><td>t            </td><td> 670000      </td><td>VB           </td><td>8/04/2017    </td><td> 8.900000    </td><td>3016         </td><td>3            </td><td>2            </td><td>2            </td><td>146.0000     </td><td>141.0000     </td><td>2001         </td><td>Hobsons Bay  </td><td>-37.84740    </td><td>      NA     </td></tr>\n",
       "\t<tr><td>3            </td><td>h            </td><td>1575000      </td><td>S            </td><td>13/05/2017   </td><td> 8.900000    </td><td>3016         </td><td>3            </td><td>1            </td><td>1            </td><td>860.0000     </td><td>160.0000     </td><td>1950         </td><td>Hobsons Bay  </td><td>-37.83592    </td><td>145.0237     </td></tr>\n",
       "\t<tr><td>4            </td><td>h            </td><td>1520000      </td><td>SP           </td><td>13/05/2017   </td><td> 8.900000    </td><td>3016         </td><td>4            </td><td>2            </td><td>3            </td><td>560.0000     </td><td>146.8615     </td><td>1970         </td><td>Hobsons Bay  </td><td>-37.85725    </td><td>145.0126     </td></tr>\n",
       "\t<tr><td>3            </td><td>t            </td><td> 720000      </td><td>SP           </td><td>13/05/2017   </td><td> 8.900000    </td><td>3016         </td><td>3            </td><td>2            </td><td>2            </td><td>146.0000     </td><td>141.0000     </td><td>2001         </td><td>Hobsons Bay  </td><td>-37.85702    </td><td>144.8854     </td></tr>\n",
       "\t<tr><td>4            </td><td>h            </td><td>1175000      </td><td>S            </td><td>29/04/2017   </td><td> 8.900000    </td><td>3016         </td><td>3            </td><td>1            </td><td>1            </td><td>469.1814     </td><td>146.8615     </td><td>1970         </td><td>NA           </td><td>-37.85379    </td><td>144.8846     </td></tr>\n",
       "\t<tr><td>3            </td><td>h            </td><td>1045000      </td><td>S            </td><td>29/04/2017   </td><td> 8.900000    </td><td>3016         </td><td>3            </td><td>2            </td><td>3            </td><td>526.0000     </td><td>159.0000     </td><td>1990         </td><td>Hobsons Bay  </td><td>-37.85654    </td><td>144.8722     </td></tr>\n",
       "\t<tr><td>2            </td><td>u            </td><td> 854000      </td><td>SP           </td><td>22/04/2017   </td><td> 5.100000    </td><td>3181         </td><td>2            </td><td>1            </td><td>1            </td><td>774.0000     </td><td> 90.0000     </td><td>1945         </td><td>Stonnington  </td><td>       NA    </td><td>144.8846     </td></tr>\n",
       "\t<tr><td>1            </td><td>h            </td><td> 900000      </td><td>VB           </td><td>29/04/2017   </td><td> 5.100000    </td><td>3181         </td><td>1            </td><td>1            </td><td>1            </td><td>160.0000     </td><td>146.8615     </td><td>1930         </td><td>Stonnington  </td><td>-37.85500    </td><td>      NA     </td></tr>\n",
       "\t<tr><td>4            </td><td>h            </td><td>1076961      </td><td>PI           </td><td>8/04/2017    </td><td>15.000000    </td><td>3085         </td><td>3            </td><td>1            </td><td>1            </td><td>469.1814     </td><td>146.8615     </td><td>1970         </td><td>NA           </td><td>-37.85727    </td><td>144.9990     </td></tr>\n",
       "\t<tr><td>4            </td><td>h            </td><td> 955000      </td><td>PI           </td><td>13/05/2017   </td><td>15.000000    </td><td>3085         </td><td>3            </td><td>1            </td><td>1            </td><td>469.1814     </td><td>146.8615     </td><td>1970         </td><td>NA           </td><td>-37.85821    </td><td>144.9978     </td></tr>\n",
       "\t<tr><td>3            </td><td>h            </td><td> 721500      </td><td>S            </td><td>20/05/2017   </td><td>15.000000    </td><td>3085         </td><td>3            </td><td>1            </td><td>1            </td><td>594.0000     </td><td>146.8615     </td><td>1970         </td><td>Banyule      </td><td>-37.85556    </td><td>144.9979     </td></tr>\n",
       "\t<tr><td>4            </td><td>h            </td><td> 780250      </td><td>SP           </td><td>29/04/2017   </td><td>15.000000    </td><td>3085         </td><td>3            </td><td>1            </td><td>1            </td><td>469.1814     </td><td>146.8615     </td><td>1970         </td><td>NA           </td><td>       NA    </td><td>144.9840     </td></tr>\n",
       "\t<tr><td>3            </td><td>h            </td><td> 984000      </td><td>S            </td><td>29/04/2017   </td><td>15.000000    </td><td>3085         </td><td>3            </td><td>2            </td><td>2            </td><td>552.0000     </td><td>146.8615     </td><td>1970         </td><td>Banyule      </td><td>       NA    </td><td>      NA     </td></tr>\n",
       "\t<tr><td>2            </td><td>u            </td><td> 490000      </td><td>VB           </td><td>29/04/2017   </td><td> 6.600000    </td><td>3183         </td><td>2            </td><td>1            </td><td>0            </td><td>601.0000     </td><td>146.8615     </td><td>1970         </td><td>Port Phillip </td><td>-37.73271    </td><td>145.1063     </td></tr>\n",
       "\t<tr><td>3            </td><td>h            </td><td>1305000      </td><td>S            </td><td>20/05/2017   </td><td> 9.800000    </td><td>3040         </td><td>3            </td><td>1            </td><td>2            </td><td>147.0000     </td><td>146.8615     </td><td>1970         </td><td>Moonee Valley</td><td>-37.86560    </td><td>145.0851     </td></tr>\n",
       "\t<tr><td>3            </td><td>u            </td><td> 488000      </td><td>S            </td><td>13/05/2017   </td><td>12.400000    </td><td>3083         </td><td>3            </td><td>1            </td><td>1            </td><td>260.0000     </td><td>150.0000     </td><td>1961         </td><td>Darebin      </td><td>-37.87565    </td><td>144.9919     </td></tr>\n",
       "\t<tr><td>3            </td><td>t            </td><td>1171000      </td><td>S            </td><td>20/05/2017   </td><td> 1.900000    </td><td>3003         </td><td>3            </td><td>2            </td><td>1            </td><td>650.0000     </td><td>146.8615     </td><td>1970         </td><td>Melbourne    </td><td>-37.84306    </td><td>145.0385     </td></tr>\n",
       "\t<tr><td>3            </td><td>h            </td><td> 445000      </td><td>S            </td><td>20/05/2017   </td><td>14.500000    </td><td>3061         </td><td>3            </td><td>1            </td><td>2            </td><td>534.0000     </td><td>146.8615     </td><td>1970         </td><td>Hume         </td><td>-37.80742    </td><td>144.9448     </td></tr>\n",
       "\t<tr><td>3            </td><td>h            </td><td>1076961      </td><td>SP           </td><td>20/05/2017   </td><td>14.500000    </td><td>3061         </td><td>3            </td><td>1            </td><td>4            </td><td>534.0000     </td><td>146.8615     </td><td>1970         </td><td>Hume         </td><td>-37.80473    </td><td>144.9487     </td></tr>\n",
       "\t<tr><td>2            </td><td>t            </td><td> 910000      </td><td>SP           </td><td>20/05/2017   </td><td> 9.300000    </td><td>3145         </td><td>3            </td><td>1            </td><td>1            </td><td>469.1814     </td><td>146.8615     </td><td>1970         </td><td>NA           </td><td>-37.80593    </td><td>144.9435     </td></tr>\n",
       "\t<tr><td>2            </td><td>u            </td><td>1076961      </td><td>PI           </td><td>22/04/2017   </td><td>12.700000    </td><td>3018         </td><td>3            </td><td>1            </td><td>1            </td><td>469.1814     </td><td>146.8615     </td><td>1970         </td><td>NA           </td><td>-37.67413    </td><td>144.9473     </td></tr>\n",
       "\t<tr><td>3            </td><td>NA           </td><td>1076961      </td><td>S            </td><td>NA           </td><td> 8.621635    </td><td>  NA         </td><td>3            </td><td>1            </td><td>1            </td><td>469.1814     </td><td>146.8615     </td><td>1970         </td><td>NA           </td><td>-37.67513    </td><td>144.9698     </td></tr>\n",
       "\t<tr><td>3            </td><td>NA           </td><td>1076961      </td><td>S            </td><td>NA           </td><td> 8.621635    </td><td>  NA         </td><td>3            </td><td>1            </td><td>1            </td><td>469.1814     </td><td>146.8615     </td><td>1970         </td><td>NA           </td><td>       NA    </td><td>144.9694     </td></tr>\n",
       "\t<tr><td>3            </td><td>NA           </td><td>1076961      </td><td>S            </td><td>NA           </td><td> 8.621635    </td><td>  NA         </td><td>3            </td><td>1            </td><td>1            </td><td>469.1814     </td><td>146.8615     </td><td>1970         </td><td>NA           </td><td>-37.78466    </td><td>      NA     </td></tr>\n",
       "\t<tr><td>3            </td><td>NA           </td><td>1076961      </td><td>S            </td><td>NA           </td><td> 8.621635    </td><td>  NA         </td><td>3            </td><td>1            </td><td>1            </td><td>469.1814     </td><td>146.8615     </td><td>1970         </td><td>NA           </td><td>       NA    </td><td>144.9383     </td></tr>\n",
       "</tbody>\n",
       "</table>\n"
      ],
      "text/latex": [
       "\\begin{tabular}{r|llllllllllllllll}\n",
       " Rooms & Type & Price & Method & Date & Distance & Postcode & Bedroom2 & Bathroom & Car & Landsize & BuildingArea & YearBuilt & CouncilArea & Lattitude & Longtitude\\\\\n",
       "\\hline\n",
       "\t 2          & h          & 1076961    & SS         & 3/09/2016  & 2.5        & 3067       & 2          & 1          & 1          & 126.0000   & 146.8615   & 1970       & Yarra      & -37.8014   & 144.9958  \\\\\n",
       "\t 2          & h          & 1480000    & S          & 3/12/2016  & 2.5        & 3067       & 2          & 1          & 1          & 202.0000   & 146.8615   & 1970       & Yarra      & -37.7996   & 144.9984  \\\\\n",
       "\t 2          & h          & 1035000    & S          & 4/02/2016  & 2.5        & 3067       & 2          & 1          & 0          & 156.0000   &  79.0000   & 1900       & Yarra      & -37.8079   & 144.9934  \\\\\n",
       "\t 3          & h          & 1465000    & SP         & 4/03/2017  & 2.5        & 3067       & 3          & 2          & 0          & 134.0000   & 150.0000   & 1900       & Yarra      & -37.8093   & 144.9944  \\\\\n",
       "\t 4          & h          & 1600000    & VB         & 4/06/2016  & 2.5        & 3067       & 3          & 1          & 2          & 120.0000   & 142.0000   & 2014       & Yarra      & -37.8072   & 144.9941  \\\\\n",
       "\t 4          & h          & 1076961    & SN         & 6/08/2016  & 2.5        & 3067       & 3          & 2          & 2          & 400.0000   & 220.0000   & 2006       & Yarra      & -37.7965   & 144.9965  \\\\\n",
       "\t 2          & h          & 1076961    & S          & 6/08/2016  & 2.5        & 3067       & 4          & 1          & 2          & 201.0000   & 146.8615   & 1900       & Yarra      & -37.7995   & 144.9974  \\\\\n",
       "\t 2          & h          & 1076961    & S          & 6/08/2016  & 2.5        & 3067       & 3          & 2          & 1          & 202.0000   & 146.8615   & 1900       & Yarra      & -37.7996   & 144.9989  \\\\\n",
       "\t 2          & h          &  941000    & S          & 7/05/2016  & 2.5        & 3067       & 2          & 1          & 0          & 181.0000   & 146.8615   & 1970       & Yarra      & -37.8041   & 144.9953  \\\\\n",
       "\t 3          & h          & 1876000    & S          & 7/05/2016  & 2.5        & 3067       & 4          & 2          & 0          & 245.0000   & 210.0000   & 1910       & Yarra      & -37.8024   & 144.9993  \\\\\n",
       "\t 2          & h          & 1636000    & S          & 8/10/2016  & 2.5        & 3067       & 2          & 1          & 2          & 256.0000   & 107.0000   & 1890       & Yarra      & -37.8060   & 144.9954  \\\\\n",
       "\t 3          & h          & 1000000    & S          & 8/10/2016  & 2.5        & 3067       & 3          & 1          & 1          & 469.1814   & 146.8615   & 1970       & NA         &       NA   &       NA  \\\\\n",
       "\t 2          & t          &  745000    & S          & 8/10/2016  & 2.5        & 3067       & 3          & 1          & 1          & 469.1814   & 146.8615   & 1970       & NA         &       NA   &       NA  \\\\\n",
       "\t 2          & h          & 1097000    & S          & 8/10/2016  & 2.5        & 3067       & 3          & 1          & 2          & 220.0000   &  75.0000   & 1900       & Yarra      & -37.8010   & 144.9989  \\\\\n",
       "\t 2          & u          &  542000    & S          & 8/10/2016  & 2.5        & 3067       & 3          & 1          & 1          & 469.1814   & 146.8615   & 1970       & NA         &       NA   &       NA  \\\\\n",
       "\t 2          & h          & 1076961    & SP         & 10/12/2016 & 2.5        & 3067       & 2          & 1          & 1          & 176.0000   &  80.0000   & 1925       & Yarra      & -37.7998   & 144.9972  \\\\\n",
       "\t 2          & u          &  760000    & SP         & 10/12/2016 & 2.5        & 3067       & 3          & 1          & 1          & 469.1814   & 146.8615   & 1970       & NA         &       NA   &       NA  \\\\\n",
       "\t 1          & u          &  481000    & SP         & 10/12/2016 & 2.5        & 3067       & 3          & 1          & 1          & 469.1814   & 146.8615   & 1970       & NA         &       NA   &       NA  \\\\\n",
       "\t 3          & h          & 1350000    & VB         & 12/11/2016 & 2.5        & 3067       & 3          & 2          & 2          & 214.0000   & 190.0000   & 2005       & Yarra      & -37.8085   & 144.9964  \\\\\n",
       "\t 4          & h          & 1985000    & S          & 12/11/2016 & 2.5        & 3067       & 3          & 1          & 1          & 469.1814   & 146.8615   & 1970       & NA         & -37.8084   & 144.9942  \\\\\n",
       "\t 1          & u          &  500000    & S          & 12/11/2016 & 2.5        & 3067       & 3          & 1          & 1          & 469.1814   & 146.8615   & 1970       & NA         &       NA   &       NA  \\\\\n",
       "\t 2          & h          & 1172500    & S          & 13/08/2016 & 2.5        & 3067       & 2          & 1          & 1          & 195.0000   & 146.8615   & 1970       & Yarra      & -37.8084   & 144.9973  \\\\\n",
       "\t 2          & h          & 1310000    & S          & 15/10/2016 & 2.5        & 3067       & 2          & 1          & 2          & 238.0000   &  97.0000   & 1890       & Yarra      & -37.8090   & 144.9976  \\\\\n",
       "\t 2          & t          &  847000    & S          & 16/07/2016 & 2.5        & 3067       & 3          & 1          & 1          & 469.1814   & 146.8615   & 1970       & NA         &       NA   &       NA  \\\\\n",
       "\t 2          & h          & 1076961    & PI         & 16/07/2016 & 2.5        & 3067       & 3          & 1          & 1          & 469.1814   & 146.8615   & 1970       & NA         &       NA   &       NA  \\\\\n",
       "\t 3          & h          & 1176500    & S          & 16/07/2016 & 2.5        & 3067       & 2          & 1          & 1          & 138.0000   & 105.0000   & 1890       & Yarra      & -37.8021   & 144.9965  \\\\\n",
       "\t 3          & h          &  955000    & S          & 17/09/2016 & 2.5        & 3067       & 3          & 1          & 0          & 183.0000   & 146.8615   & 1970       & Yarra      & -37.8022   & 144.9975  \\\\\n",
       "\t 2          & h          &  890000    & S          & 17/09/2016 & 2.5        & 3067       & 2          & 1          & 1          & 150.0000   &  73.0000   & 1985       & Yarra      & -37.8011   & 145.0004  \\\\\n",
       "\t 4          & h          & 1330000    & PI         & 18/03/2017 & 2.5        & 3067       & 4          & 2          & 2          & 780.0000   & 135.0000   & 1900       & Yarra      & -37.8073   & 144.9952  \\\\\n",
       "\t 3          & h          & 1076961    & SP         & 18/03/2017 & 2.5        & 3067       & 3          & 2          & 1          & 119.0000   & 167.0000   & 2005       & Yarra      & -37.8082   & 144.9999  \\\\\n",
       "\t ... & ... & ... & ... & ... & ... & ... & ... & ... & ... & ... & ... & ... & ... & ... & ...\\\\\n",
       "\t 4             & h             & 1076961       & S             & 13/05/2017    &  4.600000     & 3142          & 4             & 3             & 1             & 658.0000      & 146.8615      & 1970          & Stonnington   & -37.83893     & 145.0081     \\\\\n",
       "\t 3             & u             & 1076961       & S             & 13/05/2017    &  4.600000     & 3142          & 3             & 1             & 1             & 469.1814      & 146.8615      & 1970          & NA            & -37.83836     & 145.0141     \\\\\n",
       "\t 2             & h             & 1076961       & SP            & 13/05/2017    &  4.600000     & 3142          & 2             & 1             & 0             & 192.0000      & 146.8615      & 1970          & Stonnington   & -37.84266     & 145.0178     \\\\\n",
       "\t 4             & h             & 1076961       & S             & 13/05/2017    &  4.600000     & 3142          & 3             & 1             & 1             & 469.1814      & 146.8615      & 1970          & NA            & -37.83669     & 145.0220     \\\\\n",
       "\t 1             & u             &  650000       & VB            & 20/05/2017    &  4.600000     & 3142          & 3             & 1             & 1             & 469.1814      & 146.8615      & 1970          & NA            &        NA     & 145.0238     \\\\\n",
       "\t 3             & t             &  670000       & VB            & 8/04/2017     &  8.900000     & 3016          & 3             & 2             & 2             & 146.0000      & 141.0000      & 2001          & Hobsons Bay   & -37.84740     &       NA     \\\\\n",
       "\t 3             & h             & 1575000       & S             & 13/05/2017    &  8.900000     & 3016          & 3             & 1             & 1             & 860.0000      & 160.0000      & 1950          & Hobsons Bay   & -37.83592     & 145.0237     \\\\\n",
       "\t 4             & h             & 1520000       & SP            & 13/05/2017    &  8.900000     & 3016          & 4             & 2             & 3             & 560.0000      & 146.8615      & 1970          & Hobsons Bay   & -37.85725     & 145.0126     \\\\\n",
       "\t 3             & t             &  720000       & SP            & 13/05/2017    &  8.900000     & 3016          & 3             & 2             & 2             & 146.0000      & 141.0000      & 2001          & Hobsons Bay   & -37.85702     & 144.8854     \\\\\n",
       "\t 4             & h             & 1175000       & S             & 29/04/2017    &  8.900000     & 3016          & 3             & 1             & 1             & 469.1814      & 146.8615      & 1970          & NA            & -37.85379     & 144.8846     \\\\\n",
       "\t 3             & h             & 1045000       & S             & 29/04/2017    &  8.900000     & 3016          & 3             & 2             & 3             & 526.0000      & 159.0000      & 1990          & Hobsons Bay   & -37.85654     & 144.8722     \\\\\n",
       "\t 2             & u             &  854000       & SP            & 22/04/2017    &  5.100000     & 3181          & 2             & 1             & 1             & 774.0000      &  90.0000      & 1945          & Stonnington   &        NA     & 144.8846     \\\\\n",
       "\t 1             & h             &  900000       & VB            & 29/04/2017    &  5.100000     & 3181          & 1             & 1             & 1             & 160.0000      & 146.8615      & 1930          & Stonnington   & -37.85500     &       NA     \\\\\n",
       "\t 4             & h             & 1076961       & PI            & 8/04/2017     & 15.000000     & 3085          & 3             & 1             & 1             & 469.1814      & 146.8615      & 1970          & NA            & -37.85727     & 144.9990     \\\\\n",
       "\t 4             & h             &  955000       & PI            & 13/05/2017    & 15.000000     & 3085          & 3             & 1             & 1             & 469.1814      & 146.8615      & 1970          & NA            & -37.85821     & 144.9978     \\\\\n",
       "\t 3             & h             &  721500       & S             & 20/05/2017    & 15.000000     & 3085          & 3             & 1             & 1             & 594.0000      & 146.8615      & 1970          & Banyule       & -37.85556     & 144.9979     \\\\\n",
       "\t 4             & h             &  780250       & SP            & 29/04/2017    & 15.000000     & 3085          & 3             & 1             & 1             & 469.1814      & 146.8615      & 1970          & NA            &        NA     & 144.9840     \\\\\n",
       "\t 3             & h             &  984000       & S             & 29/04/2017    & 15.000000     & 3085          & 3             & 2             & 2             & 552.0000      & 146.8615      & 1970          & Banyule       &        NA     &       NA     \\\\\n",
       "\t 2             & u             &  490000       & VB            & 29/04/2017    &  6.600000     & 3183          & 2             & 1             & 0             & 601.0000      & 146.8615      & 1970          & Port Phillip  & -37.73271     & 145.1063     \\\\\n",
       "\t 3             & h             & 1305000       & S             & 20/05/2017    &  9.800000     & 3040          & 3             & 1             & 2             & 147.0000      & 146.8615      & 1970          & Moonee Valley & -37.86560     & 145.0851     \\\\\n",
       "\t 3             & u             &  488000       & S             & 13/05/2017    & 12.400000     & 3083          & 3             & 1             & 1             & 260.0000      & 150.0000      & 1961          & Darebin       & -37.87565     & 144.9919     \\\\\n",
       "\t 3             & t             & 1171000       & S             & 20/05/2017    &  1.900000     & 3003          & 3             & 2             & 1             & 650.0000      & 146.8615      & 1970          & Melbourne     & -37.84306     & 145.0385     \\\\\n",
       "\t 3             & h             &  445000       & S             & 20/05/2017    & 14.500000     & 3061          & 3             & 1             & 2             & 534.0000      & 146.8615      & 1970          & Hume          & -37.80742     & 144.9448     \\\\\n",
       "\t 3             & h             & 1076961       & SP            & 20/05/2017    & 14.500000     & 3061          & 3             & 1             & 4             & 534.0000      & 146.8615      & 1970          & Hume          & -37.80473     & 144.9487     \\\\\n",
       "\t 2             & t             &  910000       & SP            & 20/05/2017    &  9.300000     & 3145          & 3             & 1             & 1             & 469.1814      & 146.8615      & 1970          & NA            & -37.80593     & 144.9435     \\\\\n",
       "\t 2             & u             & 1076961       & PI            & 22/04/2017    & 12.700000     & 3018          & 3             & 1             & 1             & 469.1814      & 146.8615      & 1970          & NA            & -37.67413     & 144.9473     \\\\\n",
       "\t 3             & NA            & 1076961       & S             & NA            &  8.621635     &   NA          & 3             & 1             & 1             & 469.1814      & 146.8615      & 1970          & NA            & -37.67513     & 144.9698     \\\\\n",
       "\t 3             & NA            & 1076961       & S             & NA            &  8.621635     &   NA          & 3             & 1             & 1             & 469.1814      & 146.8615      & 1970          & NA            &        NA     & 144.9694     \\\\\n",
       "\t 3             & NA            & 1076961       & S             & NA            &  8.621635     &   NA          & 3             & 1             & 1             & 469.1814      & 146.8615      & 1970          & NA            & -37.78466     &       NA     \\\\\n",
       "\t 3             & NA            & 1076961       & S             & NA            &  8.621635     &   NA          & 3             & 1             & 1             & 469.1814      & 146.8615      & 1970          & NA            &        NA     & 144.9383     \\\\\n",
       "\\end{tabular}\n"
      ],
      "text/markdown": [
       "\n",
       "Rooms | Type | Price | Method | Date | Distance | Postcode | Bedroom2 | Bathroom | Car | Landsize | BuildingArea | YearBuilt | CouncilArea | Lattitude | Longtitude | \n",
       "|---|---|---|---|---|---|---|---|---|---|---|---|---|---|---|---|---|---|---|---|---|---|---|---|---|---|---|---|---|---|---|---|---|---|---|---|---|---|---|---|---|---|---|---|---|---|---|---|---|---|---|---|---|---|---|---|---|---|---|---|---|\n",
       "| 2          | h          | 1076961    | SS         | 3/09/2016  | 2.5        | 3067       | 2          | 1          | 1          | 126.0000   | 146.8615   | 1970       | Yarra      | -37.8014   | 144.9958   | \n",
       "| 2          | h          | 1480000    | S          | 3/12/2016  | 2.5        | 3067       | 2          | 1          | 1          | 202.0000   | 146.8615   | 1970       | Yarra      | -37.7996   | 144.9984   | \n",
       "| 2          | h          | 1035000    | S          | 4/02/2016  | 2.5        | 3067       | 2          | 1          | 0          | 156.0000   |  79.0000   | 1900       | Yarra      | -37.8079   | 144.9934   | \n",
       "| 3          | h          | 1465000    | SP         | 4/03/2017  | 2.5        | 3067       | 3          | 2          | 0          | 134.0000   | 150.0000   | 1900       | Yarra      | -37.8093   | 144.9944   | \n",
       "| 4          | h          | 1600000    | VB         | 4/06/2016  | 2.5        | 3067       | 3          | 1          | 2          | 120.0000   | 142.0000   | 2014       | Yarra      | -37.8072   | 144.9941   | \n",
       "| 4          | h          | 1076961    | SN         | 6/08/2016  | 2.5        | 3067       | 3          | 2          | 2          | 400.0000   | 220.0000   | 2006       | Yarra      | -37.7965   | 144.9965   | \n",
       "| 2          | h          | 1076961    | S          | 6/08/2016  | 2.5        | 3067       | 4          | 1          | 2          | 201.0000   | 146.8615   | 1900       | Yarra      | -37.7995   | 144.9974   | \n",
       "| 2          | h          | 1076961    | S          | 6/08/2016  | 2.5        | 3067       | 3          | 2          | 1          | 202.0000   | 146.8615   | 1900       | Yarra      | -37.7996   | 144.9989   | \n",
       "| 2          | h          |  941000    | S          | 7/05/2016  | 2.5        | 3067       | 2          | 1          | 0          | 181.0000   | 146.8615   | 1970       | Yarra      | -37.8041   | 144.9953   | \n",
       "| 3          | h          | 1876000    | S          | 7/05/2016  | 2.5        | 3067       | 4          | 2          | 0          | 245.0000   | 210.0000   | 1910       | Yarra      | -37.8024   | 144.9993   | \n",
       "| 2          | h          | 1636000    | S          | 8/10/2016  | 2.5        | 3067       | 2          | 1          | 2          | 256.0000   | 107.0000   | 1890       | Yarra      | -37.8060   | 144.9954   | \n",
       "| 3          | h          | 1000000    | S          | 8/10/2016  | 2.5        | 3067       | 3          | 1          | 1          | 469.1814   | 146.8615   | 1970       | NA         |       NA   |       NA   | \n",
       "| 2          | t          |  745000    | S          | 8/10/2016  | 2.5        | 3067       | 3          | 1          | 1          | 469.1814   | 146.8615   | 1970       | NA         |       NA   |       NA   | \n",
       "| 2          | h          | 1097000    | S          | 8/10/2016  | 2.5        | 3067       | 3          | 1          | 2          | 220.0000   |  75.0000   | 1900       | Yarra      | -37.8010   | 144.9989   | \n",
       "| 2          | u          |  542000    | S          | 8/10/2016  | 2.5        | 3067       | 3          | 1          | 1          | 469.1814   | 146.8615   | 1970       | NA         |       NA   |       NA   | \n",
       "| 2          | h          | 1076961    | SP         | 10/12/2016 | 2.5        | 3067       | 2          | 1          | 1          | 176.0000   |  80.0000   | 1925       | Yarra      | -37.7998   | 144.9972   | \n",
       "| 2          | u          |  760000    | SP         | 10/12/2016 | 2.5        | 3067       | 3          | 1          | 1          | 469.1814   | 146.8615   | 1970       | NA         |       NA   |       NA   | \n",
       "| 1          | u          |  481000    | SP         | 10/12/2016 | 2.5        | 3067       | 3          | 1          | 1          | 469.1814   | 146.8615   | 1970       | NA         |       NA   |       NA   | \n",
       "| 3          | h          | 1350000    | VB         | 12/11/2016 | 2.5        | 3067       | 3          | 2          | 2          | 214.0000   | 190.0000   | 2005       | Yarra      | -37.8085   | 144.9964   | \n",
       "| 4          | h          | 1985000    | S          | 12/11/2016 | 2.5        | 3067       | 3          | 1          | 1          | 469.1814   | 146.8615   | 1970       | NA         | -37.8084   | 144.9942   | \n",
       "| 1          | u          |  500000    | S          | 12/11/2016 | 2.5        | 3067       | 3          | 1          | 1          | 469.1814   | 146.8615   | 1970       | NA         |       NA   |       NA   | \n",
       "| 2          | h          | 1172500    | S          | 13/08/2016 | 2.5        | 3067       | 2          | 1          | 1          | 195.0000   | 146.8615   | 1970       | Yarra      | -37.8084   | 144.9973   | \n",
       "| 2          | h          | 1310000    | S          | 15/10/2016 | 2.5        | 3067       | 2          | 1          | 2          | 238.0000   |  97.0000   | 1890       | Yarra      | -37.8090   | 144.9976   | \n",
       "| 2          | t          |  847000    | S          | 16/07/2016 | 2.5        | 3067       | 3          | 1          | 1          | 469.1814   | 146.8615   | 1970       | NA         |       NA   |       NA   | \n",
       "| 2          | h          | 1076961    | PI         | 16/07/2016 | 2.5        | 3067       | 3          | 1          | 1          | 469.1814   | 146.8615   | 1970       | NA         |       NA   |       NA   | \n",
       "| 3          | h          | 1176500    | S          | 16/07/2016 | 2.5        | 3067       | 2          | 1          | 1          | 138.0000   | 105.0000   | 1890       | Yarra      | -37.8021   | 144.9965   | \n",
       "| 3          | h          |  955000    | S          | 17/09/2016 | 2.5        | 3067       | 3          | 1          | 0          | 183.0000   | 146.8615   | 1970       | Yarra      | -37.8022   | 144.9975   | \n",
       "| 2          | h          |  890000    | S          | 17/09/2016 | 2.5        | 3067       | 2          | 1          | 1          | 150.0000   |  73.0000   | 1985       | Yarra      | -37.8011   | 145.0004   | \n",
       "| 4          | h          | 1330000    | PI         | 18/03/2017 | 2.5        | 3067       | 4          | 2          | 2          | 780.0000   | 135.0000   | 1900       | Yarra      | -37.8073   | 144.9952   | \n",
       "| 3          | h          | 1076961    | SP         | 18/03/2017 | 2.5        | 3067       | 3          | 2          | 1          | 119.0000   | 167.0000   | 2005       | Yarra      | -37.8082   | 144.9999   | \n",
       "| ... | ... | ... | ... | ... | ... | ... | ... | ... | ... | ... | ... | ... | ... | ... | ... | \n",
       "| 4             | h             | 1076961       | S             | 13/05/2017    |  4.600000     | 3142          | 4             | 3             | 1             | 658.0000      | 146.8615      | 1970          | Stonnington   | -37.83893     | 145.0081      | \n",
       "| 3             | u             | 1076961       | S             | 13/05/2017    |  4.600000     | 3142          | 3             | 1             | 1             | 469.1814      | 146.8615      | 1970          | NA            | -37.83836     | 145.0141      | \n",
       "| 2             | h             | 1076961       | SP            | 13/05/2017    |  4.600000     | 3142          | 2             | 1             | 0             | 192.0000      | 146.8615      | 1970          | Stonnington   | -37.84266     | 145.0178      | \n",
       "| 4             | h             | 1076961       | S             | 13/05/2017    |  4.600000     | 3142          | 3             | 1             | 1             | 469.1814      | 146.8615      | 1970          | NA            | -37.83669     | 145.0220      | \n",
       "| 1             | u             |  650000       | VB            | 20/05/2017    |  4.600000     | 3142          | 3             | 1             | 1             | 469.1814      | 146.8615      | 1970          | NA            |        NA     | 145.0238      | \n",
       "| 3             | t             |  670000       | VB            | 8/04/2017     |  8.900000     | 3016          | 3             | 2             | 2             | 146.0000      | 141.0000      | 2001          | Hobsons Bay   | -37.84740     |       NA      | \n",
       "| 3             | h             | 1575000       | S             | 13/05/2017    |  8.900000     | 3016          | 3             | 1             | 1             | 860.0000      | 160.0000      | 1950          | Hobsons Bay   | -37.83592     | 145.0237      | \n",
       "| 4             | h             | 1520000       | SP            | 13/05/2017    |  8.900000     | 3016          | 4             | 2             | 3             | 560.0000      | 146.8615      | 1970          | Hobsons Bay   | -37.85725     | 145.0126      | \n",
       "| 3             | t             |  720000       | SP            | 13/05/2017    |  8.900000     | 3016          | 3             | 2             | 2             | 146.0000      | 141.0000      | 2001          | Hobsons Bay   | -37.85702     | 144.8854      | \n",
       "| 4             | h             | 1175000       | S             | 29/04/2017    |  8.900000     | 3016          | 3             | 1             | 1             | 469.1814      | 146.8615      | 1970          | NA            | -37.85379     | 144.8846      | \n",
       "| 3             | h             | 1045000       | S             | 29/04/2017    |  8.900000     | 3016          | 3             | 2             | 3             | 526.0000      | 159.0000      | 1990          | Hobsons Bay   | -37.85654     | 144.8722      | \n",
       "| 2             | u             |  854000       | SP            | 22/04/2017    |  5.100000     | 3181          | 2             | 1             | 1             | 774.0000      |  90.0000      | 1945          | Stonnington   |        NA     | 144.8846      | \n",
       "| 1             | h             |  900000       | VB            | 29/04/2017    |  5.100000     | 3181          | 1             | 1             | 1             | 160.0000      | 146.8615      | 1930          | Stonnington   | -37.85500     |       NA      | \n",
       "| 4             | h             | 1076961       | PI            | 8/04/2017     | 15.000000     | 3085          | 3             | 1             | 1             | 469.1814      | 146.8615      | 1970          | NA            | -37.85727     | 144.9990      | \n",
       "| 4             | h             |  955000       | PI            | 13/05/2017    | 15.000000     | 3085          | 3             | 1             | 1             | 469.1814      | 146.8615      | 1970          | NA            | -37.85821     | 144.9978      | \n",
       "| 3             | h             |  721500       | S             | 20/05/2017    | 15.000000     | 3085          | 3             | 1             | 1             | 594.0000      | 146.8615      | 1970          | Banyule       | -37.85556     | 144.9979      | \n",
       "| 4             | h             |  780250       | SP            | 29/04/2017    | 15.000000     | 3085          | 3             | 1             | 1             | 469.1814      | 146.8615      | 1970          | NA            |        NA     | 144.9840      | \n",
       "| 3             | h             |  984000       | S             | 29/04/2017    | 15.000000     | 3085          | 3             | 2             | 2             | 552.0000      | 146.8615      | 1970          | Banyule       |        NA     |       NA      | \n",
       "| 2             | u             |  490000       | VB            | 29/04/2017    |  6.600000     | 3183          | 2             | 1             | 0             | 601.0000      | 146.8615      | 1970          | Port Phillip  | -37.73271     | 145.1063      | \n",
       "| 3             | h             | 1305000       | S             | 20/05/2017    |  9.800000     | 3040          | 3             | 1             | 2             | 147.0000      | 146.8615      | 1970          | Moonee Valley | -37.86560     | 145.0851      | \n",
       "| 3             | u             |  488000       | S             | 13/05/2017    | 12.400000     | 3083          | 3             | 1             | 1             | 260.0000      | 150.0000      | 1961          | Darebin       | -37.87565     | 144.9919      | \n",
       "| 3             | t             | 1171000       | S             | 20/05/2017    |  1.900000     | 3003          | 3             | 2             | 1             | 650.0000      | 146.8615      | 1970          | Melbourne     | -37.84306     | 145.0385      | \n",
       "| 3             | h             |  445000       | S             | 20/05/2017    | 14.500000     | 3061          | 3             | 1             | 2             | 534.0000      | 146.8615      | 1970          | Hume          | -37.80742     | 144.9448      | \n",
       "| 3             | h             | 1076961       | SP            | 20/05/2017    | 14.500000     | 3061          | 3             | 1             | 4             | 534.0000      | 146.8615      | 1970          | Hume          | -37.80473     | 144.9487      | \n",
       "| 2             | t             |  910000       | SP            | 20/05/2017    |  9.300000     | 3145          | 3             | 1             | 1             | 469.1814      | 146.8615      | 1970          | NA            | -37.80593     | 144.9435      | \n",
       "| 2             | u             | 1076961       | PI            | 22/04/2017    | 12.700000     | 3018          | 3             | 1             | 1             | 469.1814      | 146.8615      | 1970          | NA            | -37.67413     | 144.9473      | \n",
       "| 3             | NA            | 1076961       | S             | NA            |  8.621635     |   NA          | 3             | 1             | 1             | 469.1814      | 146.8615      | 1970          | NA            | -37.67513     | 144.9698      | \n",
       "| 3             | NA            | 1076961       | S             | NA            |  8.621635     |   NA          | 3             | 1             | 1             | 469.1814      | 146.8615      | 1970          | NA            |        NA     | 144.9694      | \n",
       "| 3             | NA            | 1076961       | S             | NA            |  8.621635     |   NA          | 3             | 1             | 1             | 469.1814      | 146.8615      | 1970          | NA            | -37.78466     |       NA      | \n",
       "| 3             | NA            | 1076961       | S             | NA            |  8.621635     |   NA          | 3             | 1             | 1             | 469.1814      | 146.8615      | 1970          | NA            |        NA     | 144.9383      | \n",
       "\n",
       "\n"
      ],
      "text/plain": [
       "      Rooms Type Price   Method Date       Distance  Postcode Bedroom2 Bathroom\n",
       "1     2     h    1076961 SS     3/09/2016  2.5       3067     2        1       \n",
       "2     2     h    1480000 S      3/12/2016  2.5       3067     2        1       \n",
       "3     2     h    1035000 S      4/02/2016  2.5       3067     2        1       \n",
       "4     3     h    1465000 SP     4/03/2017  2.5       3067     3        2       \n",
       "5     4     h    1600000 VB     4/06/2016  2.5       3067     3        1       \n",
       "6     4     h    1076961 SN     6/08/2016  2.5       3067     3        2       \n",
       "7     2     h    1076961 S      6/08/2016  2.5       3067     4        1       \n",
       "8     2     h    1076961 S      6/08/2016  2.5       3067     3        2       \n",
       "9     2     h     941000 S      7/05/2016  2.5       3067     2        1       \n",
       "10    3     h    1876000 S      7/05/2016  2.5       3067     4        2       \n",
       "11    2     h    1636000 S      8/10/2016  2.5       3067     2        1       \n",
       "12    3     h    1000000 S      8/10/2016  2.5       3067     3        1       \n",
       "13    2     t     745000 S      8/10/2016  2.5       3067     3        1       \n",
       "14    2     h    1097000 S      8/10/2016  2.5       3067     3        1       \n",
       "15    2     u     542000 S      8/10/2016  2.5       3067     3        1       \n",
       "16    2     h    1076961 SP     10/12/2016 2.5       3067     2        1       \n",
       "17    2     u     760000 SP     10/12/2016 2.5       3067     3        1       \n",
       "18    1     u     481000 SP     10/12/2016 2.5       3067     3        1       \n",
       "19    3     h    1350000 VB     12/11/2016 2.5       3067     3        2       \n",
       "20    4     h    1985000 S      12/11/2016 2.5       3067     3        1       \n",
       "21    1     u     500000 S      12/11/2016 2.5       3067     3        1       \n",
       "22    2     h    1172500 S      13/08/2016 2.5       3067     2        1       \n",
       "23    2     h    1310000 S      15/10/2016 2.5       3067     2        1       \n",
       "24    2     t     847000 S      16/07/2016 2.5       3067     3        1       \n",
       "25    2     h    1076961 PI     16/07/2016 2.5       3067     3        1       \n",
       "26    3     h    1176500 S      16/07/2016 2.5       3067     2        1       \n",
       "27    3     h     955000 S      17/09/2016 2.5       3067     3        1       \n",
       "28    2     h     890000 S      17/09/2016 2.5       3067     2        1       \n",
       "29    4     h    1330000 PI     18/03/2017 2.5       3067     4        2       \n",
       "30    3     h    1076961 SP     18/03/2017 2.5       3067     3        2       \n",
       "...   ...   ...  ...     ...    ...        ...       ...      ...      ...     \n",
       "10060 4     h    1076961 S      13/05/2017  4.600000 3142     4        3       \n",
       "10061 3     u    1076961 S      13/05/2017  4.600000 3142     3        1       \n",
       "10062 2     h    1076961 SP     13/05/2017  4.600000 3142     2        1       \n",
       "10063 4     h    1076961 S      13/05/2017  4.600000 3142     3        1       \n",
       "10064 1     u     650000 VB     20/05/2017  4.600000 3142     3        1       \n",
       "10065 3     t     670000 VB     8/04/2017   8.900000 3016     3        2       \n",
       "10066 3     h    1575000 S      13/05/2017  8.900000 3016     3        1       \n",
       "10067 4     h    1520000 SP     13/05/2017  8.900000 3016     4        2       \n",
       "10068 3     t     720000 SP     13/05/2017  8.900000 3016     3        2       \n",
       "10069 4     h    1175000 S      29/04/2017  8.900000 3016     3        1       \n",
       "10070 3     h    1045000 S      29/04/2017  8.900000 3016     3        2       \n",
       "10071 2     u     854000 SP     22/04/2017  5.100000 3181     2        1       \n",
       "10072 1     h     900000 VB     29/04/2017  5.100000 3181     1        1       \n",
       "10073 4     h    1076961 PI     8/04/2017  15.000000 3085     3        1       \n",
       "10074 4     h     955000 PI     13/05/2017 15.000000 3085     3        1       \n",
       "10075 3     h     721500 S      20/05/2017 15.000000 3085     3        1       \n",
       "10076 4     h     780250 SP     29/04/2017 15.000000 3085     3        1       \n",
       "10077 3     h     984000 S      29/04/2017 15.000000 3085     3        2       \n",
       "10078 2     u     490000 VB     29/04/2017  6.600000 3183     2        1       \n",
       "10079 3     h    1305000 S      20/05/2017  9.800000 3040     3        1       \n",
       "10080 3     u     488000 S      13/05/2017 12.400000 3083     3        1       \n",
       "10081 3     t    1171000 S      20/05/2017  1.900000 3003     3        2       \n",
       "10082 3     h     445000 S      20/05/2017 14.500000 3061     3        1       \n",
       "10083 3     h    1076961 SP     20/05/2017 14.500000 3061     3        1       \n",
       "10084 2     t     910000 SP     20/05/2017  9.300000 3145     3        1       \n",
       "10085 2     u    1076961 PI     22/04/2017 12.700000 3018     3        1       \n",
       "10086 3     NA   1076961 S      NA          8.621635   NA     3        1       \n",
       "10087 3     NA   1076961 S      NA          8.621635   NA     3        1       \n",
       "10088 3     NA   1076961 S      NA          8.621635   NA     3        1       \n",
       "10089 3     NA   1076961 S      NA          8.621635   NA     3        1       \n",
       "      Car Landsize BuildingArea YearBuilt CouncilArea   Lattitude Longtitude\n",
       "1     1   126.0000 146.8615     1970      Yarra         -37.8014  144.9958  \n",
       "2     1   202.0000 146.8615     1970      Yarra         -37.7996  144.9984  \n",
       "3     0   156.0000  79.0000     1900      Yarra         -37.8079  144.9934  \n",
       "4     0   134.0000 150.0000     1900      Yarra         -37.8093  144.9944  \n",
       "5     2   120.0000 142.0000     2014      Yarra         -37.8072  144.9941  \n",
       "6     2   400.0000 220.0000     2006      Yarra         -37.7965  144.9965  \n",
       "7     2   201.0000 146.8615     1900      Yarra         -37.7995  144.9974  \n",
       "8     1   202.0000 146.8615     1900      Yarra         -37.7996  144.9989  \n",
       "9     0   181.0000 146.8615     1970      Yarra         -37.8041  144.9953  \n",
       "10    0   245.0000 210.0000     1910      Yarra         -37.8024  144.9993  \n",
       "11    2   256.0000 107.0000     1890      Yarra         -37.8060  144.9954  \n",
       "12    1   469.1814 146.8615     1970      NA                  NA        NA  \n",
       "13    1   469.1814 146.8615     1970      NA                  NA        NA  \n",
       "14    2   220.0000  75.0000     1900      Yarra         -37.8010  144.9989  \n",
       "15    1   469.1814 146.8615     1970      NA                  NA        NA  \n",
       "16    1   176.0000  80.0000     1925      Yarra         -37.7998  144.9972  \n",
       "17    1   469.1814 146.8615     1970      NA                  NA        NA  \n",
       "18    1   469.1814 146.8615     1970      NA                  NA        NA  \n",
       "19    2   214.0000 190.0000     2005      Yarra         -37.8085  144.9964  \n",
       "20    1   469.1814 146.8615     1970      NA            -37.8084  144.9942  \n",
       "21    1   469.1814 146.8615     1970      NA                  NA        NA  \n",
       "22    1   195.0000 146.8615     1970      Yarra         -37.8084  144.9973  \n",
       "23    2   238.0000  97.0000     1890      Yarra         -37.8090  144.9976  \n",
       "24    1   469.1814 146.8615     1970      NA                  NA        NA  \n",
       "25    1   469.1814 146.8615     1970      NA                  NA        NA  \n",
       "26    1   138.0000 105.0000     1890      Yarra         -37.8021  144.9965  \n",
       "27    0   183.0000 146.8615     1970      Yarra         -37.8022  144.9975  \n",
       "28    1   150.0000  73.0000     1985      Yarra         -37.8011  145.0004  \n",
       "29    2   780.0000 135.0000     1900      Yarra         -37.8073  144.9952  \n",
       "30    1   119.0000 167.0000     2005      Yarra         -37.8082  144.9999  \n",
       "...   ... ...      ...          ...       ...           ...       ...       \n",
       "10060 1   658.0000 146.8615     1970      Stonnington   -37.83893 145.0081  \n",
       "10061 1   469.1814 146.8615     1970      NA            -37.83836 145.0141  \n",
       "10062 0   192.0000 146.8615     1970      Stonnington   -37.84266 145.0178  \n",
       "10063 1   469.1814 146.8615     1970      NA            -37.83669 145.0220  \n",
       "10064 1   469.1814 146.8615     1970      NA                   NA 145.0238  \n",
       "10065 2   146.0000 141.0000     2001      Hobsons Bay   -37.84740       NA  \n",
       "10066 1   860.0000 160.0000     1950      Hobsons Bay   -37.83592 145.0237  \n",
       "10067 3   560.0000 146.8615     1970      Hobsons Bay   -37.85725 145.0126  \n",
       "10068 2   146.0000 141.0000     2001      Hobsons Bay   -37.85702 144.8854  \n",
       "10069 1   469.1814 146.8615     1970      NA            -37.85379 144.8846  \n",
       "10070 3   526.0000 159.0000     1990      Hobsons Bay   -37.85654 144.8722  \n",
       "10071 1   774.0000  90.0000     1945      Stonnington          NA 144.8846  \n",
       "10072 1   160.0000 146.8615     1930      Stonnington   -37.85500       NA  \n",
       "10073 1   469.1814 146.8615     1970      NA            -37.85727 144.9990  \n",
       "10074 1   469.1814 146.8615     1970      NA            -37.85821 144.9978  \n",
       "10075 1   594.0000 146.8615     1970      Banyule       -37.85556 144.9979  \n",
       "10076 1   469.1814 146.8615     1970      NA                   NA 144.9840  \n",
       "10077 2   552.0000 146.8615     1970      Banyule              NA       NA  \n",
       "10078 0   601.0000 146.8615     1970      Port Phillip  -37.73271 145.1063  \n",
       "10079 2   147.0000 146.8615     1970      Moonee Valley -37.86560 145.0851  \n",
       "10080 1   260.0000 150.0000     1961      Darebin       -37.87565 144.9919  \n",
       "10081 1   650.0000 146.8615     1970      Melbourne     -37.84306 145.0385  \n",
       "10082 2   534.0000 146.8615     1970      Hume          -37.80742 144.9448  \n",
       "10083 4   534.0000 146.8615     1970      Hume          -37.80473 144.9487  \n",
       "10084 1   469.1814 146.8615     1970      NA            -37.80593 144.9435  \n",
       "10085 1   469.1814 146.8615     1970      NA            -37.67413 144.9473  \n",
       "10086 1   469.1814 146.8615     1970      NA            -37.67513 144.9698  \n",
       "10087 1   469.1814 146.8615     1970      NA                   NA 144.9694  \n",
       "10088 1   469.1814 146.8615     1970      NA            -37.78466       NA  \n",
       "10089 1   469.1814 146.8615     1970      NA                   NA 144.9383  "
      ]
     },
     "metadata": {},
     "output_type": "display_data"
    }
   ],
   "source": [
    "modified.md7<- modified.md7[c(-1)]\n",
    "modified.md7"
   ]
  },
  {
   "cell_type": "code",
   "execution_count": 24,
   "metadata": {},
   "outputs": [],
   "source": [
    "library(\"dplyr\")"
   ]
  },
  {
   "cell_type": "code",
   "execution_count": 25,
   "metadata": {},
   "outputs": [
    {
     "data": {
      "image/png": "[encoded data removed]",
      "text/plain": [
       "Plot with title \"Histogram of Price\""
      ]
     },
     "metadata": {},
     "output_type": "display_data"
    },
    {
     "data": {
      "image/png": "[encoded data removed]",
      "text/plain": [
       "Plot with title \"Boxplot of Price\""
      ]
     },
     "metadata": {},
     "output_type": "display_data"
    },
    {
     "data": {
      "image/png": "[encoded data removed]",
      "text/plain": [
       "Plot with title \"Histogram of Landsize\""
      ]
     },
     "metadata": {},
     "output_type": "display_data"
    },
    {
     "data": {
      "image/png": "[encoded data removed]",
      "text/plain": [
       "Plot with title \"BOxplot of Landsize\""
      ]
     },
     "metadata": {},
     "output_type": "display_data"
    },
    {
     "data": {
      "image/png": "[encoded data removed]",
      "text/plain": [
       "Plot with title \"Histogram of Bedroom\""
      ]
     },
     "metadata": {},
     "output_type": "display_data"
    },
    {
     "data": {
      "image/png": "[encoded data removed]",
      "text/plain": [
       "Plot with title \"Boxplot of Bedroom\""
      ]
     },
     "metadata": {},
     "output_type": "display_data"
    },
    {
     "data": {
      "image/png": "[encoded data removed]",
      "text/plain": [
       "Plot with title \"Histogram of Rooms\""
      ]
     },
     "metadata": {},
     "output_type": "display_data"
    },
    {
     "data": {
      "image/png": "[encoded data removed]",
      "text/plain": [
       "Plot with title \"Boxplot of Rooms\""
      ]
     },
     "metadata": {},
     "output_type": "display_data"
    }
   ],
   "source": [
    "######On price\n",
    "hist(modified.md7$Price,main='Histogram of Price',breaks=50)\n",
    "boxplot(modified.md7$Price,main='Boxplot of Price')\n",
    "\n",
    "\n",
    "#####on Landsize\n",
    "hist(modified.md7$Landsize,main='Histogram of Landsize',breaks=15)\n",
    "boxplot(modified.md7$Landsize,main='BOxplot of Landsize')\n",
    "\n",
    "\n",
    "\n",
    "######on Bedrooms\n",
    "hist(modified.md7$Bedroom2,main='Histogram of Bedroom')\n",
    "boxplot(modified.md7$Bedroom2,main='Boxplot of Bedroom')\n",
    "\n",
    "\n",
    "######on rooms\n",
    "hist(modified.md7$Rooms,main='Histogram of Rooms')\n",
    "boxplot(modified.md7$Rooms,main='Boxplot of Rooms')"
   ]
  },
  {
   "cell_type": "code",
   "execution_count": 26,
   "metadata": {},
   "outputs": [
    {
     "name": "stdout",
     "output_type": "stream",
     "text": [
      "'data.frame':\t8071 obs. of  16 variables:\n",
      " $ Rooms       : int  2 3 3 3 2 2 4 1 3 4 ...\n",
      " $ Type        : Factor w/ 3 levels \"h\",\"t\",\"u\": 1 1 3 1 3 2 1 3 2 1 ...\n",
      " $ Price       : num  1076961 840000 1190000 1076961 570000 ...\n",
      " $ Method      : Factor w/ 9 levels \"PI\",\"PN\",\"S\",..: 6 3 3 1 3 6 3 3 8 3 ...\n",
      " $ Date        : Factor w/ 42 levels \"10/09/2016\",\"10/12/2016\",..: 40 12 6 29 6 22 15 32 24 25 ...\n",
      " $ Distance    : num  4.4 9.2 3.8 12.2 2.8 6.9 12.1 4.6 9.9 5.2 ...\n",
      " $ Postcode    : int  3031 3058 3207 3147 3000 3039 3163 3122 3044 3056 ...\n",
      " $ Bedroom2    : int  2 3 3 3 3 3 3 1 3 3 ...\n",
      " $ Bathroom    : int  1 1 1 1 1 1 1 1 2 1 ...\n",
      " $ Car         : int  0 1 1 1 1 1 1 1 1 1 ...\n",
      " $ Landsize    : num  168 469 469 779 469 ...\n",
      " $ BuildingArea: num  78 147 147 147 147 ...\n",
      " $ YearBuilt   : int  1920 1970 1970 1970 1970 1970 1970 1965 2001 1920 ...\n",
      " $ CouncilArea : Factor w/ 19 levels \"Banyule\",\"Bayside\",..: 14 NA NA 13 NA NA NA 3 15 15 ...\n",
      " $ Lattitude   : num  -37.8 NA NA -37.9 NA ...\n",
      " $ Longtitude  : num  145 NA NA 145 NA ...\n",
      "'data.frame':\t2018 obs. of  16 variables:\n",
      " $ Rooms       : int  2 2 2 2 2 3 1 2 3 4 ...\n",
      " $ Type        : Factor w/ 3 levels \"h\",\"t\",\"u\": 1 1 1 1 1 1 3 1 1 1 ...\n",
      " $ Price       : num  1076961 1035000 1076961 1076961 1097000 ...\n",
      " $ Method      : Factor w/ 9 levels \"PI\",\"PN\",\"S\",..: 7 3 3 3 3 3 3 3 6 9 ...\n",
      " $ Date        : Factor w/ 42 levels \"10/09/2016\",\"10/12/2016\",..: 31 34 38 38 42 12 16 26 26 33 ...\n",
      " $ Distance    : num  2.5 2.5 2.5 2.5 2.5 2.5 2.5 2.5 2.5 2.5 ...\n",
      " $ Postcode    : int  3067 3067 3067 3067 3067 3067 3067 3067 3067 3067 ...\n",
      " $ Bedroom2    : int  2 2 4 3 3 2 3 2 3 3 ...\n",
      " $ Bathroom    : int  1 1 1 2 1 1 1 1 2 1 ...\n",
      " $ Car         : int  1 0 2 1 2 1 1 0 1 1 ...\n",
      " $ Landsize    : num  126 156 201 202 220 ...\n",
      " $ BuildingArea: num  147 79 147 147 75 ...\n",
      " $ YearBuilt   : int  1970 1900 1900 1900 1900 1890 1970 1900 1998 1970 ...\n",
      " $ CouncilArea : Factor w/ 19 levels \"Banyule\",\"Bayside\",..: 19 19 19 19 19 19 NA 19 19 NA ...\n",
      " $ Lattitude   : num  -37.8 -37.8 -37.8 -37.8 -37.8 ...\n",
      " $ Longtitude  : num  145 145 145 145 145 ...\n"
     ]
    }
   ],
   "source": [
    "\n",
    "set.seed(100)\n",
    "trainingRowIndex<- sample(1:nrow(modified.md7),0.8*nrow(modified.md7))\n",
    "trainingData <- modified.md7[trainingRowIndex,]\n",
    "testData <- modified.md7[-trainingRowIndex,]\n",
    " str(trainingData)\n",
    " str(testData)"
   ]
  },
  {
   "cell_type": "code",
   "execution_count": 27,
   "metadata": {},
   "outputs": [
    {
     "name": "stdout",
     "output_type": "stream",
     "text": [
      "'data.frame':\t2018 obs. of  16 variables:\n",
      " $ Rooms       : int  2 2 2 2 2 3 1 2 3 4 ...\n",
      " $ Type        : Factor w/ 3 levels \"h\",\"t\",\"u\": 1 1 1 1 1 1 3 1 1 1 ...\n",
      " $ Price       : num  1076961 1035000 1076961 1076961 1097000 ...\n",
      " $ Method      : Factor w/ 9 levels \"PI\",\"PN\",\"S\",..: 7 3 3 3 3 3 3 3 6 9 ...\n",
      " $ Date        : Factor w/ 42 levels \"10/09/2016\",\"10/12/2016\",..: 31 34 38 38 42 12 16 26 26 33 ...\n",
      " $ Distance    : num  2.5 2.5 2.5 2.5 2.5 2.5 2.5 2.5 2.5 2.5 ...\n",
      " $ Postcode    : int  3067 3067 3067 3067 3067 3067 3067 3067 3067 3067 ...\n",
      " $ Bedroom2    : int  2 2 4 3 3 2 3 2 3 3 ...\n",
      " $ Bathroom    : int  1 1 1 2 1 1 1 1 2 1 ...\n",
      " $ Car         : int  1 0 2 1 2 1 1 0 1 1 ...\n",
      " $ Landsize    : num  126 156 201 202 220 ...\n",
      " $ BuildingArea: num  147 79 147 147 75 ...\n",
      " $ YearBuilt   : int  1970 1900 1900 1900 1900 1890 1970 1900 1998 1970 ...\n",
      " $ CouncilArea : Factor w/ 19 levels \"Banyule\",\"Bayside\",..: 19 19 19 19 19 19 NA 19 19 NA ...\n",
      " $ Lattitude   : num  -37.8 -37.8 -37.8 -37.8 -37.8 ...\n",
      " $ Longtitude  : num  145 145 145 145 145 ...\n"
     ]
    }
   ],
   "source": [
    " str(testData)"
   ]
  },
  {
   "cell_type": "code",
   "execution_count": 28,
   "metadata": {},
   "outputs": [
    {
     "data": {
      "text/html": [
       "-234361.578896348"
      ],
      "text/latex": [
       "-234361.578896348"
      ],
      "text/markdown": [
       "-234361.578896348"
      ],
      "text/plain": [
       "[1] -234361.6"
      ]
     },
     "metadata": {},
     "output_type": "display_data"
    },
    {
     "data": {
      "text/html": [
       "51974.1409911671"
      ],
      "text/latex": [
       "51974.1409911671"
      ],
      "text/markdown": [
       "51974.1409911671"
      ],
      "text/plain": [
       "[1] 51974.14"
      ]
     },
     "metadata": {},
     "output_type": "display_data"
    },
    {
     "data": {
      "text/html": [
       "57903.6597524307"
      ],
      "text/latex": [
       "57903.6597524307"
      ],
      "text/markdown": [
       "57903.6597524307"
      ],
      "text/plain": [
       "[1] 57903.66"
      ]
     },
     "metadata": {},
     "output_type": "display_data"
    },
    {
     "data": {
      "text/html": [
       "38828.0158424608"
      ],
      "text/latex": [
       "38828.0158424608"
      ],
      "text/markdown": [
       "38828.0158424608"
      ],
      "text/plain": [
       "[1] 38828.02"
      ]
     },
     "metadata": {},
     "output_type": "display_data"
    },
    {
     "data": {
      "text/html": [
       "7737692.86667484"
      ],
      "text/latex": [
       "7737692.86667484"
      ],
      "text/markdown": [
       "7737692.86667484"
      ],
      "text/plain": [
       "[1] 7737693"
      ]
     },
     "metadata": {},
     "output_type": "display_data"
    },
    {
     "data": {
      "text/html": [
       "2980508.27407119"
      ],
      "text/latex": [
       "2980508.27407119"
      ],
      "text/markdown": [
       "2980508.27407119"
      ],
      "text/plain": [
       "[1] 2980508"
      ]
     },
     "metadata": {},
     "output_type": "display_data"
    }
   ],
   "source": [
    "cov(trainingData$Price,trainingData$Distance)\n",
    "cov(trainingData$Price,trainingData$Bedroom2)\n",
    "cov(trainingData$Price,trainingData$Bathroom)\n",
    "cov(trainingData$Price,trainingData$Car)\n",
    "cov(trainingData$Price,trainingData$Landsize)\n",
    "cov(trainingData$Price,trainingData$BuildingArea)"
   ]
  },
  {
   "cell_type": "code",
   "execution_count": 30,
   "metadata": {},
   "outputs": [
    {
     "data": {
      "text/html": [
       "0.236600721589554"
      ],
      "text/latex": [
       "0.236600721589554"
      ],
      "text/markdown": [
       "0.236600721589554"
      ],
      "text/plain": [
       "[1] 0.2366007"
      ]
     },
     "metadata": {},
     "output_type": "display_data"
    },
    {
     "data": {
      "text/html": [
       "0.238785539128558"
      ],
      "text/latex": [
       "0.238785539128558"
      ],
      "text/markdown": [
       "0.238785539128558"
      ],
      "text/plain": [
       "[1] 0.2387855"
      ]
     },
     "metadata": {},
     "output_type": "display_data"
    },
    {
     "data": {
      "text/html": [
       "0.378442099673541"
      ],
      "text/latex": [
       "0.378442099673541"
      ],
      "text/markdown": [
       "0.378442099673541"
      ],
      "text/plain": [
       "[1] 0.3784421"
      ]
     },
     "metadata": {},
     "output_type": "display_data"
    }
   ],
   "source": [
    "cor(trainingData$Price,trainingData$Bedroom2)\n",
    "cor(trainingData$Price,trainingData$BuildingArea)\n",
    "cor(trainingData$Price,trainingData$Rooms)"
   ]
  },
  {
   "cell_type": "code",
   "execution_count": 32,
   "metadata": {},
   "outputs": [
    {
     "data": {
      "text/plain": [
       "\n",
       "Call:\n",
       "lm(formula = Price ~ Rooms + Distance + BuildingArea, data = trainingData)\n",
       "\n",
       "Coefficients:\n",
       " (Intercept)         Rooms      Distance  BuildingArea  \n",
       "      544250        204746        -31089          1228  \n"
      ]
     },
     "metadata": {},
     "output_type": "display_data"
    },
    {
     "data": {
      "text/plain": [
       "\n",
       "Call:\n",
       "lm(formula = Price ~ Rooms + Distance + BuildingArea, data = trainingData)\n",
       "\n",
       "Residuals:\n",
       "     Min       1Q   Median       3Q      Max \n",
       "-1145826  -240084   -45129   172142  1341024 \n",
       "\n",
       "Coefficients:\n",
       "             Estimate Std. Error t value Pr(>|t|)    \n",
       "(Intercept)  544249.5    20074.3   27.11   <2e-16 ***\n",
       "Rooms        204746.1     5443.1   37.62   <2e-16 ***\n",
       "Distance     -31089.0     1097.0  -28.34   <2e-16 ***\n",
       "BuildingArea   1227.6      116.4   10.54   <2e-16 ***\n",
       "---\n",
       "Signif. codes:  0 '***' 0.001 '**' 0.01 '*' 0.05 '.' 0.1 ' ' 1\n",
       "\n",
       "Residual standard error: 326600 on 8067 degrees of freedom\n",
       "Multiple R-squared:  0.2317,\tAdjusted R-squared:  0.2314 \n",
       "F-statistic: 810.9 on 3 and 8067 DF,  p-value: < 2.2e-16\n"
      ]
     },
     "metadata": {},
     "output_type": "display_data"
    }
   ],
   "source": [
    "linearmodel1<- lm(Price~Rooms+Distance+BuildingArea,data = trainingData)\n",
    "linearmodel1\n",
    "summary(linearmodel1)"
   ]
  },
  {
   "cell_type": "code",
   "execution_count": 36,
   "metadata": {},
   "outputs": [
    {
     "data": {
      "text/html": [
       "<table>\n",
       "<thead><tr><th></th><th scope=col>price</th><th scope=col>rooms</th><th scope=col>observed</th></tr></thead>\n",
       "<tbody>\n",
       "\t<tr><th scope=row>3106</th><td>1076961  </td><td>2        </td><td> 912706.1</td></tr>\n",
       "\t<tr><th scope=row>2600</th><td> 840000  </td><td>3        </td><td>1052762.2</td></tr>\n",
       "\t<tr><th scope=row>5572</th><td>1190000  </td><td>3        </td><td>1220642.8</td></tr>\n",
       "\t<tr><th scope=row>569</th><td>1076961  </td><td>3        </td><td> 959495.2</td></tr>\n",
       "\t<tr><th scope=row>4726</th><td> 570000  </td><td>2        </td><td>1046985.7</td></tr>\n",
       "\t<tr><th scope=row>4879</th><td> 670000  </td><td>2        </td><td> 919520.8</td></tr>\n",
       "\t<tr><th scope=row>8192</th><td>1500000  </td><td>4        </td><td>1167350.2</td></tr>\n",
       "\t<tr><th scope=row>3734</th><td>1076961  </td><td>1        </td><td> 786279.4</td></tr>\n",
       "\t<tr><th scope=row>5510</th><td>1076961  </td><td>3        </td><td>1022576.4</td></tr>\n",
       "\t<tr><th scope=row>1717</th><td>1790000  </td><td>4        </td><td>1359936.7</td></tr>\n",
       "\t<tr><th scope=row>6300</th><td>1205000  </td><td>3        </td><td>1257949.6</td></tr>\n",
       "\t<tr><th scope=row>8891</th><td>1076961  </td><td>3        </td><td>1049653.3</td></tr>\n",
       "\t<tr><th scope=row>2826</th><td>1076961  </td><td>4        </td><td>1385336.0</td></tr>\n",
       "\t<tr><th scope=row>4016</th><td> 845000  </td><td>2        </td><td> 888431.8</td></tr>\n",
       "\t<tr><th scope=row>7683</th><td>1005000  </td><td>3        </td><td>1082043.5</td></tr>\n",
       "\t<tr><th scope=row>6740</th><td> 888000  </td><td>2        </td><td> 944392.0</td></tr>\n",
       "\t<tr><th scope=row>2062</th><td>1076961  </td><td>3        </td><td>1096286.8</td></tr>\n",
       "\t<tr><th scope=row>3601</th><td> 720000  </td><td>2        </td><td> 708115.6</td></tr>\n",
       "\t<tr><th scope=row>3621</th><td>1530000  </td><td>3        </td><td> 912861.7</td></tr>\n",
       "\t<tr><th scope=row>6952</th><td> 705000  </td><td>4        </td><td>1130043.4</td></tr>\n",
       "\t<tr><th scope=row>5396</th><td> 455000  </td><td>2        </td><td> 826253.8</td></tr>\n",
       "\t<tr><th scope=row>7157</th><td>1101000  </td><td>3        </td><td> 895191.1</td></tr>\n",
       "\t<tr><th scope=row>5420</th><td> 452000  </td><td>2        </td><td> 752765.3</td></tr>\n",
       "\t<tr><th scope=row>7540</th><td>1710000  </td><td>3        </td><td>1118474.7</td></tr>\n",
       "\t<tr><th scope=row>4229</th><td>1076961  </td><td>3        </td><td>1123112.8</td></tr>\n",
       "\t<tr><th scope=row>1726</th><td>1217000  </td><td>4        </td><td>1357481.4</td></tr>\n",
       "\t<tr><th scope=row>7752</th><td>1076961  </td><td>4        </td><td>1465803.0</td></tr>\n",
       "\t<tr><th scope=row>8875</th><td>1076961  </td><td>2        </td><td> 779620.3</td></tr>\n",
       "\t<tr><th scope=row>5525</th><td> 525500  </td><td>2        </td><td> 749082.4</td></tr>\n",
       "\t<tr><th scope=row>2794</th><td>1076961  </td><td>4        </td><td>1396066.3</td></tr>\n",
       "\t<tr><th scope=row>...</th><td>...</td><td>...</td><td>...</td></tr>\n",
       "\t<tr><th scope=row>3046</th><td> 850000  </td><td>2        </td><td>1084292.5</td></tr>\n",
       "\t<tr><th scope=row>8480</th><td>1300000  </td><td>2        </td><td> 844907.2</td></tr>\n",
       "\t<tr><th scope=row>7274</th><td> 995000  </td><td>3        </td><td>1074262.8</td></tr>\n",
       "\t<tr><th scope=row>5742</th><td> 717000  </td><td>3        </td><td>1065197.8</td></tr>\n",
       "\t<tr><th scope=row>4397</th><td>1000000  </td><td>2        </td><td> 848016.1</td></tr>\n",
       "\t<tr><th scope=row>5316</th><td> 470000  </td><td>2        </td><td> 689518.9</td></tr>\n",
       "\t<tr><th scope=row>7422</th><td>1085000  </td><td>4        </td><td>1114498.9</td></tr>\n",
       "\t<tr><th scope=row>9904</th><td>1076961  </td><td>3        </td><td>1072222.3</td></tr>\n",
       "\t<tr><th scope=row>2155</th><td>1560000  </td><td>4        </td><td>1444042.3</td></tr>\n",
       "\t<tr><th scope=row>1546</th><td>1076961  </td><td>4        </td><td>1210874.8</td></tr>\n",
       "\t<tr><th scope=row>6529</th><td>1270000  </td><td>3        </td><td>1220875.5</td></tr>\n",
       "\t<tr><th scope=row>651</th><td>1080000  </td><td>3        </td><td>1133593.6</td></tr>\n",
       "\t<tr><th scope=row>4242</th><td> 800000  </td><td>3        </td><td>1103470.5</td></tr>\n",
       "\t<tr><th scope=row>1095</th><td>1250000  </td><td>4        </td><td>1111390.0</td></tr>\n",
       "\t<tr><th scope=row>6425</th><td>1076961  </td><td>3        </td><td> 984366.4</td></tr>\n",
       "\t<tr><th scope=row>7250</th><td>1076961  </td><td>4        </td><td>1368626.6</td></tr>\n",
       "\t<tr><th scope=row>82</th><td> 715000  </td><td>3        </td><td> 893469.0</td></tr>\n",
       "\t<tr><th scope=row>9507</th><td> 497000  </td><td>2        </td><td> 826253.8</td></tr>\n",
       "\t<tr><th scope=row>10044</th><td> 815000  </td><td>3        </td><td> 881772.7</td></tr>\n",
       "\t<tr><th scope=row>7423</th><td> 915000  </td><td>3        </td><td> 909752.8</td></tr>\n",
       "\t<tr><th scope=row>5430</th><td> 930000  </td><td>4        </td><td>1235746.0</td></tr>\n",
       "\t<tr><th scope=row>8012</th><td>1076961  </td><td>3        </td><td>1120515.1</td></tr>\n",
       "\t<tr><th scope=row>9562</th><td>1121000  </td><td>3        </td><td>1035904.4</td></tr>\n",
       "\t<tr><th scope=row>4186</th><td>1260000  </td><td>3        </td><td>1208377.1</td></tr>\n",
       "\t<tr><th scope=row>8435</th><td>1000000  </td><td>2        </td><td>1056312.4</td></tr>\n",
       "\t<tr><th scope=row>8429</th><td>1354000  </td><td>2        </td><td> 903976.3</td></tr>\n",
       "\t<tr><th scope=row>7377</th><td> 525000  </td><td>1        </td><td> 786279.4</td></tr>\n",
       "\t<tr><th scope=row>8941</th><td> 720000  </td><td>3        </td><td>1053489.3</td></tr>\n",
       "\t<tr><th scope=row>8265</th><td> 912500  </td><td>2        </td><td> 819120.7</td></tr>\n",
       "\t<tr><th scope=row>2844</th><td>1625000  </td><td>3        </td><td>1082378.7</td></tr>\n",
       "</tbody>\n",
       "</table>\n"
      ],
      "text/latex": [
       "\\begin{tabular}{r|lll}\n",
       "  & price & rooms & observed\\\\\n",
       "\\hline\n",
       "\t3106 & 1076961   & 2         &  912706.1\\\\\n",
       "\t2600 &  840000   & 3         & 1052762.2\\\\\n",
       "\t5572 & 1190000   & 3         & 1220642.8\\\\\n",
       "\t569 & 1076961   & 3         &  959495.2\\\\\n",
       "\t4726 &  570000   & 2         & 1046985.7\\\\\n",
       "\t4879 &  670000   & 2         &  919520.8\\\\\n",
       "\t8192 & 1500000   & 4         & 1167350.2\\\\\n",
       "\t3734 & 1076961   & 1         &  786279.4\\\\\n",
       "\t5510 & 1076961   & 3         & 1022576.4\\\\\n",
       "\t1717 & 1790000   & 4         & 1359936.7\\\\\n",
       "\t6300 & 1205000   & 3         & 1257949.6\\\\\n",
       "\t8891 & 1076961   & 3         & 1049653.3\\\\\n",
       "\t2826 & 1076961   & 4         & 1385336.0\\\\\n",
       "\t4016 &  845000   & 2         &  888431.8\\\\\n",
       "\t7683 & 1005000   & 3         & 1082043.5\\\\\n",
       "\t6740 &  888000   & 2         &  944392.0\\\\\n",
       "\t2062 & 1076961   & 3         & 1096286.8\\\\\n",
       "\t3601 &  720000   & 2         &  708115.6\\\\\n",
       "\t3621 & 1530000   & 3         &  912861.7\\\\\n",
       "\t6952 &  705000   & 4         & 1130043.4\\\\\n",
       "\t5396 &  455000   & 2         &  826253.8\\\\\n",
       "\t7157 & 1101000   & 3         &  895191.1\\\\\n",
       "\t5420 &  452000   & 2         &  752765.3\\\\\n",
       "\t7540 & 1710000   & 3         & 1118474.7\\\\\n",
       "\t4229 & 1076961   & 3         & 1123112.8\\\\\n",
       "\t1726 & 1217000   & 4         & 1357481.4\\\\\n",
       "\t7752 & 1076961   & 4         & 1465803.0\\\\\n",
       "\t8875 & 1076961   & 2         &  779620.3\\\\\n",
       "\t5525 &  525500   & 2         &  749082.4\\\\\n",
       "\t2794 & 1076961   & 4         & 1396066.3\\\\\n",
       "\t... & ... & ... & ...\\\\\n",
       "\t3046 &  850000   & 2         & 1084292.5\\\\\n",
       "\t8480 & 1300000   & 2         &  844907.2\\\\\n",
       "\t7274 &  995000   & 3         & 1074262.8\\\\\n",
       "\t5742 &  717000   & 3         & 1065197.8\\\\\n",
       "\t4397 & 1000000   & 2         &  848016.1\\\\\n",
       "\t5316 &  470000   & 2         &  689518.9\\\\\n",
       "\t7422 & 1085000   & 4         & 1114498.9\\\\\n",
       "\t9904 & 1076961   & 3         & 1072222.3\\\\\n",
       "\t2155 & 1560000   & 4         & 1444042.3\\\\\n",
       "\t1546 & 1076961   & 4         & 1210874.8\\\\\n",
       "\t6529 & 1270000   & 3         & 1220875.5\\\\\n",
       "\t651 & 1080000   & 3         & 1133593.6\\\\\n",
       "\t4242 &  800000   & 3         & 1103470.5\\\\\n",
       "\t1095 & 1250000   & 4         & 1111390.0\\\\\n",
       "\t6425 & 1076961   & 3         &  984366.4\\\\\n",
       "\t7250 & 1076961   & 4         & 1368626.6\\\\\n",
       "\t82 &  715000   & 3         &  893469.0\\\\\n",
       "\t9507 &  497000   & 2         &  826253.8\\\\\n",
       "\t10044 &  815000   & 3         &  881772.7\\\\\n",
       "\t7423 &  915000   & 3         &  909752.8\\\\\n",
       "\t5430 &  930000   & 4         & 1235746.0\\\\\n",
       "\t8012 & 1076961   & 3         & 1120515.1\\\\\n",
       "\t9562 & 1121000   & 3         & 1035904.4\\\\\n",
       "\t4186 & 1260000   & 3         & 1208377.1\\\\\n",
       "\t8435 & 1000000   & 2         & 1056312.4\\\\\n",
       "\t8429 & 1354000   & 2         &  903976.3\\\\\n",
       "\t7377 &  525000   & 1         &  786279.4\\\\\n",
       "\t8941 &  720000   & 3         & 1053489.3\\\\\n",
       "\t8265 &  912500   & 2         &  819120.7\\\\\n",
       "\t2844 & 1625000   & 3         & 1082378.7\\\\\n",
       "\\end{tabular}\n"
      ],
      "text/markdown": [
       "\n",
       "| <!--/--> | price | rooms | observed | \n",
       "|---|---|---|---|---|---|---|---|---|---|---|---|---|---|---|---|---|---|---|---|---|---|---|---|---|---|---|---|---|---|---|---|---|---|---|---|---|---|---|---|---|---|---|---|---|---|---|---|---|---|---|---|---|---|---|---|---|---|---|---|---|\n",
       "| 3106 | 1076961   | 2         |  912706.1 | \n",
       "| 2600 |  840000   | 3         | 1052762.2 | \n",
       "| 5572 | 1190000   | 3         | 1220642.8 | \n",
       "| 569 | 1076961   | 3         |  959495.2 | \n",
       "| 4726 |  570000   | 2         | 1046985.7 | \n",
       "| 4879 |  670000   | 2         |  919520.8 | \n",
       "| 8192 | 1500000   | 4         | 1167350.2 | \n",
       "| 3734 | 1076961   | 1         |  786279.4 | \n",
       "| 5510 | 1076961   | 3         | 1022576.4 | \n",
       "| 1717 | 1790000   | 4         | 1359936.7 | \n",
       "| 6300 | 1205000   | 3         | 1257949.6 | \n",
       "| 8891 | 1076961   | 3         | 1049653.3 | \n",
       "| 2826 | 1076961   | 4         | 1385336.0 | \n",
       "| 4016 |  845000   | 2         |  888431.8 | \n",
       "| 7683 | 1005000   | 3         | 1082043.5 | \n",
       "| 6740 |  888000   | 2         |  944392.0 | \n",
       "| 2062 | 1076961   | 3         | 1096286.8 | \n",
       "| 3601 |  720000   | 2         |  708115.6 | \n",
       "| 3621 | 1530000   | 3         |  912861.7 | \n",
       "| 6952 |  705000   | 4         | 1130043.4 | \n",
       "| 5396 |  455000   | 2         |  826253.8 | \n",
       "| 7157 | 1101000   | 3         |  895191.1 | \n",
       "| 5420 |  452000   | 2         |  752765.3 | \n",
       "| 7540 | 1710000   | 3         | 1118474.7 | \n",
       "| 4229 | 1076961   | 3         | 1123112.8 | \n",
       "| 1726 | 1217000   | 4         | 1357481.4 | \n",
       "| 7752 | 1076961   | 4         | 1465803.0 | \n",
       "| 8875 | 1076961   | 2         |  779620.3 | \n",
       "| 5525 |  525500   | 2         |  749082.4 | \n",
       "| 2794 | 1076961   | 4         | 1396066.3 | \n",
       "| ... | ... | ... | ... | \n",
       "| 3046 |  850000   | 2         | 1084292.5 | \n",
       "| 8480 | 1300000   | 2         |  844907.2 | \n",
       "| 7274 |  995000   | 3         | 1074262.8 | \n",
       "| 5742 |  717000   | 3         | 1065197.8 | \n",
       "| 4397 | 1000000   | 2         |  848016.1 | \n",
       "| 5316 |  470000   | 2         |  689518.9 | \n",
       "| 7422 | 1085000   | 4         | 1114498.9 | \n",
       "| 9904 | 1076961   | 3         | 1072222.3 | \n",
       "| 2155 | 1560000   | 4         | 1444042.3 | \n",
       "| 1546 | 1076961   | 4         | 1210874.8 | \n",
       "| 6529 | 1270000   | 3         | 1220875.5 | \n",
       "| 651 | 1080000   | 3         | 1133593.6 | \n",
       "| 4242 |  800000   | 3         | 1103470.5 | \n",
       "| 1095 | 1250000   | 4         | 1111390.0 | \n",
       "| 6425 | 1076961   | 3         |  984366.4 | \n",
       "| 7250 | 1076961   | 4         | 1368626.6 | \n",
       "| 82 |  715000   | 3         |  893469.0 | \n",
       "| 9507 |  497000   | 2         |  826253.8 | \n",
       "| 10044 |  815000   | 3         |  881772.7 | \n",
       "| 7423 |  915000   | 3         |  909752.8 | \n",
       "| 5430 |  930000   | 4         | 1235746.0 | \n",
       "| 8012 | 1076961   | 3         | 1120515.1 | \n",
       "| 9562 | 1121000   | 3         | 1035904.4 | \n",
       "| 4186 | 1260000   | 3         | 1208377.1 | \n",
       "| 8435 | 1000000   | 2         | 1056312.4 | \n",
       "| 8429 | 1354000   | 2         |  903976.3 | \n",
       "| 7377 |  525000   | 1         |  786279.4 | \n",
       "| 8941 |  720000   | 3         | 1053489.3 | \n",
       "| 8265 |  912500   | 2         |  819120.7 | \n",
       "| 2844 | 1625000   | 3         | 1082378.7 | \n",
       "\n",
       "\n"
      ],
      "text/plain": [
       "      price   rooms observed \n",
       "3106  1076961 2      912706.1\n",
       "2600   840000 3     1052762.2\n",
       "5572  1190000 3     1220642.8\n",
       "569   1076961 3      959495.2\n",
       "4726   570000 2     1046985.7\n",
       "4879   670000 2      919520.8\n",
       "8192  1500000 4     1167350.2\n",
       "3734  1076961 1      786279.4\n",
       "5510  1076961 3     1022576.4\n",
       "1717  1790000 4     1359936.7\n",
       "6300  1205000 3     1257949.6\n",
       "8891  1076961 3     1049653.3\n",
       "2826  1076961 4     1385336.0\n",
       "4016   845000 2      888431.8\n",
       "7683  1005000 3     1082043.5\n",
       "6740   888000 2      944392.0\n",
       "2062  1076961 3     1096286.8\n",
       "3601   720000 2      708115.6\n",
       "3621  1530000 3      912861.7\n",
       "6952   705000 4     1130043.4\n",
       "5396   455000 2      826253.8\n",
       "7157  1101000 3      895191.1\n",
       "5420   452000 2      752765.3\n",
       "7540  1710000 3     1118474.7\n",
       "4229  1076961 3     1123112.8\n",
       "1726  1217000 4     1357481.4\n",
       "7752  1076961 4     1465803.0\n",
       "8875  1076961 2      779620.3\n",
       "5525   525500 2      749082.4\n",
       "2794  1076961 4     1396066.3\n",
       "...   ...     ...   ...      \n",
       "3046   850000 2     1084292.5\n",
       "8480  1300000 2      844907.2\n",
       "7274   995000 3     1074262.8\n",
       "5742   717000 3     1065197.8\n",
       "4397  1000000 2      848016.1\n",
       "5316   470000 2      689518.9\n",
       "7422  1085000 4     1114498.9\n",
       "9904  1076961 3     1072222.3\n",
       "2155  1560000 4     1444042.3\n",
       "1546  1076961 4     1210874.8\n",
       "6529  1270000 3     1220875.5\n",
       "651   1080000 3     1133593.6\n",
       "4242   800000 3     1103470.5\n",
       "1095  1250000 4     1111390.0\n",
       "6425  1076961 3      984366.4\n",
       "7250  1076961 4     1368626.6\n",
       "82     715000 3      893469.0\n",
       "9507   497000 2      826253.8\n",
       "10044  815000 3      881772.7\n",
       "7423   915000 3      909752.8\n",
       "5430   930000 4     1235746.0\n",
       "8012  1076961 3     1120515.1\n",
       "9562  1121000 3     1035904.4\n",
       "4186  1260000 3     1208377.1\n",
       "8435  1000000 2     1056312.4\n",
       "8429  1354000 2      903976.3\n",
       "7377   525000 1      786279.4\n",
       "8941   720000 3     1053489.3\n",
       "8265   912500 2      819120.7\n",
       "2844  1625000 3     1082378.7"
      ]
     },
     "metadata": {},
     "output_type": "display_data"
    }
   ],
   "source": [
    "linearreg1<-data.frame(price=trainingData$Price,rooms=trainingData$Rooms,observed=pred1)\n",
    "linearreg1\n"
   ]
  },
  {
   "cell_type": "code",
   "execution_count": 38,
   "metadata": {},
   "outputs": [
    {
     "name": "stderr",
     "output_type": "stream",
     "text": [
      "Warning message in abline(lm(Price ~ Rooms + Distance + BuildingArea, data = trainingData)):\n",
      "\"only using the first two of 4 regression coefficients\""
     ]
    },
    {
     "data": {
      "image/png": "[encoded data removed]",
      "text/plain": [
       "Plot with title \"regression\""
      ]
     },
     "metadata": {},
     "output_type": "display_data"
    }
   ],
   "source": [
    "plot(trainingData$Price~trainingData$Rooms,col='red',main='regression')\n",
    "abline(lm(Price~Rooms+Distance+BuildingArea,data = trainingData))"
   ]
  },
  {
   "cell_type": "code",
   "execution_count": 40,
   "metadata": {},
   "outputs": [
    {
     "name": "stderr",
     "output_type": "stream",
     "text": [
      "Warning message:\n",
      "\"package 'openxlsx' was built under R version 3.5.2\"Warning message:\n",
      "\"package 'ggplot2' was built under R version 3.5.2\""
     ]
    }
   ],
   "source": [
    "library(\"openxlsx\")\n",
    "\n",
    "library(ggplot2)\n",
    "\n"
   ]
  },
  {
   "cell_type": "code",
   "execution_count": 41,
   "metadata": {},
   "outputs": [
    {
     "data": {},
     "metadata": {},
     "output_type": "display_data"
    },
    {
     "data": {
      "image/png": "[encoded data removed]",
      "text/plain": [
       "plot without title"
      ]
     },
     "metadata": {},
     "output_type": "display_data"
    }
   ],
   "source": [
    "ggplot(linearmodel1, aes(x=trainingData$Price,y=trainingData$Rooms, color=\"red\")) + geom_point() +\n",
    "  geom_smooth(method = \"lm\", se = FALSE) +\n",
    "  ylab(\"trainingData$Rooms\") +\n",
    "  xlab(\"trainingData$Price\") +\n",
    "  ggtitle(\"trainingData$Rooms Vs trainingData$Price\")"
   ]
  },
  {
   "cell_type": "code",
   "execution_count": null,
   "metadata": {},
   "outputs": [],
   "source": []
  }
 ],
 "metadata": {
  "kernelspec": {
   "display_name": "R",
   "language": "R",
   "name": "ir"
  },
  "language_info": {
   "codemirror_mode": "r",
   "file_extension": ".r",
   "mimetype": "text/x-r-source",
   "name": "R",
   "pygments_lexer": "r",
   "version": "3.5.1"
  }
 },
 "nbformat": 4,
 "nbformat_minor": 2
}
