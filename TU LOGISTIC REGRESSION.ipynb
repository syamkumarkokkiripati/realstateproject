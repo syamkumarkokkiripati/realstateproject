{
 "cells": [
  {
   "cell_type": "code",
   "execution_count": 13,
   "metadata": {},
   "outputs": [],
   "source": [
    "TU.data<- read.csv(\"D:RE72.csv\",header=TRUE,\n",
    "                    stringsAsFactors =FALSE,\n",
    "                    strip.white =TRUE,\n",
    "                    sep = ',', na.strings=c(\"\",\"NA\"))"
   ]
  },
  {
   "cell_type": "code",
   "execution_count": 14,
   "metadata": {},
   "outputs": [
    {
     "name": "stdout",
     "output_type": "stream",
     "text": [
      "'data.frame':\t2744 obs. of  21 variables:\n",
      " $ X.1         : int  1 2 3 4 5 6 7 8 9 10 ...\n",
      " $ X           : int  17 20 22 23 28 34 46 47 55 61 ...\n",
      " $ Suburb      : chr  \"Abbotsford\" \"Abbotsford\" \"Abbotsford\" \"Abbotsford\" ...\n",
      " $ Address     : chr  \"18a Mollison St\" \"403/609 Victoria St\" \"25/84 Trenerry Cr\" \"106/119 Turner St\" ...\n",
      " $ Rooms       : int  2 2 2 1 1 2 1 1 3 2 ...\n",
      " $ Type        : chr  \"t\" \"u\" \"u\" \"u\" ...\n",
      " $ Price       : num  745000 542000 760000 481000 500000 ...\n",
      " $ Method      : chr  \"S\" \"S\" \"SP\" \"SP\" ...\n",
      " $ SellerG     : chr  \"Jellis\" \"Dingle\" \"Biggin\" \"Purplebricks\" ...\n",
      " $ Date        : chr  \"8/10/2016\" \"8/10/2016\" \"10/12/2016\" \"10/12/2016\" ...\n",
      " $ Distance    : num  2.5 2.5 2.5 2.5 2.5 2.5 2.5 2.5 2.5 2.5 ...\n",
      " $ Postcode    : int  3067 3067 3067 3067 3067 3067 3067 3067 3067 3067 ...\n",
      " $ Bedroom2    : int  3 3 3 3 3 3 3 3 3 3 ...\n",
      " $ Bathroom    : int  1 1 1 1 1 1 1 1 1 1 ...\n",
      " $ Car         : int  1 1 1 1 1 1 1 1 1 1 ...\n",
      " $ Landsize    : num  469 469 469 469 469 ...\n",
      " $ BuildingArea: num  147 147 147 147 147 ...\n",
      " $ YearBuilt   : int  1970 1970 1970 1970 1970 1970 1970 1970 1970 1970 ...\n",
      " $ CouncilArea : chr  NA NA NA NA ...\n",
      " $ Lattitude   : num  NA NA NA NA NA ...\n",
      " $ Longtitude  : num  NA NA NA NA NA ...\n"
     ]
    }
   ],
   "source": [
    "str(TU.data)"
   ]
  },
  {
   "cell_type": "code",
   "execution_count": 15,
   "metadata": {},
   "outputs": [
    {
     "name": "stdout",
     "output_type": "stream",
     "text": [
      "'data.frame':\t2744 obs. of  11 variables:\n",
      " $ Rooms       : int  2 2 2 1 1 2 1 1 3 2 ...\n",
      " $ Type        : chr  \"t\" \"u\" \"u\" \"u\" ...\n",
      " $ Price       : num  745000 542000 760000 481000 500000 ...\n",
      " $ Date        : chr  \"8/10/2016\" \"8/10/2016\" \"10/12/2016\" \"10/12/2016\" ...\n",
      " $ Postcode    : int  3067 3067 3067 3067 3067 3067 3067 3067 3067 3067 ...\n",
      " $ Bedroom2    : int  3 3 3 3 3 3 3 3 3 3 ...\n",
      " $ Bathroom    : int  1 1 1 1 1 1 1 1 1 1 ...\n",
      " $ Car         : int  1 1 1 1 1 1 1 1 1 1 ...\n",
      " $ Landsize    : num  469 469 469 469 469 ...\n",
      " $ BuildingArea: num  147 147 147 147 147 ...\n",
      " $ Longtitude  : num  NA NA NA NA NA ...\n"
     ]
    }
   ],
   "source": [
    "TU.data2 <- TU.data[c(-1,-2,-3,-4,-8,-9,-11,-18,-19,-20)] #removed unnecessary columns\n",
    "str(TU.data2)"
   ]
  },
  {
   "cell_type": "code",
   "execution_count": 16,
   "metadata": {},
   "outputs": [],
   "source": [
    "TU.data1<-factor(c(TU.data2$Type))"
   ]
  },
  {
   "cell_type": "code",
   "execution_count": 17,
   "metadata": {},
   "outputs": [
    {
     "name": "stdout",
     "output_type": "stream",
     "text": [
      " Factor w/ 2 levels \"t\",\"u\": 1 2 2 2 2 1 2 2 1 2 ...\n"
     ]
    }
   ],
   "source": [
    "str(TU.data1)"
   ]
  },
  {
   "cell_type": "code",
   "execution_count": 18,
   "metadata": {},
   "outputs": [],
   "source": [
    "library(\"openxlsx\")\n",
    "library(dplyr)"
   ]
  },
  {
   "cell_type": "code",
   "execution_count": 22,
   "metadata": {},
   "outputs": [],
   "source": [
    "TU <- mutate(TU.data, TypeValue = ifelse(TU.data2$Type == \"t\",0,1))"
   ]
  },
  {
   "cell_type": "code",
   "execution_count": 23,
   "metadata": {},
   "outputs": [
    {
     "name": "stdout",
     "output_type": "stream",
     "text": [
      "'data.frame':\t2744 obs. of  22 variables:\n",
      " $ X.1         : int  1 2 3 4 5 6 7 8 9 10 ...\n",
      " $ X           : int  17 20 22 23 28 34 46 47 55 61 ...\n",
      " $ Suburb      : chr  \"Abbotsford\" \"Abbotsford\" \"Abbotsford\" \"Abbotsford\" ...\n",
      " $ Address     : chr  \"18a Mollison St\" \"403/609 Victoria St\" \"25/84 Trenerry Cr\" \"106/119 Turner St\" ...\n",
      " $ Rooms       : int  2 2 2 1 1 2 1 1 3 2 ...\n",
      " $ Type        : chr  \"t\" \"u\" \"u\" \"u\" ...\n",
      " $ Price       : num  745000 542000 760000 481000 500000 ...\n",
      " $ Method      : chr  \"S\" \"S\" \"SP\" \"SP\" ...\n",
      " $ SellerG     : chr  \"Jellis\" \"Dingle\" \"Biggin\" \"Purplebricks\" ...\n",
      " $ Date        : chr  \"8/10/2016\" \"8/10/2016\" \"10/12/2016\" \"10/12/2016\" ...\n",
      " $ Distance    : num  2.5 2.5 2.5 2.5 2.5 2.5 2.5 2.5 2.5 2.5 ...\n",
      " $ Postcode    : int  3067 3067 3067 3067 3067 3067 3067 3067 3067 3067 ...\n",
      " $ Bedroom2    : int  3 3 3 3 3 3 3 3 3 3 ...\n",
      " $ Bathroom    : int  1 1 1 1 1 1 1 1 1 1 ...\n",
      " $ Car         : int  1 1 1 1 1 1 1 1 1 1 ...\n",
      " $ Landsize    : num  469 469 469 469 469 ...\n",
      " $ BuildingArea: num  147 147 147 147 147 ...\n",
      " $ YearBuilt   : int  1970 1970 1970 1970 1970 1970 1970 1970 1970 1970 ...\n",
      " $ CouncilArea : chr  NA NA NA NA ...\n",
      " $ Lattitude   : num  NA NA NA NA NA ...\n",
      " $ Longtitude  : num  NA NA NA NA NA ...\n",
      " $ TypeValue   : num  0 1 1 1 1 0 1 1 0 1 ...\n"
     ]
    }
   ],
   "source": [
    "str(TU)"
   ]
  },
  {
   "cell_type": "code",
   "execution_count": 24,
   "metadata": {},
   "outputs": [],
   "source": [
    "log.model1 <- glm(TypeValue ~ Price+Rooms, data=TU,family=binomial)"
   ]
  },
  {
   "cell_type": "code",
   "execution_count": 26,
   "metadata": {},
   "outputs": [
    {
     "data": {
      "image/png": "[encoded data removed]",
      "text/plain": [
       "plot without title"
      ]
     },
     "metadata": {},
     "output_type": "display_data"
    }
   ],
   "source": [
    "library(InformationValue)\n",
    "predicted1<- predict(log.model1, TU, type=\"response\")  # predicted scores\n",
    "#predictedU\n",
    "plotROC(TU, predicted1)"
   ]
  },
  {
   "cell_type": "code",
   "execution_count": 27,
   "metadata": {},
   "outputs": [
    {
     "data": {
      "text/html": [
       "<table>\n",
       "<thead><tr><th></th><th scope=col>0</th><th scope=col>1</th></tr></thead>\n",
       "<tbody>\n",
       "\t<tr><th scope=row>0</th><td>951 </td><td> 371</td></tr>\n",
       "\t<tr><th scope=row>1</th><td>326 </td><td>1096</td></tr>\n",
       "</tbody>\n",
       "</table>\n"
      ],
      "text/latex": [
       "\\begin{tabular}{r|ll}\n",
       "  & 0 & 1\\\\\n",
       "\\hline\n",
       "\t0 & 951  &  371\\\\\n",
       "\t1 & 326  & 1096\\\\\n",
       "\\end{tabular}\n"
      ],
      "text/markdown": [
       "\n",
       "| <!--/--> | 0 | 1 | \n",
       "|---|---|\n",
       "| 0 | 951  |  371 | \n",
       "| 1 | 326  | 1096 | \n",
       "\n",
       "\n"
      ],
      "text/plain": [
       "  0   1   \n",
       "0 951  371\n",
       "1 326 1096"
      ]
     },
     "metadata": {},
     "output_type": "display_data"
    }
   ],
   "source": [
    "confusionMatrix(TU$TypeValue, predicted1 >= 0.5)"
   ]
  },
  {
   "cell_type": "code",
   "execution_count": 28,
   "metadata": {},
   "outputs": [
    {
     "data": {
      "text/html": [
       "0.747102931152011"
      ],
      "text/latex": [
       "0.747102931152011"
      ],
      "text/markdown": [
       "0.747102931152011"
      ],
      "text/plain": [
       "[1] 0.7471029"
      ]
     },
     "metadata": {},
     "output_type": "display_data"
    },
    {
     "data": {
      "text/html": [
       "0.744714173844949"
      ],
      "text/latex": [
       "0.744714173844949"
      ],
      "text/markdown": [
       "0.744714173844949"
      ],
      "text/plain": [
       "[1] 0.7447142"
      ]
     },
     "metadata": {},
     "output_type": "display_data"
    }
   ],
   "source": [
    "sensitivity(TU$TypeValue, predicted1, threshold = 0.5)\n",
    "specificity(TU$TypeValue, predicted1, threshold = 0.5)"
   ]
  },
  {
   "cell_type": "code",
   "execution_count": 29,
   "metadata": {},
   "outputs": [],
   "source": [
    "pricedata <- data.frame(Price=seq(min(TU$Price), max(TU$Price),len=6736))\n",
    "pricedata <- mutate(pricedata, Rooms=seq(min(TU$Rooms),max(TU$Rooms),len=6736))"
   ]
  },
  {
   "cell_type": "code",
   "execution_count": 30,
   "metadata": {},
   "outputs": [
    {
     "data": {
      "image/png": "[encoded data removed]",
      "text/plain": [
       "plot without title"
      ]
     },
     "metadata": {},
     "output_type": "display_data"
    }
   ],
   "source": [
    "pricedata$TypeValue<- predict(log.model1,newdata=pricedata,type='response')\n",
    "\n",
    "plot(TypeValue~Price,data=TU,col=\"red4\",ylim=c(0,1))\n",
    "\n",
    "lines(TypeValue ~ Price, pricedata, col=\"green4\", lwd=2)"
   ]
  },
  {
   "cell_type": "code",
   "execution_count": null,
   "metadata": {},
   "outputs": [],
   "source": []
  }
 ],
 "metadata": {
  "kernelspec": {
   "display_name": "R",
   "language": "R",
   "name": "ir"
  },
  "language_info": {
   "codemirror_mode": "r",
   "file_extension": ".r",
   "mimetype": "text/x-r-source",
   "name": "R",
   "pygments_lexer": "r",
   "version": "3.5.1"
  }
 },
 "nbformat": 4,
 "nbformat_minor": 2
}
