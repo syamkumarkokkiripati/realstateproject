{
 "cells": [
  {
   "cell_type": "code",
   "execution_count": 3,
   "metadata": {},
   "outputs": [],
   "source": [
    "TH.data<- read.csv(\"D:RE71.csv\",header=TRUE,\n",
    "                    stringsAsFactors =FALSE,\n",
    "                    strip.white =TRUE,\n",
    "                    sep = ',', na.strings=c(\"\",\"NA\"))"
   ]
  },
  {
   "cell_type": "code",
   "execution_count": 4,
   "metadata": {},
   "outputs": [
    {
     "name": "stdout",
     "output_type": "stream",
     "text": [
      "'data.frame':\t8598 obs. of  21 variables:\n",
      " $ X.1         : int  1 2 3 4 5 6 7 8 9 10 ...\n",
      " $ X           : int  1 2 3 5 7 8 9 10 11 12 ...\n",
      " $ Suburb      : chr  \"Abbotsford\" \"Abbotsford\" \"Abbotsford\" \"Abbotsford\" ...\n",
      " $ Address     : chr  \"68 Studley St\" \"85 Turner St\" \"25 Bloomburg St\" \"5 Charles St\" ...\n",
      " $ Rooms       : int  2 2 2 3 4 4 2 2 2 3 ...\n",
      " $ Type        : chr  \"h\" \"h\" \"h\" \"h\" ...\n",
      " $ Price       : num  1076961 1480000 1035000 1465000 1600000 ...\n",
      " $ Method      : chr  \"SS\" \"S\" \"S\" \"SP\" ...\n",
      " $ SellerG     : chr  \"Jellis\" \"Biggin\" \"Biggin\" \"Biggin\" ...\n",
      " $ Date        : chr  \"3/09/2016\" \"3/12/2016\" \"4/02/2016\" \"4/03/2017\" ...\n",
      " $ Distance    : num  2.5 2.5 2.5 2.5 2.5 2.5 2.5 2.5 2.5 2.5 ...\n",
      " $ Postcode    : int  3067 3067 3067 3067 3067 3067 3067 3067 3067 3067 ...\n",
      " $ Bedroom2    : int  2 2 2 3 3 3 4 3 2 4 ...\n",
      " $ Bathroom    : int  1 1 1 2 1 2 1 2 1 2 ...\n",
      " $ Car         : int  1 1 0 0 2 2 2 1 0 0 ...\n",
      " $ Landsize    : num  126 202 156 134 120 400 201 202 181 245 ...\n",
      " $ BuildingArea: num  147 147 79 150 142 ...\n",
      " $ YearBuilt   : int  1970 1970 1900 1900 2014 2006 1900 1900 1970 1910 ...\n",
      " $ CouncilArea : chr  \"Yarra\" \"Yarra\" \"Yarra\" \"Yarra\" ...\n",
      " $ Lattitude   : num  -37.8 -37.8 -37.8 -37.8 -37.8 ...\n",
      " $ Longtitude  : num  145 145 145 145 145 ...\n"
     ]
    }
   ],
   "source": [
    "str(TH.data)"
   ]
  },
  {
   "cell_type": "code",
   "execution_count": 6,
   "metadata": {},
   "outputs": [
    {
     "name": "stdout",
     "output_type": "stream",
     "text": [
      "'data.frame':\t8598 obs. of  11 variables:\n",
      " $ Rooms       : int  2 2 2 3 4 4 2 2 2 3 ...\n",
      " $ Type        : chr  \"h\" \"h\" \"h\" \"h\" ...\n",
      " $ Price       : num  1076961 1480000 1035000 1465000 1600000 ...\n",
      " $ Date        : chr  \"3/09/2016\" \"3/12/2016\" \"4/02/2016\" \"4/03/2017\" ...\n",
      " $ Postcode    : int  3067 3067 3067 3067 3067 3067 3067 3067 3067 3067 ...\n",
      " $ Bedroom2    : int  2 2 2 3 3 3 4 3 2 4 ...\n",
      " $ Bathroom    : int  1 1 1 2 1 2 1 2 1 2 ...\n",
      " $ Car         : int  1 1 0 0 2 2 2 1 0 0 ...\n",
      " $ Landsize    : num  126 202 156 134 120 400 201 202 181 245 ...\n",
      " $ BuildingArea: num  147 147 79 150 142 ...\n",
      " $ Longtitude  : num  145 145 145 145 145 ...\n"
     ]
    }
   ],
   "source": [
    "TH.data2 <- TH.data[c(-1,-2,-3,-4,-8,-9,-11,-18,-19,-20)] #removed unnecessary columns\n",
    "str(TH.data2)"
   ]
  },
  {
   "cell_type": "code",
   "execution_count": 7,
   "metadata": {},
   "outputs": [],
   "source": [
    "TH.data1<-factor(c(TH.data2$Type))"
   ]
  },
  {
   "cell_type": "code",
   "execution_count": 8,
   "metadata": {},
   "outputs": [
    {
     "name": "stdout",
     "output_type": "stream",
     "text": [
      " Factor w/ 2 levels \"h\",\"t\": 1 1 1 1 1 1 1 1 1 1 ...\n"
     ]
    }
   ],
   "source": [
    "str(TH.data1)"
   ]
  },
  {
   "cell_type": "code",
   "execution_count": 9,
   "metadata": {},
   "outputs": [
    {
     "name": "stderr",
     "output_type": "stream",
     "text": [
      "Warning message:\n",
      "\"package 'openxlsx' was built under R version 3.5.2\"\n",
      "Attaching package: 'dplyr'\n",
      "\n",
      "The following objects are masked from 'package:stats':\n",
      "\n",
      "    filter, lag\n",
      "\n",
      "The following objects are masked from 'package:base':\n",
      "\n",
      "    intersect, setdiff, setequal, union\n",
      "\n"
     ]
    }
   ],
   "source": [
    "library(\"openxlsx\")\n",
    "library(dplyr)\n"
   ]
  },
  {
   "cell_type": "code",
   "execution_count": 13,
   "metadata": {},
   "outputs": [],
   "source": [
    "TH <- mutate(TH.data, TypeValue = ifelse(TH.data$Type == \"h\",0,1))"
   ]
  },
  {
   "cell_type": "code",
   "execution_count": 14,
   "metadata": {},
   "outputs": [
    {
     "name": "stdout",
     "output_type": "stream",
     "text": [
      "'data.frame':\t8598 obs. of  22 variables:\n",
      " $ X.1         : int  1 2 3 4 5 6 7 8 9 10 ...\n",
      " $ X           : int  1 2 3 5 7 8 9 10 11 12 ...\n",
      " $ Suburb      : chr  \"Abbotsford\" \"Abbotsford\" \"Abbotsford\" \"Abbotsford\" ...\n",
      " $ Address     : chr  \"68 Studley St\" \"85 Turner St\" \"25 Bloomburg St\" \"5 Charles St\" ...\n",
      " $ Rooms       : int  2 2 2 3 4 4 2 2 2 3 ...\n",
      " $ Type        : chr  \"h\" \"h\" \"h\" \"h\" ...\n",
      " $ Price       : num  1076961 1480000 1035000 1465000 1600000 ...\n",
      " $ Method      : chr  \"SS\" \"S\" \"S\" \"SP\" ...\n",
      " $ SellerG     : chr  \"Jellis\" \"Biggin\" \"Biggin\" \"Biggin\" ...\n",
      " $ Date        : chr  \"3/09/2016\" \"3/12/2016\" \"4/02/2016\" \"4/03/2017\" ...\n",
      " $ Distance    : num  2.5 2.5 2.5 2.5 2.5 2.5 2.5 2.5 2.5 2.5 ...\n",
      " $ Postcode    : int  3067 3067 3067 3067 3067 3067 3067 3067 3067 3067 ...\n",
      " $ Bedroom2    : int  2 2 2 3 3 3 4 3 2 4 ...\n",
      " $ Bathroom    : int  1 1 1 2 1 2 1 2 1 2 ...\n",
      " $ Car         : int  1 1 0 0 2 2 2 1 0 0 ...\n",
      " $ Landsize    : num  126 202 156 134 120 400 201 202 181 245 ...\n",
      " $ BuildingArea: num  147 147 79 150 142 ...\n",
      " $ YearBuilt   : int  1970 1970 1900 1900 2014 2006 1900 1900 1970 1910 ...\n",
      " $ CouncilArea : chr  \"Yarra\" \"Yarra\" \"Yarra\" \"Yarra\" ...\n",
      " $ Lattitude   : num  -37.8 -37.8 -37.8 -37.8 -37.8 ...\n",
      " $ Longtitude  : num  145 145 145 145 145 ...\n",
      " $ TypeValue   : num  0 0 0 0 0 0 0 0 0 0 ...\n"
     ]
    }
   ],
   "source": [
    "str(TH)"
   ]
  },
  {
   "cell_type": "code",
   "execution_count": 15,
   "metadata": {},
   "outputs": [],
   "source": [
    "log.model1 <- glm(TypeValue ~ Price+Rooms, data=TH,family=binomial)"
   ]
  },
  {
   "cell_type": "code",
   "execution_count": 17,
   "metadata": {},
   "outputs": [
    {
     "data": {
      "image/png": "[encoded data removed]",
      "text/plain": [
       "plot without title"
      ]
     },
     "metadata": {},
     "output_type": "display_data"
    }
   ],
   "source": [
    "library(InformationValue)\n",
    "predicted1<- predict(log.model1, TH, type=\"response\")  # predicted scores\n",
    "#predictedU\n",
    "plotROC(TH, predicted1)"
   ]
  },
  {
   "cell_type": "code",
   "execution_count": 18,
   "metadata": {},
   "outputs": [
    {
     "data": {
      "text/html": [
       "<table>\n",
       "<thead><tr><th></th><th scope=col>0</th><th scope=col>1</th></tr></thead>\n",
       "<tbody>\n",
       "\t<tr><th scope=row>0</th><td>7321</td><td>1277</td></tr>\n",
       "</tbody>\n",
       "</table>\n"
      ],
      "text/latex": [
       "\\begin{tabular}{r|ll}\n",
       "  & 0 & 1\\\\\n",
       "\\hline\n",
       "\t0 & 7321 & 1277\\\\\n",
       "\\end{tabular}\n"
      ],
      "text/markdown": [
       "\n",
       "| <!--/--> | 0 | 1 | \n",
       "|---|\n",
       "| 0 | 7321 | 1277 | \n",
       "\n",
       "\n"
      ],
      "text/plain": [
       "  0    1   \n",
       "0 7321 1277"
      ]
     },
     "metadata": {},
     "output_type": "display_data"
    }
   ],
   "source": [
    "confusionMatrix(TH$TypeValue, predicted1 >= 0.5)"
   ]
  },
  {
   "cell_type": "code",
   "execution_count": 19,
   "metadata": {},
   "outputs": [
    {
     "data": {
      "text/html": [
       "0"
      ],
      "text/latex": [
       "0"
      ],
      "text/markdown": [
       "0"
      ],
      "text/plain": [
       "[1] 0"
      ]
     },
     "metadata": {},
     "output_type": "display_data"
    },
    {
     "data": {
      "text/html": [
       "1"
      ],
      "text/latex": [
       "1"
      ],
      "text/markdown": [
       "1"
      ],
      "text/plain": [
       "[1] 1"
      ]
     },
     "metadata": {},
     "output_type": "display_data"
    }
   ],
   "source": [
    "sensitivity(TH$TypeValue, predicted1, threshold = 0.5)\n",
    "specificity(TH$TypeValue, predicted1, threshold = 0.5)"
   ]
  },
  {
   "cell_type": "code",
   "execution_count": 21,
   "metadata": {},
   "outputs": [],
   "source": [
    "pricedata <- data.frame(Price=seq(min(TH$Price), max(TH$Price),len=6736))\n",
    "pricedata <- mutate(pricedata, Rooms=seq(min(TH$Rooms),max(TH$Rooms),len=6736))"
   ]
  },
  {
   "cell_type": "code",
   "execution_count": 22,
   "metadata": {},
   "outputs": [
    {
     "data": {
      "image/png": "[encoded data removed]",
      "text/plain": [
       "plot without title"
      ]
     },
     "metadata": {},
     "output_type": "display_data"
    }
   ],
   "source": [
    "pricedata$TypeValue<- predict(log.model1,newdata=pricedata,type='response')\n",
    "\n",
    "plot(TypeValue~Price,data=TH,col=\"red4\",ylim=c(0,1))\n",
    "\n",
    "lines(TypeValue ~ Price, pricedata, col=\"green4\", lwd=2)"
   ]
  },
  {
   "cell_type": "code",
   "execution_count": null,
   "metadata": {},
   "outputs": [],
   "source": []
  }
 ],
 "metadata": {
  "kernelspec": {
   "display_name": "R",
   "language": "R",
   "name": "ir"
  },
  "language_info": {
   "codemirror_mode": "r",
   "file_extension": ".r",
   "mimetype": "text/x-r-source",
   "name": "R",
   "pygments_lexer": "r",
   "version": "3.5.1"
  }
 },
 "nbformat": 4,
 "nbformat_minor": 2
}
