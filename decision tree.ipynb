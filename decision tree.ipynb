{
 "cells": [
  {
   "cell_type": "code",
   "execution_count": 1,
   "metadata": {},
   "outputs": [
    {
     "name": "stderr",
     "output_type": "stream",
     "text": [
      "Warning message:\n",
      "\"package 'party' was built under R version 3.5.2\"Loading required package: grid\n",
      "Loading required package: mvtnorm\n",
      "Warning message:\n",
      "\"package 'mvtnorm' was built under R version 3.5.2\"Loading required package: modeltools\n",
      "Warning message:\n",
      "\"package 'modeltools' was built under R version 3.5.2\"Loading required package: stats4\n",
      "Loading required package: strucchange\n",
      "Warning message:\n",
      "\"package 'strucchange' was built under R version 3.5.2\"Loading required package: zoo\n",
      "Warning message:\n",
      "\"package 'zoo' was built under R version 3.5.2\"\n",
      "Attaching package: 'zoo'\n",
      "\n",
      "The following objects are masked from 'package:base':\n",
      "\n",
      "    as.Date, as.Date.numeric\n",
      "\n",
      "Loading required package: sandwich\n",
      "Warning message:\n",
      "\"package 'sandwich' was built under R version 3.5.2\"Warning message:\n",
      "\"package 'tree' was built under R version 3.5.2\"Warning message:\n",
      "\"package 'rpart' was built under R version 3.5.2\"Warning message:\n",
      "\"package 'rattle' was built under R version 3.5.2\"Rattle: A free graphical interface for data science with R.\n",
      "Version 5.2.0 Copyright (c) 2006-2018 Togaware Pty Ltd.\n",
      "Type 'rattle()' to shake, rattle, and roll your data.\n",
      "Warning message:\n",
      "\"package 'partykit' was built under R version 3.5.2\"Loading required package: libcoin\n",
      "Warning message:\n",
      "\"package 'libcoin' was built under R version 3.5.2\"\n",
      "Attaching package: 'partykit'\n",
      "\n",
      "The following objects are masked from 'package:party':\n",
      "\n",
      "    cforest, ctree, ctree_control, edge_simple, mob, mob_control,\n",
      "    node_barplot, node_bivplot, node_boxplot, node_inner, node_surv,\n",
      "    node_terminal, varimp\n",
      "\n"
     ]
    }
   ],
   "source": [
    "library(\"party\")\n",
    "library(tree)\n",
    "library(rpart)\n",
    "library(rattle)\n",
    "library(partykit)\n",
    "\n"
   ]
  },
  {
   "cell_type": "code",
   "execution_count": 2,
   "metadata": {},
   "outputs": [
    {
     "name": "stdout",
     "output_type": "stream",
     "text": [
      "'data.frame':\t10089 obs. of  20 variables:\n",
      " $ X           : int  1 2 3 5 7 8 9 10 11 12 ...\n",
      " $ Suburb      : Factor w/ 143 levels \"Abbotsford\",\"Aberfeldie\",..: 1 1 1 1 1 1 1 1 1 1 ...\n",
      " $ Address     : Factor w/ 9932 levels \";\",\"1 Abercrombie St\",..: 8656 9504 4509 7476 7999 2444 7904 9917 1671 1633 ...\n",
      " $ Rooms       : int  2 2 2 3 4 4 2 2 2 3 ...\n",
      " $ Type        : Factor w/ 3 levels \"h\",\"t\",\"u\": 1 1 1 1 1 1 1 1 1 1 ...\n",
      " $ Price       : num  1076961 1480000 1035000 1465000 1600000 ...\n",
      " $ Method      : Factor w/ 9 levels \"PI\",\"PN\",\"S\",..: 7 3 3 6 8 5 3 3 3 3 ...\n",
      " $ SellerG     : Factor w/ 208 levels \"@Realty\",\"Abercromby's\",..: 99 20 20 20 135 135 20 45 99 135 ...\n",
      " $ Date        : Factor w/ 42 levels \"10/09/2016\",\"10/12/2016\",..: 31 32 34 35 36 38 38 38 39 39 ...\n",
      " $ Distance    : num  2.5 2.5 2.5 2.5 2.5 2.5 2.5 2.5 2.5 2.5 ...\n",
      " $ Postcode    : int  3067 3067 3067 3067 3067 3067 3067 3067 3067 3067 ...\n",
      " $ Bedroom2    : int  2 2 2 3 3 3 4 3 2 4 ...\n",
      " $ Bathroom    : int  1 1 1 2 1 2 1 2 1 2 ...\n",
      " $ Car         : int  1 1 0 0 2 2 2 1 0 0 ...\n",
      " $ Landsize    : num  126 202 156 134 120 400 201 202 181 245 ...\n",
      " $ BuildingArea: num  147 147 79 150 142 ...\n",
      " $ YearBuilt   : int  1970 1970 1900 1900 2014 2006 1900 1900 1970 1910 ...\n",
      " $ CouncilArea : Factor w/ 19 levels \"Banyule\",\"Bayside\",..: 19 19 19 19 19 19 19 19 19 19 ...\n",
      " $ Lattitude   : num  -37.8 -37.8 -37.8 -37.8 -37.8 ...\n",
      " $ Longtitude  : num  145 145 145 145 145 ...\n"
     ]
    }
   ],
   "source": [
    "dt1 <- read.csv(\"D:RE723.csv\")\n",
    "str(dt1)"
   ]
  },
  {
   "cell_type": "code",
   "execution_count": 3,
   "metadata": {},
   "outputs": [
    {
     "name": "stdout",
     "output_type": "stream",
     "text": [
      "'data.frame':\t10089 obs. of  9 variables:\n",
      " $ Rooms       : int  2 2 2 3 4 4 2 2 2 3 ...\n",
      " $ Type        : Factor w/ 3 levels \"h\",\"t\",\"u\": 1 1 1 1 1 1 1 1 1 1 ...\n",
      " $ Price       : num  1076961 1480000 1035000 1465000 1600000 ...\n",
      " $ Distance    : num  2.5 2.5 2.5 2.5 2.5 2.5 2.5 2.5 2.5 2.5 ...\n",
      " $ Bedroom2    : int  2 2 2 3 3 3 4 3 2 4 ...\n",
      " $ Bathroom    : int  1 1 1 2 1 2 1 2 1 2 ...\n",
      " $ Car         : int  1 1 0 0 2 2 2 1 0 0 ...\n",
      " $ Landsize    : num  126 202 156 134 120 400 201 202 181 245 ...\n",
      " $ BuildingArea: num  147 147 79 150 142 ...\n"
     ]
    }
   ],
   "source": [
    "dt <- dt1[c(-1,-2,-3,-7,-8,-9,-11,-17,-18,-19,-20)]\n",
    "\n",
    "str(dt)"
   ]
  },
  {
   "cell_type": "code",
   "execution_count": 4,
   "metadata": {},
   "outputs": [
    {
     "data": {
      "text/plain": [
       "\n",
       "Classification tree:\n",
       "tree(formula = Type ~ Rooms, data = dt)\n",
       "Number of terminal nodes:  4 \n",
       "Residual mean deviance:  1.332 = 13410 / 10060 \n",
       "Misclassification error rate: 0.2584 = 2601 / 10065 "
      ]
     },
     "metadata": {},
     "output_type": "display_data"
    },
    {
     "data": {
      "image/png": "[encoded data removed]",
      "text/plain": [
       "plot without title"
      ]
     },
     "metadata": {},
     "output_type": "display_data"
    }
   ],
   "source": [
    "tree1 <- tree(Type~Rooms,data = dt)\n",
    "summary(tree1)\n",
    "plot(tree1)\n",
    "text(tree1)"
   ]
  },
  {
   "cell_type": "code",
   "execution_count": 5,
   "metadata": {},
   "outputs": [],
   "source": [
    "rpart <- rpart(Type ~ ., data=dt, method=\"class\")"
   ]
  },
  {
   "cell_type": "code",
   "execution_count": 6,
   "metadata": {},
   "outputs": [
    {
     "data": {
      "image/png": "[encoded data removed]",
      "text/plain": [
       "Plot with title \"Melbourne\""
      ]
     },
     "metadata": {},
     "output_type": "display_data"
    }
   ],
   "source": [
    "fancyRpartPlot(rpart, main=\"Melbourne\")"
   ]
  },
  {
   "cell_type": "code",
   "execution_count": null,
   "metadata": {},
   "outputs": [],
   "source": []
  }
 ],
 "metadata": {
  "kernelspec": {
   "display_name": "R",
   "language": "R",
   "name": "ir"
  },
  "language_info": {
   "codemirror_mode": "r",
   "file_extension": ".r",
   "mimetype": "text/x-r-source",
   "name": "R",
   "pygments_lexer": "r",
   "version": "3.5.1"
  }
 },
 "nbformat": 4,
 "nbformat_minor": 2
}
